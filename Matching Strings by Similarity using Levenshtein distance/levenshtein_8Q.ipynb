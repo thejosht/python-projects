{
 "cells": [
  {
   "cell_type": "markdown",
   "id": "da26f3a4",
   "metadata": {},
   "source": [
    "# Matching Strings by Similarity (Levenshtein Distance)\n",
    "Answer each numbered task below."
   ]
  },
  {
   "cell_type": "markdown",
   "id": "15eec227",
   "metadata": {},
   "source": [
    "### Load the two CSVs"
   ]
  },
  {
   "cell_type": "code",
   "execution_count": 13,
   "id": "710094ed-2b51-4168-bfca-3a735e057e85",
   "metadata": {
    "tags": []
   },
   "outputs": [
    {
     "name": "stdout",
     "output_type": "stream",
     "text": [
      "Note: you may need to restart the kernel to use updated packages.\n"
     ]
    }
   ],
   "source": [
    "%pip install \"thefuzz[speedup]\" -q"
   ]
  },
  {
   "cell_type": "code",
   "execution_count": 14,
   "id": "9003b4b9",
   "metadata": {
    "tags": []
   },
   "outputs": [
    {
     "data": {
      "text/plain": [
       "(                                  CLIENT\n",
       " 0                    Adobe Systems, Inc.\n",
       " 1                       Adventist Health\n",
       " 2                                  AECOM\n",
       " 3   Aerojet Rockedyne Holdings (GenCorp)\n",
       " 4  Alameda-Contra Costa Transit District,\n",
       "                                            Firm Name\n",
       " 0  AAA Northern California, Nevada & Utah Auto Ex...\n",
       " 1                            ACCO Engineered Systems\n",
       " 2                       Adams County Retirement Plan\n",
       " 3                               Adidas America, Inc.\n",
       " 4                                Adobe Systems, Inc.)"
      ]
     },
     "execution_count": 14,
     "metadata": {},
     "output_type": "execute_result"
    }
   ],
   "source": [
    "\n",
    "import pandas as pd\n",
    "import itertools \n",
    "from thefuzz import fuzz, process    # pip install thefuzz[speedup] if needed\n",
    "\n",
    "df1 = pd.read_csv('companies_1.csv')\n",
    "df2 = pd.read_csv('companies_2.csv')\n",
    "df1.head(), df2.head()\n"
   ]
  },
  {
   "cell_type": "markdown",
   "id": "c38b29a6",
   "metadata": {
    "jp-MarkdownHeadingCollapsed": true,
    "tags": []
   },
   "source": [
    "## 1️⃣  Create `df` with the cartesian product (`CSV 1`, `CSV 2`)"
   ]
  },
  {
   "cell_type": "code",
   "execution_count": 17,
   "id": "25b19751-b2f6-4c2e-a5b9-9ac1160dddde",
   "metadata": {
    "tags": []
   },
   "outputs": [],
   "source": [
    "product = itertools.product(df1['CLIENT'], df2['Firm Name'])\n",
    "cartesian_df = pd.DataFrame(product, columns=['CSV 1','CSV 2'])"
   ]
  },
  {
   "cell_type": "code",
   "execution_count": 20,
   "id": "4f118519-72ae-404a-9275-13ff8e304aac",
   "metadata": {
    "tags": []
   },
   "outputs": [
    {
     "data": {
      "text/html": [
       "<div>\n",
       "<style scoped>\n",
       "    .dataframe tbody tr th:only-of-type {\n",
       "        vertical-align: middle;\n",
       "    }\n",
       "\n",
       "    .dataframe tbody tr th {\n",
       "        vertical-align: top;\n",
       "    }\n",
       "\n",
       "    .dataframe thead th {\n",
       "        text-align: right;\n",
       "    }\n",
       "</style>\n",
       "<table border=\"1\" class=\"dataframe\">\n",
       "  <thead>\n",
       "    <tr style=\"text-align: right;\">\n",
       "      <th></th>\n",
       "      <th>CSV 1</th>\n",
       "      <th>CSV 2</th>\n",
       "    </tr>\n",
       "  </thead>\n",
       "  <tbody>\n",
       "    <tr>\n",
       "      <th>0</th>\n",
       "      <td>Adobe Systems, Inc.</td>\n",
       "      <td>AAA Northern California, Nevada &amp; Utah Auto Ex...</td>\n",
       "    </tr>\n",
       "    <tr>\n",
       "      <th>1</th>\n",
       "      <td>Adobe Systems, Inc.</td>\n",
       "      <td>ACCO Engineered Systems</td>\n",
       "    </tr>\n",
       "    <tr>\n",
       "      <th>2</th>\n",
       "      <td>Adobe Systems, Inc.</td>\n",
       "      <td>Adams County Retirement Plan</td>\n",
       "    </tr>\n",
       "    <tr>\n",
       "      <th>3</th>\n",
       "      <td>Adobe Systems, Inc.</td>\n",
       "      <td>Adidas America, Inc.</td>\n",
       "    </tr>\n",
       "    <tr>\n",
       "      <th>4</th>\n",
       "      <td>Adobe Systems, Inc.</td>\n",
       "      <td>Adobe Systems, Inc.</td>\n",
       "    </tr>\n",
       "  </tbody>\n",
       "</table>\n",
       "</div>"
      ],
      "text/plain": [
       "                 CSV 1                                              CSV 2\n",
       "0  Adobe Systems, Inc.  AAA Northern California, Nevada & Utah Auto Ex...\n",
       "1  Adobe Systems, Inc.                            ACCO Engineered Systems\n",
       "2  Adobe Systems, Inc.                       Adams County Retirement Plan\n",
       "3  Adobe Systems, Inc.                               Adidas America, Inc.\n",
       "4  Adobe Systems, Inc.                                Adobe Systems, Inc."
      ]
     },
     "execution_count": 20,
     "metadata": {},
     "output_type": "execute_result"
    }
   ],
   "source": [
    "cartesian_df.head()"
   ]
  },
  {
   "cell_type": "code",
   "execution_count": 22,
   "id": "a7446267-bb7e-438e-9a0c-c5c178d05d39",
   "metadata": {
    "tags": []
   },
   "outputs": [
    {
     "data": {
      "text/plain": [
       "(97888, 2)"
      ]
     },
     "execution_count": 22,
     "metadata": {},
     "output_type": "execute_result"
    }
   ],
   "source": [
    "cartesian_df.shape"
   ]
  },
  {
   "cell_type": "code",
   "execution_count": null,
   "id": "f2dced31-c463-4275-bcd2-5debf3da7322",
   "metadata": {},
   "outputs": [],
   "source": [
    "## **Calculating the Levenshtein distance** "
   ]
  },
  {
   "cell_type": "markdown",
   "id": "ce1ecf3d-1155-4058-9987-78c1cd59c63e",
   "metadata": {
    "tags": []
   },
   "source": [
    "## 2️⃣  Add `Ratio Score` column using `fuzz.partial_ratio`"
   ]
  },
  {
   "cell_type": "code",
   "execution_count": 38,
   "id": "d1433129",
   "metadata": {},
   "outputs": [],
   "source": [
    "score = [fuzz.partial_ratio(c1, c2) for c1, c2 in zip(cartesian_df['CSV 1'], cartesian_df['CSV 2'])]"
   ]
  },
  {
   "cell_type": "code",
   "execution_count": 39,
   "id": "86f7fb46-4947-419a-8230-62404fe73849",
   "metadata": {
    "tags": []
   },
   "outputs": [
    {
     "data": {
      "text/plain": [
       "[32, 64, 41, 50, 100, 59, 29, 35, 54, 60]"
      ]
     },
     "execution_count": 39,
     "metadata": {},
     "output_type": "execute_result"
    }
   ],
   "source": [
    "score[:10]"
   ]
  },
  {
   "cell_type": "code",
   "execution_count": 33,
   "id": "79298eeb-6cf0-4b1d-90bc-bce0c219ce35",
   "metadata": {
    "tags": []
   },
   "outputs": [],
   "source": [
    "cartesian_df['Ratio Score'] = score"
   ]
  },
  {
   "cell_type": "code",
   "execution_count": 35,
   "id": "7c987bdc-1c2b-47b7-be71-1b9cbdb2201a",
   "metadata": {
    "tags": []
   },
   "outputs": [
    {
     "data": {
      "text/html": [
       "<div>\n",
       "<style scoped>\n",
       "    .dataframe tbody tr th:only-of-type {\n",
       "        vertical-align: middle;\n",
       "    }\n",
       "\n",
       "    .dataframe tbody tr th {\n",
       "        vertical-align: top;\n",
       "    }\n",
       "\n",
       "    .dataframe thead th {\n",
       "        text-align: right;\n",
       "    }\n",
       "</style>\n",
       "<table border=\"1\" class=\"dataframe\">\n",
       "  <thead>\n",
       "    <tr style=\"text-align: right;\">\n",
       "      <th></th>\n",
       "      <th>CSV 1</th>\n",
       "      <th>CSV 2</th>\n",
       "      <th>Ratio Score</th>\n",
       "    </tr>\n",
       "  </thead>\n",
       "  <tbody>\n",
       "    <tr>\n",
       "      <th>0</th>\n",
       "      <td>Adobe Systems, Inc.</td>\n",
       "      <td>AAA Northern California, Nevada &amp; Utah Auto Ex...</td>\n",
       "      <td>32</td>\n",
       "    </tr>\n",
       "    <tr>\n",
       "      <th>1</th>\n",
       "      <td>Adobe Systems, Inc.</td>\n",
       "      <td>ACCO Engineered Systems</td>\n",
       "      <td>64</td>\n",
       "    </tr>\n",
       "    <tr>\n",
       "      <th>2</th>\n",
       "      <td>Adobe Systems, Inc.</td>\n",
       "      <td>Adams County Retirement Plan</td>\n",
       "      <td>41</td>\n",
       "    </tr>\n",
       "    <tr>\n",
       "      <th>3</th>\n",
       "      <td>Adobe Systems, Inc.</td>\n",
       "      <td>Adidas America, Inc.</td>\n",
       "      <td>50</td>\n",
       "    </tr>\n",
       "    <tr>\n",
       "      <th>4</th>\n",
       "      <td>Adobe Systems, Inc.</td>\n",
       "      <td>Adobe Systems, Inc.</td>\n",
       "      <td>100</td>\n",
       "    </tr>\n",
       "    <tr>\n",
       "      <th>5</th>\n",
       "      <td>Adobe Systems, Inc.</td>\n",
       "      <td>Advanced Micro Devices, Inc.</td>\n",
       "      <td>59</td>\n",
       "    </tr>\n",
       "    <tr>\n",
       "      <th>6</th>\n",
       "      <td>Adobe Systems, Inc.</td>\n",
       "      <td>AECOM Technology Corporation</td>\n",
       "      <td>29</td>\n",
       "    </tr>\n",
       "    <tr>\n",
       "      <th>7</th>\n",
       "      <td>Adobe Systems, Inc.</td>\n",
       "      <td>Aera Energy LLC</td>\n",
       "      <td>35</td>\n",
       "    </tr>\n",
       "    <tr>\n",
       "      <th>8</th>\n",
       "      <td>Adobe Systems, Inc.</td>\n",
       "      <td>Aerojet Rocketdyne Holdings, Inc.</td>\n",
       "      <td>54</td>\n",
       "    </tr>\n",
       "    <tr>\n",
       "      <th>9</th>\n",
       "      <td>Adobe Systems, Inc.</td>\n",
       "      <td>Agilent Technologies, Inc.</td>\n",
       "      <td>60</td>\n",
       "    </tr>\n",
       "  </tbody>\n",
       "</table>\n",
       "</div>"
      ],
      "text/plain": [
       "                 CSV 1                                              CSV 2  \\\n",
       "0  Adobe Systems, Inc.  AAA Northern California, Nevada & Utah Auto Ex...   \n",
       "1  Adobe Systems, Inc.                            ACCO Engineered Systems   \n",
       "2  Adobe Systems, Inc.                       Adams County Retirement Plan   \n",
       "3  Adobe Systems, Inc.                               Adidas America, Inc.   \n",
       "4  Adobe Systems, Inc.                                Adobe Systems, Inc.   \n",
       "5  Adobe Systems, Inc.                       Advanced Micro Devices, Inc.   \n",
       "6  Adobe Systems, Inc.                       AECOM Technology Corporation   \n",
       "7  Adobe Systems, Inc.                                    Aera Energy LLC   \n",
       "8  Adobe Systems, Inc.                  Aerojet Rocketdyne Holdings, Inc.   \n",
       "9  Adobe Systems, Inc.                         Agilent Technologies, Inc.   \n",
       "\n",
       "   Ratio Score  \n",
       "0           32  \n",
       "1           64  \n",
       "2           41  \n",
       "3           50  \n",
       "4          100  \n",
       "5           59  \n",
       "6           29  \n",
       "7           35  \n",
       "8           54  \n",
       "9           60  "
      ]
     },
     "execution_count": 35,
     "metadata": {},
     "output_type": "execute_result"
    }
   ],
   "source": [
    "cartesian_df.head(10)"
   ]
  },
  {
   "cell_type": "code",
   "execution_count": 41,
   "id": "412ff85c-ada5-46b6-9f1f-e043b1ebbbe3",
   "metadata": {
    "tags": []
   },
   "outputs": [
    {
     "data": {
      "text/plain": [
       "(97888, 3)"
      ]
     },
     "execution_count": 41,
     "metadata": {},
     "output_type": "execute_result"
    }
   ],
   "source": [
    "cartesian_df.shape"
   ]
  },
  {
   "cell_type": "markdown",
   "id": "d5a6602b",
   "metadata": {
    "tags": []
   },
   "source": [
    "## 3️⃣  How many rows have a **Ratio Score ≥ 90**?"
   ]
  },
  {
   "cell_type": "code",
   "execution_count": 48,
   "id": "5d88ffe6",
   "metadata": {},
   "outputs": [
    {
     "data": {
      "text/html": [
       "<div>\n",
       "<style scoped>\n",
       "    .dataframe tbody tr th:only-of-type {\n",
       "        vertical-align: middle;\n",
       "    }\n",
       "\n",
       "    .dataframe tbody tr th {\n",
       "        vertical-align: top;\n",
       "    }\n",
       "\n",
       "    .dataframe thead th {\n",
       "        text-align: right;\n",
       "    }\n",
       "</style>\n",
       "<table border=\"1\" class=\"dataframe\">\n",
       "  <thead>\n",
       "    <tr style=\"text-align: right;\">\n",
       "      <th></th>\n",
       "      <th>CSV 1</th>\n",
       "      <th>CSV 2</th>\n",
       "      <th>Ratio Score</th>\n",
       "    </tr>\n",
       "  </thead>\n",
       "  <tbody>\n",
       "    <tr>\n",
       "      <th>4</th>\n",
       "      <td>Adobe Systems, Inc.</td>\n",
       "      <td>Adobe Systems, Inc.</td>\n",
       "      <td>100</td>\n",
       "    </tr>\n",
       "    <tr>\n",
       "      <th>742</th>\n",
       "      <td>AECOM</td>\n",
       "      <td>AECOM Technology Corporation</td>\n",
       "      <td>100</td>\n",
       "    </tr>\n",
       "    <tr>\n",
       "      <th>1112</th>\n",
       "      <td>Aerojet Rockedyne Holdings (GenCorp)</td>\n",
       "      <td>Aerojet Rocketdyne Holdings, Inc.</td>\n",
       "      <td>90</td>\n",
       "    </tr>\n",
       "    <tr>\n",
       "      <th>1484</th>\n",
       "      <td>Alameda-Contra Costa Transit District</td>\n",
       "      <td>Alameda-Contra Costa Transit District</td>\n",
       "      <td>100</td>\n",
       "    </tr>\n",
       "    <tr>\n",
       "      <th>3697</th>\n",
       "      <td>Amazon</td>\n",
       "      <td>Amazon.com Holdings, Inc.</td>\n",
       "      <td>100</td>\n",
       "    </tr>\n",
       "  </tbody>\n",
       "</table>\n",
       "</div>"
      ],
      "text/plain": [
       "                                      CSV 1  \\\n",
       "4                       Adobe Systems, Inc.   \n",
       "742                                   AECOM   \n",
       "1112   Aerojet Rockedyne Holdings (GenCorp)   \n",
       "1484  Alameda-Contra Costa Transit District   \n",
       "3697                                 Amazon   \n",
       "\n",
       "                                      CSV 2  Ratio Score  \n",
       "4                       Adobe Systems, Inc.          100  \n",
       "742            AECOM Technology Corporation          100  \n",
       "1112      Aerojet Rocketdyne Holdings, Inc.           90  \n",
       "1484  Alameda-Contra Costa Transit District          100  \n",
       "3697              Amazon.com Holdings, Inc.          100  "
      ]
     },
     "execution_count": 48,
     "metadata": {},
     "output_type": "execute_result"
    }
   ],
   "source": [
    "cartesian_df.loc[cartesian_df['Ratio Score'] >= 90].head()"
   ]
  },
  {
   "cell_type": "code",
   "execution_count": 75,
   "id": "0d74280b-2efa-4310-96c6-76ba98764b71",
   "metadata": {
    "tags": []
   },
   "outputs": [
    {
     "data": {
      "text/plain": [
       "(135, 3)"
      ]
     },
     "execution_count": 75,
     "metadata": {},
     "output_type": "execute_result"
    }
   ],
   "source": [
    "cartesian_df.loc[cartesian_df['Ratio Score'] >= 90].shape"
   ]
  },
  {
   "cell_type": "markdown",
   "id": "ed061b36",
   "metadata": {},
   "source": [
    "## 4️⃣  What’s the corresponding company in **CSV 2** to **AECOM** in **CSV 1**?"
   ]
  },
  {
   "cell_type": "code",
   "execution_count": 55,
   "id": "72773bb7",
   "metadata": {},
   "outputs": [
    {
     "data": {
      "text/html": [
       "<div>\n",
       "<style scoped>\n",
       "    .dataframe tbody tr th:only-of-type {\n",
       "        vertical-align: middle;\n",
       "    }\n",
       "\n",
       "    .dataframe tbody tr th {\n",
       "        vertical-align: top;\n",
       "    }\n",
       "\n",
       "    .dataframe thead th {\n",
       "        text-align: right;\n",
       "    }\n",
       "</style>\n",
       "<table border=\"1\" class=\"dataframe\">\n",
       "  <thead>\n",
       "    <tr style=\"text-align: right;\">\n",
       "      <th></th>\n",
       "      <th>CSV 1</th>\n",
       "      <th>CSV 2</th>\n",
       "      <th>Ratio Score</th>\n",
       "    </tr>\n",
       "  </thead>\n",
       "  <tbody>\n",
       "    <tr>\n",
       "      <th>742</th>\n",
       "      <td>AECOM</td>\n",
       "      <td>AECOM Technology Corporation</td>\n",
       "      <td>100</td>\n",
       "    </tr>\n",
       "  </tbody>\n",
       "</table>\n",
       "</div>"
      ],
      "text/plain": [
       "     CSV 1                         CSV 2  Ratio Score\n",
       "742  AECOM  AECOM Technology Corporation          100"
      ]
     },
     "execution_count": 55,
     "metadata": {},
     "output_type": "execute_result"
    }
   ],
   "source": [
    "cartesian_df.query(\"`CSV 1` == 'AECOM' and `Ratio Score` > 80\")"
   ]
  },
  {
   "cell_type": "markdown",
   "id": "d523bde4",
   "metadata": {},
   "source": [
    "## 5️⃣  What’s the corresponding **CSV 2** company of **Starbucks**?"
   ]
  },
  {
   "cell_type": "code",
   "execution_count": 56,
   "id": "f638ebf9",
   "metadata": {},
   "outputs": [
    {
     "data": {
      "text/html": [
       "<div>\n",
       "<style scoped>\n",
       "    .dataframe tbody tr th:only-of-type {\n",
       "        vertical-align: middle;\n",
       "    }\n",
       "\n",
       "    .dataframe tbody tr th {\n",
       "        vertical-align: top;\n",
       "    }\n",
       "\n",
       "    .dataframe thead th {\n",
       "        text-align: right;\n",
       "    }\n",
       "</style>\n",
       "<table border=\"1\" class=\"dataframe\">\n",
       "  <thead>\n",
       "    <tr style=\"text-align: right;\">\n",
       "      <th></th>\n",
       "      <th>CSV 1</th>\n",
       "      <th>CSV 2</th>\n",
       "      <th>Ratio Score</th>\n",
       "    </tr>\n",
       "  </thead>\n",
       "  <tbody>\n",
       "    <tr>\n",
       "      <th>77948</th>\n",
       "      <td>Starbucks</td>\n",
       "      <td>Starbucks Corporation</td>\n",
       "      <td>100</td>\n",
       "    </tr>\n",
       "  </tbody>\n",
       "</table>\n",
       "</div>"
      ],
      "text/plain": [
       "           CSV 1                  CSV 2  Ratio Score\n",
       "77948  Starbucks  Starbucks Corporation          100"
      ]
     },
     "execution_count": 56,
     "metadata": {},
     "output_type": "execute_result"
    }
   ],
   "source": [
    "cartesian_df.query(\"`CSV 1` == 'Starbucks' and `Ratio Score` > 80\")"
   ]
  },
  {
   "cell_type": "markdown",
   "id": "f7efa2be",
   "metadata": {},
   "source": [
    "## 6️⃣  Is there a matching company (>90) for **Pinnacle West Capital Corporation** in **CSV 2**?"
   ]
  },
  {
   "cell_type": "code",
   "execution_count": 57,
   "id": "b9bc3bee",
   "metadata": {},
   "outputs": [
    {
     "data": {
      "text/html": [
       "<div>\n",
       "<style scoped>\n",
       "    .dataframe tbody tr th:only-of-type {\n",
       "        vertical-align: middle;\n",
       "    }\n",
       "\n",
       "    .dataframe tbody tr th {\n",
       "        vertical-align: top;\n",
       "    }\n",
       "\n",
       "    .dataframe thead th {\n",
       "        text-align: right;\n",
       "    }\n",
       "</style>\n",
       "<table border=\"1\" class=\"dataframe\">\n",
       "  <thead>\n",
       "    <tr style=\"text-align: right;\">\n",
       "      <th></th>\n",
       "      <th>CSV 1</th>\n",
       "      <th>CSV 2</th>\n",
       "      <th>Ratio Score</th>\n",
       "    </tr>\n",
       "  </thead>\n",
       "  <tbody>\n",
       "    <tr>\n",
       "      <th>61130</th>\n",
       "      <td>Pinnacle West Capital Corporation</td>\n",
       "      <td>Ball Corporation</td>\n",
       "      <td>93</td>\n",
       "    </tr>\n",
       "  </tbody>\n",
       "</table>\n",
       "</div>"
      ],
      "text/plain": [
       "                                   CSV 1             CSV 2  Ratio Score\n",
       "61130  Pinnacle West Capital Corporation  Ball Corporation           93"
      ]
     },
     "execution_count": 57,
     "metadata": {},
     "output_type": "execute_result"
    }
   ],
   "source": [
    "cartesian_df.query(\"`CSV 1` == 'Pinnacle West Capital Corporation' and `Ratio Score` > 90\")"
   ]
  },
  {
   "cell_type": "markdown",
   "id": "760b1435",
   "metadata": {},
   "source": [
    "## 7️⃣  How many matching companies are there for **County of Los Angeles Deferred Compensation Program**?"
   ]
  },
  {
   "cell_type": "code",
   "execution_count": 72,
   "id": "09e6de74",
   "metadata": {},
   "outputs": [
    {
     "data": {
      "text/html": [
       "<div>\n",
       "<style scoped>\n",
       "    .dataframe tbody tr th:only-of-type {\n",
       "        vertical-align: middle;\n",
       "    }\n",
       "\n",
       "    .dataframe tbody tr th {\n",
       "        vertical-align: top;\n",
       "    }\n",
       "\n",
       "    .dataframe thead th {\n",
       "        text-align: right;\n",
       "    }\n",
       "</style>\n",
       "<table border=\"1\" class=\"dataframe\">\n",
       "  <thead>\n",
       "    <tr style=\"text-align: right;\">\n",
       "      <th></th>\n",
       "      <th>CSV 1</th>\n",
       "      <th>CSV 2</th>\n",
       "      <th>Ratio Score</th>\n",
       "    </tr>\n",
       "  </thead>\n",
       "  <tbody>\n",
       "    <tr>\n",
       "      <th>26206</th>\n",
       "      <td>County of Los Angeles Deferred Compensation Pr...</td>\n",
       "      <td>City of Los Angeles Deferred Compensation</td>\n",
       "      <td>95</td>\n",
       "    </tr>\n",
       "    <tr>\n",
       "      <th>26227</th>\n",
       "      <td>County of Los Angeles Deferred Compensation Pr...</td>\n",
       "      <td>County of Los Angeles Deferred Compensation Pr...</td>\n",
       "      <td>100</td>\n",
       "    </tr>\n",
       "  </tbody>\n",
       "</table>\n",
       "</div>"
      ],
      "text/plain": [
       "                                                   CSV 1  \\\n",
       "26206  County of Los Angeles Deferred Compensation Pr...   \n",
       "26227  County of Los Angeles Deferred Compensation Pr...   \n",
       "\n",
       "                                                   CSV 2  Ratio Score  \n",
       "26206          City of Los Angeles Deferred Compensation           95  \n",
       "26227  County of Los Angeles Deferred Compensation Pr...          100  "
      ]
     },
     "execution_count": 72,
     "metadata": {},
     "output_type": "execute_result"
    }
   ],
   "source": [
    "cartesian_df.query(\"`CSV 1` == 'County of Los Angeles Deferred Compensation Program' and `Ratio Score` > 90\")"
   ]
  },
  {
   "cell_type": "code",
   "execution_count": 73,
   "id": "dac9b14a-6234-4bb8-a395-eb542c71b28d",
   "metadata": {
    "tags": []
   },
   "outputs": [
    {
     "data": {
      "text/plain": [
       "CSV 1          2\n",
       "CSV 2          2\n",
       "Ratio Score    2\n",
       "dtype: int64"
      ]
     },
     "execution_count": 73,
     "metadata": {},
     "output_type": "execute_result"
    }
   ],
   "source": [
    "cartesian_df.query(\"`CSV 1` == 'County of Los Angeles Deferred Compensation Program' and `Ratio Score` > 90\").count()"
   ]
  },
  {
   "cell_type": "markdown",
   "id": "b3ed2eee",
   "metadata": {},
   "source": [
    "## 8️⃣  Is there a matching company (>90) for **The Queens Health Systems**? (Yes/No)"
   ]
  },
  {
   "cell_type": "code",
   "execution_count": 74,
   "id": "8c54da9f",
   "metadata": {},
   "outputs": [
    {
     "data": {
      "text/html": [
       "<div>\n",
       "<style scoped>\n",
       "    .dataframe tbody tr th:only-of-type {\n",
       "        vertical-align: middle;\n",
       "    }\n",
       "\n",
       "    .dataframe tbody tr th {\n",
       "        vertical-align: top;\n",
       "    }\n",
       "\n",
       "    .dataframe thead th {\n",
       "        text-align: right;\n",
       "    }\n",
       "</style>\n",
       "<table border=\"1\" class=\"dataframe\">\n",
       "  <thead>\n",
       "    <tr style=\"text-align: right;\">\n",
       "      <th></th>\n",
       "      <th>CSV 1</th>\n",
       "      <th>CSV 2</th>\n",
       "      <th>Ratio Score</th>\n",
       "    </tr>\n",
       "  </thead>\n",
       "  <tbody>\n",
       "    <tr>\n",
       "      <th>84220</th>\n",
       "      <td>The Queens Health Systems</td>\n",
       "      <td>The Queen's Health Systems</td>\n",
       "      <td>96</td>\n",
       "    </tr>\n",
       "  </tbody>\n",
       "</table>\n",
       "</div>"
      ],
      "text/plain": [
       "                           CSV 1                       CSV 2  Ratio Score\n",
       "84220  The Queens Health Systems  The Queen's Health Systems           96"
      ]
     },
     "execution_count": 74,
     "metadata": {},
     "output_type": "execute_result"
    }
   ],
   "source": [
    "cartesian_df.query(\"`CSV 1` == 'The Queens Health Systems' and `Ratio Score` > 90\")"
   ]
  }
 ],
 "metadata": {
  "kernelspec": {
   "display_name": "Python 3 (ipykernel)",
   "language": "python",
   "name": "python3"
  },
  "language_info": {
   "codemirror_mode": {
    "name": "ipython",
    "version": 3
   },
   "file_extension": ".py",
   "mimetype": "text/x-python",
   "name": "python",
   "nbconvert_exporter": "python",
   "pygments_lexer": "ipython3",
   "version": "3.11.5"
  }
 },
 "nbformat": 4,
 "nbformat_minor": 5
}
