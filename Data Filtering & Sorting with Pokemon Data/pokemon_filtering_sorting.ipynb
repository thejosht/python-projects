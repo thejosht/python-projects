{
 "cells": [
  {
   "cell_type": "markdown",
   "id": "232bcec5",
   "metadata": {},
   "source": [
    "# Pokémon Filtering & Sorting with Pandas\n"
   ]
  },
  {
   "cell_type": "code",
   "execution_count": null,
   "id": "3ea16bbb",
   "metadata": {},
   "outputs": [],
   "source": [
    "import pandas as pd\n",
    "import numpy as np\n",
    "\n",
    "URL = \"https://raw.githubusercontent.com/UBC-DSCI/dsci-100-assets/master/2022-spring/materials/tutorial_clustering/data/pokemon.csv\"\n",
    "\n",
    "df = pd.read_csv(URL)\n",
    "print(df.shape)\n",
    "df.head()"
   ]
  },
  {
   "cell_type": "markdown",
   "id": "33e5179f",
   "metadata": {},
   "source": [
    "# **1.** How many Pokémon have an **Attack** greater than 150?\n"
   ]
  },
  {
   "cell_type": "code",
   "execution_count": null,
   "id": "1edb7580",
   "metadata": {},
   "outputs": [],
   "source": [
    "q1_answer = df[df['Attack'] > 150].shape[0]\n",
    "q1_answer"
   ]
  },
  {
   "cell_type": "markdown",
   "id": "42a9bb8b",
   "metadata": {},
   "source": [
    "# **2.** Select all pokemon with a Speed of **10** or less\n"
   ]
  },
  {
   "cell_type": "code",
   "execution_count": null,
   "id": "4c57f021",
   "metadata": {},
   "outputs": [],
   "source": [
    "slow_pokemons_df = df[df['Speed'] <= 10].copy()\n",
    "slow_pokemons_df.head()"
   ]
  },
  {
   "cell_type": "markdown",
   "id": "23f6025e",
   "metadata": {},
   "source": [
    "# **3.** How many Pokémon have **Sp. Def** value of 25 or less?\n"
   ]
  },
  {
   "cell_type": "code",
   "execution_count": null,
   "id": "f81eb8f4",
   "metadata": {},
   "outputs": [],
   "source": [
    "q3_answer = df[df['Sp. Def'] <= 25].shape[0]\n",
    "q3_answer"
   ]
  },
  {
   "cell_type": "markdown",
   "id": "ab2197e5",
   "metadata": {},
   "source": [
    "# **4.** Select all **Legendary** Pokémon\n"
   ]
  },
  {
   "cell_type": "code",
   "execution_count": null,
   "id": "b1584552",
   "metadata": {},
   "outputs": [],
   "source": [
    "legendary_df = df[df['Legendary']]\n",
    "legendary_df.head()"
   ]
  },
  {
   "cell_type": "markdown",
   "id": "c28486f2",
   "metadata": {},
   "source": [
    "# **5.** Find the outlier: Pokémon with **high Defense** and **low Attack**\n"
   ]
  },
  {
   "cell_type": "code",
   "execution_count": null,
   "id": "94076514",
   "metadata": {},
   "outputs": [],
   "source": [
    "# Thresholds chosen from boxplots — feel free to adjust\n",
    "q5_df = df[(df['Defense'] > 180) & (df['Attack'] < 50)]\n",
    "q5_df[['Name','Attack','Defense']]"
   ]
  },
  {
   "cell_type": "markdown",
   "id": "5eac2f1e",
   "metadata": {},
   "source": [
    "# **6.** How many **Fire / Flying** Pokémon exist?\n"
   ]
  },
  {
   "cell_type": "code",
   "execution_count": null,
   "id": "cc60380f",
   "metadata": {},
   "outputs": [],
   "source": [
    "is_fire_flying = (df['Type 1'] == 'Fire') & (df['Type 2'] == 'Flying')\n",
    "q6_answer = is_fire_flying.sum()\n",
    "q6_answer"
   ]
  },
  {
   "cell_type": "markdown",
   "id": "9b7dbb6b",
   "metadata": {},
   "source": [
    "# **7.** How many Pokémon are **Poison‑type** in either slot?\n"
   ]
  },
  {
   "cell_type": "code",
   "execution_count": null,
   "id": "9c6ed7e4",
   "metadata": {},
   "outputs": [],
   "source": [
    "q7_answer = ((df['Type 1'] == 'Poison') | (df['Type 2'] == 'Poison')).sum()\n",
    "q7_answer"
   ]
  },
  {
   "cell_type": "markdown",
   "id": "9649bb4c",
   "metadata": {},
   "source": [
    "# **8.** Which **Type 1 = Ice** Pokémon has the **strongest Defense**?\n"
   ]
  },
  {
   "cell_type": "code",
   "execution_count": null,
   "id": "551d04e2",
   "metadata": {},
   "outputs": [],
   "source": [
    "ice = df[df['Type 1'] == 'Ice']\n",
    "q8_answer = ice.loc[ice['Defense'].idxmax()]\n",
    "q8_answer[['Name','Defense']]"
   ]
  },
  {
   "cell_type": "markdown",
   "id": "f6dd33c7",
   "metadata": {},
   "source": [
    "# **9.** What's the most common **Type 1** among **Legendary** Pokémon\n"
   ]
  },
  {
   "cell_type": "code",
   "execution_count": null,
   "id": "c6f82256",
   "metadata": {},
   "outputs": [],
   "source": [
    "legendary_df['Type 1'].value_counts().head()"
   ]
  },
  {
   "cell_type": "markdown",
   "id": "cfa29b80",
   "metadata": {},
   "source": [
    "# **10.** What's the most powerful **Water** Pokémon (by `Total`) in **Generations 1–3**\n"
   ]
  },
  {
   "cell_type": "code",
   "execution_count": null,
   "id": "6d3b5ac9",
   "metadata": {},
   "outputs": [],
   "source": [
    "water_gen123 = df[(df['Type 1'] == 'Water') & (df['Generation'] <= 3)]\n",
    "q10_answer = water_gen123.loc[water_gen123['Total'].idxmax()]\n",
    "q10_answer[['Name','Total','Generation']]"
   ]
  },
  {
   "cell_type": "markdown",
   "id": "b85ca5af",
   "metadata": {},
   "source": [
    "# **11.** What's the most powerful **Dragon** from **Generations 5–6**\n"
   ]
  },
  {
   "cell_type": "code",
   "execution_count": null,
   "id": "67573c3a",
   "metadata": {},
   "outputs": [],
   "source": [
    "dragon_56 = df[(df['Type 1'] == 'Dragon') & (df['Generation'] >= 5)]\n",
    "q11_answer = dragon_56.loc[dragon_56['Total'].idxmax()]\n",
    "q11_answer[['Name','Total','Generation']]"
   ]
  },
  {
   "cell_type": "markdown",
   "id": "4503d7ee",
   "metadata": {},
   "source": [
    "# **12.** Select all **Fire**‐type Pokémon with **Attack > 100**\n"
   ]
  },
  {
   "cell_type": "code",
   "execution_count": null,
   "id": "255c5865",
   "metadata": {},
   "outputs": [],
   "source": [
    "strong_fire_df = df[(df['Type 1']=='Fire') & (df['Attack'] > 100)]\n",
    "strong_fire_df[['Name','Attack']].head()"
   ]
  },
  {
   "cell_type": "markdown",
   "id": "1da954b7",
   "metadata": {},
   "source": [
    "# **13.** Select all Pokémon that are **both Water and Flying** types\n"
   ]
  },
  {
   "cell_type": "code",
   "execution_count": null,
   "id": "c7bd1262",
   "metadata": {},
   "outputs": [],
   "source": [
    "water_flying_df = df[((df['Type 1']=='Water') & (df['Type 2']=='Flying')) | ((df['Type 1']=='Flying') & (df['Type 2']=='Water'))]\n",
    "water_flying_df[['Name','Type 1','Type 2']]"
   ]
  },
  {
   "cell_type": "markdown",
   "id": "000d10a9",
   "metadata": {},
   "source": [
    "# **14.** Select the specifique coloms for Legenday Fire Pokémon (select Name, HP, Attack, Speed)\n"
   ]
  },
  {
   "cell_type": "code",
   "execution_count": null,
   "id": "73607a0f",
   "metadata": {},
   "outputs": [],
   "source": [
    "legendary_fire_df = df[(df['Legendary']) & (df['Type 1']=='Fire')][['Name','HP','Attack','Speed']]\n",
    "legendary_fire_df.head()"
   ]
  },
  {
   "cell_type": "markdown",
   "id": "c11b9f74",
   "metadata": {},
   "source": [
    "# **15.** Select the Slowest and Fastest **5 %** of Pokémon by **Speed**\n"
   ]
  },
  {
   "cell_type": "code",
   "execution_count": null,
   "id": "2960b2e8",
   "metadata": {},
   "outputs": [],
   "source": [
    "quantile_5 = df['Speed'].quantile(0.05)\n",
    "quantile_95 = df['Speed'].quantile(0.95)\n",
    "slowest_5_df = df[df['Speed'] <= quantile_5]\n",
    "fastest_5_df = df[df['Speed'] >= quantile_95]\n",
    "print('Slowest set:', slowest_5_df[['Name','Speed']].head())\n",
    "print('Fastest set:', fastest_5_df[['Name','Speed']].head())"
   ]
  },
  {
   "cell_type": "markdown",
   "id": "fb6a10c9",
   "metadata": {},
   "source": [
    "# **16.** Find the Ultra‑Powerful Legendary Pokémon (highest `Total` overall)\n"
   ]
  },
  {
   "cell_type": "code",
   "execution_count": null,
   "id": "f5648bb6",
   "metadata": {},
   "outputs": [],
   "source": [
    "ultra = df[df['Legendary']].loc[df['Total'].idxmax()]\n",
    "ultra[['Name','Total']]"
   ]
  }
 ],
 "metadata": {
  "language_info": {
   "name": "python"
  }
 },
 "nbformat": 4,
 "nbformat_minor": 5
}
