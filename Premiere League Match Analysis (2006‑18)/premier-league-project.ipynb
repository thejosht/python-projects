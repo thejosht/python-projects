{
 "cells": [
  {
   "cell_type": "markdown",
   "id": "494dda4e",
   "metadata": {},
   "source": [
    "# Premier League Results Cleaning & Analysis\n",
    "\n",
    "This notebook walks through task that range, from data cleaning to analysis, using the **`premier‑league‑data.csv`** file."
   ]
  },
  {
   "cell_type": "code",
   "execution_count": 18,
   "id": "f41c7f08",
   "metadata": {
    "tags": []
   },
   "outputs": [
    {
     "name": "stdout",
     "output_type": "stream",
     "text": [
      "['home_team', 'away_team', 'home_goals', 'away_goals', 'result', 'season']\n"
     ]
    }
   ],
   "source": [
    "import pandas as pd\n",
    "\n",
    "df = pd.read_csv('premier-league-data.csv')\n",
    "df.columns = (\n",
    "    df.columns\n",
    "      .str.encode(\"utf-8\")         \n",
    "      .str.decode(\"utf-8-sig\")     \n",
    "      .str.replace('\"', '')      \n",
    ")\n",
    "df.head()\n",
    "print(df.columns.tolist())"
   ]
  },
  {
   "cell_type": "markdown",
   "id": "873f884d",
   "metadata": {},
   "source": [
    "## Data Cleaning"
   ]
  },
  {
   "cell_type": "markdown",
   "id": "fd174fec",
   "metadata": {},
   "source": [
    "### **1**. Replace invalid values from the `season` column"
   ]
  },
  {
   "cell_type": "code",
   "execution_count": null,
   "id": "de6a1342",
   "metadata": {},
   "outputs": [],
   "source": [
    "# TODO: replace the '?' season markers"
   ]
  },
  {
   "cell_type": "code",
   "execution_count": 22,
   "id": "a5a16f82-0c48-457c-8ac9-556e70d81a3f",
   "metadata": {
    "tags": []
   },
   "outputs": [
    {
     "data": {
      "text/html": [
       "<div>\n",
       "<style scoped>\n",
       "    .dataframe tbody tr th:only-of-type {\n",
       "        vertical-align: middle;\n",
       "    }\n",
       "\n",
       "    .dataframe tbody tr th {\n",
       "        vertical-align: top;\n",
       "    }\n",
       "\n",
       "    .dataframe thead th {\n",
       "        text-align: right;\n",
       "    }\n",
       "</style>\n",
       "<table border=\"1\" class=\"dataframe\">\n",
       "  <thead>\n",
       "    <tr style=\"text-align: right;\">\n",
       "      <th></th>\n",
       "      <th>home_team</th>\n",
       "      <th>away_team</th>\n",
       "      <th>home_goals</th>\n",
       "      <th>away_goals</th>\n",
       "      <th>result</th>\n",
       "      <th>season</th>\n",
       "    </tr>\n",
       "  </thead>\n",
       "  <tbody>\n",
       "    <tr>\n",
       "      <th>0</th>\n",
       "      <td>Sheffield United</td>\n",
       "      <td>Liverpool</td>\n",
       "      <td>1</td>\n",
       "      <td>1</td>\n",
       "      <td>D</td>\n",
       "      <td>2006-2007</td>\n",
       "    </tr>\n",
       "    <tr>\n",
       "      <th>1</th>\n",
       "      <td>Arsenal</td>\n",
       "      <td>Aston Villa</td>\n",
       "      <td>1</td>\n",
       "      <td>1</td>\n",
       "      <td>D</td>\n",
       "      <td>2006-2007</td>\n",
       "    </tr>\n",
       "    <tr>\n",
       "      <th>2</th>\n",
       "      <td>Everton</td>\n",
       "      <td>Watford</td>\n",
       "      <td>2</td>\n",
       "      <td>1</td>\n",
       "      <td>H</td>\n",
       "      <td>Unknown season</td>\n",
       "    </tr>\n",
       "    <tr>\n",
       "      <th>3</th>\n",
       "      <td>Newcastle United</td>\n",
       "      <td>Wigan Athletic</td>\n",
       "      <td>2</td>\n",
       "      <td>1</td>\n",
       "      <td>H</td>\n",
       "      <td>2006-2007</td>\n",
       "    </tr>\n",
       "    <tr>\n",
       "      <th>4</th>\n",
       "      <td>Portsmouth</td>\n",
       "      <td>Blackburn Rovers</td>\n",
       "      <td>3</td>\n",
       "      <td>0</td>\n",
       "      <td>H</td>\n",
       "      <td>2006-2007</td>\n",
       "    </tr>\n",
       "  </tbody>\n",
       "</table>\n",
       "</div>"
      ],
      "text/plain": [
       "          home_team         away_team  home_goals  away_goals result  \\\n",
       "0  Sheffield United         Liverpool           1           1      D   \n",
       "1           Arsenal       Aston Villa           1           1      D   \n",
       "2           Everton           Watford           2           1      H   \n",
       "3  Newcastle United    Wigan Athletic           2           1      H   \n",
       "4        Portsmouth  Blackburn Rovers           3           0      H   \n",
       "\n",
       "           season  \n",
       "0       2006-2007  \n",
       "1       2006-2007  \n",
       "2  Unknown season  \n",
       "3       2006-2007  \n",
       "4       2006-2007  "
      ]
     },
     "execution_count": 22,
     "metadata": {},
     "output_type": "execute_result"
    }
   ],
   "source": [
    "invalid_vals = df['season'] == '?'\n",
    "df.loc[invalid_vals, 'season'] = 'Unknown season'\n",
    "df.head()"
   ]
  },
  {
   "cell_type": "markdown",
   "id": "6257524d",
   "metadata": {},
   "source": [
    "### 2. Identify invalid values in goals scored"
   ]
  },
  {
   "cell_type": "code",
   "execution_count": null,
   "id": "2a0c8400",
   "metadata": {},
   "outputs": [],
   "source": [
    "# TODO: count negatives or '?' in goals columns"
   ]
  },
  {
   "cell_type": "code",
   "execution_count": 47,
   "id": "669a7d83-52e7-47fd-9618-6f3b60e97a35",
   "metadata": {
    "tags": []
   },
   "outputs": [
    {
     "data": {
      "text/plain": [
       "<Axes: >"
      ]
     },
     "execution_count": 47,
     "metadata": {},
     "output_type": "execute_result"
    },
    {
     "data": {
      "image/png": "[encoded data removed]",
      "text/plain": [
       "<Figure size 640x480 with 1 Axes>"
      ]
     },
     "metadata": {},
     "output_type": "display_data"
    }
   ],
   "source": [
    "df[['home_goals','away_goals']].plot(kind='box', vert=False)"
   ]
  },
  {
   "cell_type": "code",
   "execution_count": 28,
   "id": "63b58dd1-370f-4263-a53d-04726562a4b1",
   "metadata": {
    "tags": []
   },
   "outputs": [
    {
     "data": {
      "text/plain": [
       "home_goals\n",
       " 1    1436\n",
       " 2    1119\n",
       " 0    1050\n",
       " 3     568\n",
       " 4     232\n",
       " 5      75\n",
       " 6      30\n",
       "-2      21\n",
       " 7      10\n",
       "-1       9\n",
       " 8       5\n",
       "-4       4\n",
       " 9       1\n",
       "Name: count, dtype: int64"
      ]
     },
     "execution_count": 28,
     "metadata": {},
     "output_type": "execute_result"
    }
   ],
   "source": [
    "df['home_goals'].value_counts()"
   ]
  },
  {
   "cell_type": "code",
   "execution_count": 31,
   "id": "937bf0ad-aaae-42aa-a2c1-792119c15d72",
   "metadata": {
    "tags": []
   },
   "outputs": [
    {
     "data": {
      "text/plain": [
       "away_goals\n",
       " 0    1558\n",
       " 1    1548\n",
       " 2     862\n",
       " 3     380\n",
       " 4     127\n",
       " 5      32\n",
       "-2      28\n",
       " 6      13\n",
       "-1       6\n",
       "-4       5\n",
       " 7       1\n",
       "Name: count, dtype: int64"
      ]
     },
     "execution_count": 31,
     "metadata": {},
     "output_type": "execute_result"
    }
   ],
   "source": [
    "df['away_goals'].value_counts()"
   ]
  },
  {
   "cell_type": "code",
   "execution_count": 29,
   "id": "75b9bc99-0fa0-4673-a54a-a3c23c5dc67d",
   "metadata": {
    "tags": []
   },
   "outputs": [],
   "source": [
    "invalid_home = df['home_goals']<0\n",
    "invalid_away = df['away_goals']<0"
   ]
  },
  {
   "cell_type": "code",
   "execution_count": 39,
   "id": "b3efd8a1-9bcb-4f72-a910-9bd2e9822646",
   "metadata": {
    "tags": []
   },
   "outputs": [
    {
     "name": "stdout",
     "output_type": "stream",
     "text": [
      " Total invalid home goals goals are 34 and total invalid away goals are 39.\n"
     ]
    }
   ],
   "source": [
    "invalid_hg_count = df.loc[invalid_home,'home_goals'].count()\n",
    "invalid_ag_count = df.loc[invalid_away,'away_goals'].count()\n",
    "print(f\" Total invalid home goals goals are {invalid_hg_count} and total invalid away goals are {invalid_ag_count}.\")"
   ]
  },
  {
   "cell_type": "markdown",
   "id": "86e55bfe",
   "metadata": {},
   "source": [
    "### 3. Replace invalid goals for 0"
   ]
  },
  {
   "cell_type": "code",
   "execution_count": 42,
   "id": "6057554a-cca9-4a6d-9a3d-668eaa95fe6f",
   "metadata": {
    "tags": []
   },
   "outputs": [],
   "source": [
    "df.loc[invalid_home,'home_goals'] = 0\n",
    "df.loc[invalid_away,'away_goals'] = 0"
   ]
  },
  {
   "cell_type": "code",
   "execution_count": 44,
   "id": "8f3be63f-ec73-4dff-8b0e-032586b94c1c",
   "metadata": {
    "tags": []
   },
   "outputs": [
    {
     "data": {
      "text/plain": [
       "home_goals\n",
       "1    1436\n",
       "2    1119\n",
       "0    1084\n",
       "3     568\n",
       "4     232\n",
       "5      75\n",
       "6      30\n",
       "7      10\n",
       "8       5\n",
       "9       1\n",
       "Name: count, dtype: int64"
      ]
     },
     "execution_count": 44,
     "metadata": {},
     "output_type": "execute_result"
    }
   ],
   "source": [
    "df['home_goals'].value_counts()"
   ]
  },
  {
   "cell_type": "code",
   "execution_count": 43,
   "id": "863a6ef0-e58f-40e2-8c57-80d284a2396a",
   "metadata": {
    "tags": []
   },
   "outputs": [
    {
     "data": {
      "text/plain": [
       "away_goals\n",
       "0    1597\n",
       "1    1548\n",
       "2     862\n",
       "3     380\n",
       "4     127\n",
       "5      32\n",
       "6      13\n",
       "7       1\n",
       "Name: count, dtype: int64"
      ]
     },
     "execution_count": 43,
     "metadata": {},
     "output_type": "execute_result"
    }
   ],
   "source": [
    "df['away_goals'].value_counts()"
   ]
  },
  {
   "cell_type": "markdown",
   "id": "f3233f9a",
   "metadata": {},
   "source": [
    "### 4. Identify and clean invalid results in the `result` column"
   ]
  },
  {
   "cell_type": "code",
   "execution_count": null,
   "id": "4aba3246",
   "metadata": {},
   "outputs": [],
   "source": [
    "# result should be H/A/D, fix '?'"
   ]
  },
  {
   "cell_type": "code",
   "execution_count": 50,
   "id": "362a245e-df83-4385-a8fb-3448e9d15ee7",
   "metadata": {
    "tags": []
   },
   "outputs": [],
   "source": [
    "invalid_result = ~df['result'].isin(['H','A','D'])\n",
    "\n",
    "# Home team won\n",
    "df.loc[invalid_result & (df['home_goals'] > df['away_goals']),\n",
    "       'result'] = 'H'\n",
    "\n",
    "# Away team won\n",
    "df.loc[invalid_result & (df['home_goals'] < df['away_goals']),\n",
    "       'result'] = 'A'\n",
    "\n",
    "# Draw\n",
    "df.loc[invalid_result & (df['home_goals'] == df['away_goals']),\n",
    "       'result'] = 'D'"
   ]
  },
  {
   "cell_type": "markdown",
   "id": "8a380c93",
   "metadata": {},
   "source": [
    "## Analysis"
   ]
  },
  {
   "cell_type": "markdown",
   "id": "1935ea2d",
   "metadata": {},
   "source": [
    "### 5. What's the average number of goals per match?"
   ]
  },
  {
   "cell_type": "code",
   "execution_count": 53,
   "id": "c83969a4-d34a-4075-bdd5-ab014fb97a1c",
   "metadata": {
    "tags": []
   },
   "outputs": [
    {
     "data": {
      "text/plain": [
       "2.6633771929824563"
      ]
     },
     "execution_count": 53,
     "metadata": {},
     "output_type": "execute_result"
    }
   ],
   "source": [
    "avg_goal = (df['home_goals'] + df['away_goals']).mean()\n",
    "avg_goal"
   ]
  },
  {
   "cell_type": "markdown",
   "id": "2fb2c98d",
   "metadata": {},
   "source": [
    "### 6. Create a new column `total_goals`"
   ]
  },
  {
   "cell_type": "code",
   "execution_count": 58,
   "id": "17bd47f0-8e4f-44b4-bcfc-e35955fa5e25",
   "metadata": {
    "tags": []
   },
   "outputs": [
    {
     "data": {
      "text/html": [
       "<div>\n",
       "<style scoped>\n",
       "    .dataframe tbody tr th:only-of-type {\n",
       "        vertical-align: middle;\n",
       "    }\n",
       "\n",
       "    .dataframe tbody tr th {\n",
       "        vertical-align: top;\n",
       "    }\n",
       "\n",
       "    .dataframe thead th {\n",
       "        text-align: right;\n",
       "    }\n",
       "</style>\n",
       "<table border=\"1\" class=\"dataframe\">\n",
       "  <thead>\n",
       "    <tr style=\"text-align: right;\">\n",
       "      <th></th>\n",
       "      <th>home_team</th>\n",
       "      <th>away_team</th>\n",
       "      <th>home_goals</th>\n",
       "      <th>away_goals</th>\n",
       "      <th>result</th>\n",
       "      <th>season</th>\n",
       "      <th>total_goals</th>\n",
       "    </tr>\n",
       "  </thead>\n",
       "  <tbody>\n",
       "    <tr>\n",
       "      <th>0</th>\n",
       "      <td>Sheffield United</td>\n",
       "      <td>Liverpool</td>\n",
       "      <td>1</td>\n",
       "      <td>1</td>\n",
       "      <td>D</td>\n",
       "      <td>2006-2007</td>\n",
       "      <td>2</td>\n",
       "    </tr>\n",
       "    <tr>\n",
       "      <th>1</th>\n",
       "      <td>Arsenal</td>\n",
       "      <td>Aston Villa</td>\n",
       "      <td>1</td>\n",
       "      <td>1</td>\n",
       "      <td>D</td>\n",
       "      <td>2006-2007</td>\n",
       "      <td>2</td>\n",
       "    </tr>\n",
       "    <tr>\n",
       "      <th>2</th>\n",
       "      <td>Everton</td>\n",
       "      <td>Watford</td>\n",
       "      <td>2</td>\n",
       "      <td>1</td>\n",
       "      <td>H</td>\n",
       "      <td>Unknown season</td>\n",
       "      <td>3</td>\n",
       "    </tr>\n",
       "    <tr>\n",
       "      <th>3</th>\n",
       "      <td>Newcastle United</td>\n",
       "      <td>Wigan Athletic</td>\n",
       "      <td>2</td>\n",
       "      <td>1</td>\n",
       "      <td>H</td>\n",
       "      <td>2006-2007</td>\n",
       "      <td>3</td>\n",
       "    </tr>\n",
       "    <tr>\n",
       "      <th>4</th>\n",
       "      <td>Portsmouth</td>\n",
       "      <td>Blackburn Rovers</td>\n",
       "      <td>3</td>\n",
       "      <td>0</td>\n",
       "      <td>H</td>\n",
       "      <td>2006-2007</td>\n",
       "      <td>3</td>\n",
       "    </tr>\n",
       "  </tbody>\n",
       "</table>\n",
       "</div>"
      ],
      "text/plain": [
       "          home_team         away_team  home_goals  away_goals result  \\\n",
       "0  Sheffield United         Liverpool           1           1      D   \n",
       "1           Arsenal       Aston Villa           1           1      D   \n",
       "2           Everton           Watford           2           1      H   \n",
       "3  Newcastle United    Wigan Athletic           2           1      H   \n",
       "4        Portsmouth  Blackburn Rovers           3           0      H   \n",
       "\n",
       "           season  total_goals  \n",
       "0       2006-2007            2  \n",
       "1       2006-2007            2  \n",
       "2  Unknown season            3  \n",
       "3       2006-2007            3  \n",
       "4       2006-2007            3  "
      ]
     },
     "execution_count": 58,
     "metadata": {},
     "output_type": "execute_result"
    }
   ],
   "source": [
    "df['total_goals'] = df['home_goals'] + df['away_goals']\n",
    "df.head()"
   ]
  },
  {
   "cell_type": "markdown",
   "id": "2f23a4e3",
   "metadata": {},
   "source": [
    "### 7. Calculate average goals per season"
   ]
  },
  {
   "cell_type": "code",
   "execution_count": 61,
   "id": "0f5e7560-f709-47c6-85c6-ab3c8923685c",
   "metadata": {
    "tags": []
   },
   "outputs": [
    {
     "data": {
      "text/plain": [
       "season\n",
       "2006-2007         2.429799\n",
       "2007-2008         2.618421\n",
       "2008-2009         2.463158\n",
       "2009-2010         2.747368\n",
       "2010-2011         2.797368\n",
       "2011-2012         2.763158\n",
       "2012-2013         2.773684\n",
       "2013-2014         2.718421\n",
       "2014-2015         2.500000\n",
       "2015-2016         2.676316\n",
       "2016-2017         2.794737\n",
       "2017-2018         2.678947\n",
       "Unknown season    2.419355\n",
       "Name: total_goals, dtype: float64"
      ]
     },
     "execution_count": 61,
     "metadata": {},
     "output_type": "execute_result"
    }
   ],
   "source": [
    "goals_per_season = df.groupby('season')['total_goals'].mean().sort_index()\n",
    "goals_per_season"
   ]
  },
  {
   "cell_type": "markdown",
   "id": "2a73e6bc",
   "metadata": {},
   "source": [
    "### 8. What's the biggest goal difference in a match?"
   ]
  },
  {
   "cell_type": "code",
   "execution_count": 69,
   "id": "83996994-02ba-45e8-bdad-6e0e2ff5e929",
   "metadata": {
    "tags": []
   },
   "outputs": [
    {
     "data": {
      "text/plain": [
       "8"
      ]
     },
     "execution_count": 69,
     "metadata": {},
     "output_type": "execute_result"
    }
   ],
   "source": [
    "max_diff = (df['home_goals'] - df['away_goals']).abs().max()\n",
    "max_diff"
   ]
  },
  {
   "cell_type": "markdown",
   "id": "4902730b",
   "metadata": {},
   "source": [
    "### 9. What's the team with most away wins?"
   ]
  },
  {
   "cell_type": "code",
   "execution_count": 71,
   "id": "08c3ff1b-cb5a-434a-94e1-1757b8b4a042",
   "metadata": {
    "tags": []
   },
   "outputs": [
    {
     "data": {
      "text/plain": [
       "'Chelsea'"
      ]
     },
     "execution_count": 71,
     "metadata": {},
     "output_type": "execute_result"
    }
   ],
   "source": [
    "away_wins = df[df['result'] == 'A']['away_team'].value_counts().idxmax()\n",
    "away_wins"
   ]
  },
  {
   "cell_type": "markdown",
   "id": "167ace9c",
   "metadata": {},
   "source": [
    "### 10. What's the team with the most goals scored at home?"
   ]
  },
  {
   "cell_type": "code",
   "execution_count": 76,
   "id": "e1d960a7-01d2-43e5-a8dc-2098c42e74ae",
   "metadata": {
    "tags": []
   },
   "outputs": [
    {
     "data": {
      "text/plain": [
       "'Manchester City'"
      ]
     },
     "execution_count": 76,
     "metadata": {},
     "output_type": "execute_result"
    }
   ],
   "source": [
    "home_goals_team = df.groupby('home_team')['home_goals'].sum().idxmax()\n",
    "home_goals_team"
   ]
  },
  {
   "cell_type": "markdown",
   "id": "464e3c94",
   "metadata": {},
   "source": [
    "### 11. What's the team that received the least amount of goals while playing at home?"
   ]
  },
  {
   "cell_type": "code",
   "execution_count": 78,
   "id": "ec095609",
   "metadata": {
    "tags": []
   },
   "outputs": [
    {
     "data": {
      "text/plain": [
       "'Manchester United'"
      ]
     },
     "execution_count": 78,
     "metadata": {},
     "output_type": "execute_result"
    }
   ],
   "source": [
    "received_ratio = df.groupby('home_team')['away_goals'].sum()/df.groupby('home_team')['home_team'].count()\n",
    "least_received = received_ratio.idxmin()\n",
    "least_received"
   ]
  },
  {
   "cell_type": "markdown",
   "id": "491317c1",
   "metadata": {},
   "source": [
    "### 12. What's the team with most goals scored playing as a visitor (away from home)?"
   ]
  },
  {
   "cell_type": "code",
   "execution_count": 80,
   "id": "9b5e5925",
   "metadata": {
    "tags": []
   },
   "outputs": [
    {
     "data": {
      "text/plain": [
       "'Arsenal'"
      ]
     },
     "execution_count": 80,
     "metadata": {},
     "output_type": "execute_result"
    }
   ],
   "source": [
    "away_goals_team = df.groupby('away_team')['away_goals'].sum().idxmax()\n",
    "away_goals_team"
   ]
  },
  {
   "cell_type": "code",
   "execution_count": 82,
   "id": "e045ed02-06f3-4c8e-b895-ccbe2d3e6d4f",
   "metadata": {
    "tags": []
   },
   "outputs": [
    {
     "data": {
      "text/plain": [
       "0       False\n",
       "1       False\n",
       "2       False\n",
       "3       False\n",
       "4       False\n",
       "        ...  \n",
       "4555    False\n",
       "4556    False\n",
       "4557    False\n",
       "4558    False\n",
       "4559    False\n",
       "Name: season, Length: 4560, dtype: bool"
      ]
     },
     "execution_count": 82,
     "metadata": {},
     "output_type": "execute_result"
    }
   ],
   "source": [
    "df['season'].value_counts"
   ]
  }
 ],
 "metadata": {
  "kernelspec": {
   "display_name": "Python 3 (ipykernel)",
   "language": "python",
   "name": "python3"
  },
  "language_info": {
   "codemirror_mode": {
    "name": "ipython",
    "version": 3
   },
   "file_extension": ".py",
   "mimetype": "text/x-python",
   "name": "python",
   "nbconvert_exporter": "python",
   "pygments_lexer": "ipython3",
   "version": "3.11.5"
  }
 },
 "nbformat": 4,
 "nbformat_minor": 5
}
