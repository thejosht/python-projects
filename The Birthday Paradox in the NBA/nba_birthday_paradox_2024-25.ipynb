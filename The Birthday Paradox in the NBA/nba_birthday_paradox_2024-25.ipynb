{
 "cells": [
  {
   "cell_type": "markdown",
   "id": "1abf6493-1026-4f3f-87cf-7ed889c807af",
   "metadata": {},
   "source": [
    "# NBA Birthday‑Paradox Notebook – 2024‑25 Season"
   ]
  },
  {
   "cell_type": "code",
   "execution_count": 42,
   "id": "b53a5d5f",
   "metadata": {
    "tags": []
   },
   "outputs": [
    {
     "data": {
      "text/html": [
       "<div>\n",
       "<style scoped>\n",
       "    .dataframe tbody tr th:only-of-type {\n",
       "        vertical-align: middle;\n",
       "    }\n",
       "\n",
       "    .dataframe tbody tr th {\n",
       "        vertical-align: top;\n",
       "    }\n",
       "\n",
       "    .dataframe thead th {\n",
       "        text-align: right;\n",
       "    }\n",
       "</style>\n",
       "<table border=\"1\" class=\"dataframe\">\n",
       "  <thead>\n",
       "    <tr style=\"text-align: right;\">\n",
       "      <th></th>\n",
       "      <th>Index</th>\n",
       "      <th>name</th>\n",
       "      <th>Position</th>\n",
       "      <th>Age</th>\n",
       "      <th>team</th>\n",
       "      <th>birthdate</th>\n",
       "    </tr>\n",
       "  </thead>\n",
       "  <tbody>\n",
       "    <tr>\n",
       "      <th>0</th>\n",
       "      <td>0</td>\n",
       "      <td>Precious Achiuwa</td>\n",
       "      <td>Forward</td>\n",
       "      <td>25</td>\n",
       "      <td>NYK</td>\n",
       "      <td>1999-09-19</td>\n",
       "    </tr>\n",
       "    <tr>\n",
       "      <th>1</th>\n",
       "      <td>1</td>\n",
       "      <td>Steven Adams</td>\n",
       "      <td>Center</td>\n",
       "      <td>31</td>\n",
       "      <td>HOU</td>\n",
       "      <td>1993-07-20</td>\n",
       "    </tr>\n",
       "    <tr>\n",
       "      <th>2</th>\n",
       "      <td>2</td>\n",
       "      <td>Bam Adebayo</td>\n",
       "      <td>Center-Forward</td>\n",
       "      <td>27</td>\n",
       "      <td>MIA</td>\n",
       "      <td>1997-07-18</td>\n",
       "    </tr>\n",
       "    <tr>\n",
       "      <th>3</th>\n",
       "      <td>3</td>\n",
       "      <td>Ochai Agbaji</td>\n",
       "      <td>Guard</td>\n",
       "      <td>25</td>\n",
       "      <td>TOR</td>\n",
       "      <td>2000-04-20</td>\n",
       "    </tr>\n",
       "    <tr>\n",
       "      <th>4</th>\n",
       "      <td>4</td>\n",
       "      <td>Santi Aldama</td>\n",
       "      <td>Forward-Center</td>\n",
       "      <td>24</td>\n",
       "      <td>MEM</td>\n",
       "      <td>2001-01-10</td>\n",
       "    </tr>\n",
       "  </tbody>\n",
       "</table>\n",
       "</div>"
      ],
      "text/plain": [
       "   Index              name        Position  Age team   birthdate\n",
       "0      0  Precious Achiuwa         Forward   25  NYK  1999-09-19\n",
       "1      1      Steven Adams          Center   31  HOU  1993-07-20\n",
       "2      2       Bam Adebayo  Center-Forward   27  MIA  1997-07-18\n",
       "3      3      Ochai Agbaji           Guard   25  TOR  2000-04-20\n",
       "4      4      Santi Aldama  Forward-Center   24  MEM  2001-01-10"
      ]
     },
     "execution_count": 42,
     "metadata": {},
     "output_type": "execute_result"
    }
   ],
   "source": [
    "import math \n",
    "from collections import Counter\n",
    "import pandas as pd\n",
    "from pathlib import Path\n",
    "\n",
    "CSV_PATH = Path('nba_players_2024-25.csv')\n",
    "df = pd.read_csv(CSV_PATH)\n",
    "df = df.rename(columns={'Name':'name','name':'name','Team':'team','team':'team','Birth Date':'birthdate','birthdate':'birthdate'})\n",
    "## df['birthdate'] = pd.to_datetime(df['birthdate'])\n",
    "## df['Birthday'] = df['birthdate'].dt.strftime('%m-%d')\n",
    "df.head()\n"
   ]
  },
  {
   "cell_type": "code",
   "execution_count": null,
   "id": "1de0050f-8b2f-4ddc-9b1b-3f086686d6e9",
   "metadata": {},
   "outputs": [],
   "source": [
    "df['team'].value_counts()"
   ]
  },
  {
   "cell_type": "code",
   "execution_count": 12,
   "id": "9cf747a7-fdb2-4f3e-9669-72394bc06df9",
   "metadata": {
    "tags": []
   },
   "outputs": [],
   "source": [
    "def nCr(n, k):\n",
    "    f = math.factorial\n",
    "    return f(n)/  (f(k) * f(n - k))"
   ]
  },
  {
   "cell_type": "markdown",
   "id": "cc875fbe",
   "metadata": {},
   "source": [
    "## Q 1 – Birthday‑paradox probability for **n = 10**"
   ]
  },
  {
   "cell_type": "code",
   "execution_count": 13,
   "id": "bb7376c1-ba69-434f-85c6-216b44864524",
   "metadata": {
    "tags": []
   },
   "outputs": [
    {
     "data": {
      "text/plain": [
       "0.11614023654879224"
      ]
     },
     "execution_count": 13,
     "metadata": {},
     "output_type": "execute_result"
    }
   ],
   "source": [
    "A1 = 1 -(364/365)**nCr(10,2)\n",
    "A1"
   ]
  },
  {
   "cell_type": "markdown",
   "id": "36ea30ef",
   "metadata": {},
   "source": [
    "## Q 2 – Birthday‑paradox probability for **n = 15**"
   ]
  },
  {
   "cell_type": "code",
   "execution_count": 21,
   "id": "bc4f8de8",
   "metadata": {
    "tags": []
   },
   "outputs": [
    {
     "data": {
      "text/plain": [
       "0.25028790861398265"
      ]
     },
     "execution_count": 21,
     "metadata": {},
     "output_type": "execute_result"
    }
   ],
   "source": [
    "A2=1-(364/365)**comb(15,2)\n",
    "A2"
   ]
  },
  {
   "cell_type": "markdown",
   "id": "91fd9d79-a81a-407d-b595-d4147a2f60ad",
   "metadata": {},
   "source": [
    "## Q 3 – Define `birthday_probability(n)`"
   ]
  },
  {
   "cell_type": "code",
   "execution_count": 22,
   "id": "79f98b36-7020-4208-a6b9-70a521203d56",
   "metadata": {
    "tags": []
   },
   "outputs": [],
   "source": [
    "def birthday_probability(number_of_people):\n",
    "    return 1 -(364 / 365)**nCr(number_of_people,2)"
   ]
  },
  {
   "cell_type": "code",
   "execution_count": 23,
   "id": "a4b41c13-e218-41af-9b81-0f931bd7cad3",
   "metadata": {
    "tags": []
   },
   "outputs": [
    {
     "data": {
      "text/plain": [
       "0.25028790861398265"
      ]
     },
     "execution_count": 23,
     "metadata": {},
     "output_type": "execute_result"
    }
   ],
   "source": [
    "# Test group size 15\n",
    "birthday_probability(15)"
   ]
  },
  {
   "cell_type": "markdown",
   "id": "2cab62a3",
   "metadata": {},
   "source": [
    "## Q 4 – Display the new `Birthday` column"
   ]
  },
  {
   "cell_type": "code",
   "execution_count": 50,
   "id": "a88f1801-99e4-48bc-8bb4-1f45e72ea6ff",
   "metadata": {
    "tags": []
   },
   "outputs": [
    {
     "data": {
      "text/html": [
       "<div>\n",
       "<style scoped>\n",
       "    .dataframe tbody tr th:only-of-type {\n",
       "        vertical-align: middle;\n",
       "    }\n",
       "\n",
       "    .dataframe tbody tr th {\n",
       "        vertical-align: top;\n",
       "    }\n",
       "\n",
       "    .dataframe thead th {\n",
       "        text-align: right;\n",
       "    }\n",
       "</style>\n",
       "<table border=\"1\" class=\"dataframe\">\n",
       "  <thead>\n",
       "    <tr style=\"text-align: right;\">\n",
       "      <th></th>\n",
       "      <th>Index</th>\n",
       "      <th>name</th>\n",
       "      <th>Position</th>\n",
       "      <th>Age</th>\n",
       "      <th>team</th>\n",
       "      <th>birthdate</th>\n",
       "      <th>birthday</th>\n",
       "    </tr>\n",
       "  </thead>\n",
       "  <tbody>\n",
       "    <tr>\n",
       "      <th>0</th>\n",
       "      <td>0</td>\n",
       "      <td>Precious Achiuwa</td>\n",
       "      <td>Forward</td>\n",
       "      <td>25</td>\n",
       "      <td>NYK</td>\n",
       "      <td>1999-09-19</td>\n",
       "      <td>09-19</td>\n",
       "    </tr>\n",
       "    <tr>\n",
       "      <th>1</th>\n",
       "      <td>1</td>\n",
       "      <td>Steven Adams</td>\n",
       "      <td>Center</td>\n",
       "      <td>31</td>\n",
       "      <td>HOU</td>\n",
       "      <td>1993-07-20</td>\n",
       "      <td>07-20</td>\n",
       "    </tr>\n",
       "    <tr>\n",
       "      <th>2</th>\n",
       "      <td>2</td>\n",
       "      <td>Bam Adebayo</td>\n",
       "      <td>Center-Forward</td>\n",
       "      <td>27</td>\n",
       "      <td>MIA</td>\n",
       "      <td>1997-07-18</td>\n",
       "      <td>07-18</td>\n",
       "    </tr>\n",
       "    <tr>\n",
       "      <th>3</th>\n",
       "      <td>3</td>\n",
       "      <td>Ochai Agbaji</td>\n",
       "      <td>Guard</td>\n",
       "      <td>25</td>\n",
       "      <td>TOR</td>\n",
       "      <td>2000-04-20</td>\n",
       "      <td>04-20</td>\n",
       "    </tr>\n",
       "    <tr>\n",
       "      <th>4</th>\n",
       "      <td>4</td>\n",
       "      <td>Santi Aldama</td>\n",
       "      <td>Forward-Center</td>\n",
       "      <td>24</td>\n",
       "      <td>MEM</td>\n",
       "      <td>2001-01-10</td>\n",
       "      <td>01-10</td>\n",
       "    </tr>\n",
       "  </tbody>\n",
       "</table>\n",
       "</div>"
      ],
      "text/plain": [
       "   Index              name        Position  Age team  birthdate birthday\n",
       "0      0  Precious Achiuwa         Forward   25  NYK 1999-09-19    09-19\n",
       "1      1      Steven Adams          Center   31  HOU 1993-07-20    07-20\n",
       "2      2       Bam Adebayo  Center-Forward   27  MIA 1997-07-18    07-18\n",
       "3      3      Ochai Agbaji           Guard   25  TOR 2000-04-20    04-20\n",
       "4      4      Santi Aldama  Forward-Center   24  MEM 2001-01-10    01-10"
      ]
     },
     "execution_count": 50,
     "metadata": {},
     "output_type": "execute_result"
    }
   ],
   "source": [
    "df['birthdate'] = pd.to_datetime(df['birthdate'])\n",
    "df['birthday'] = df['birthdate'].dt.strftime('%m-%d')\n",
    "df.head()"
   ]
  },
  {
   "cell_type": "markdown",
   "id": "310d2946-9e85-43d9-b1c9-e891f85531a1",
   "metadata": {},
   "source": [
    "## Q 5 – Pairs on the **Boston Celtics**"
   ]
  },
  {
   "cell_type": "code",
   "execution_count": 51,
   "id": "34f65fbd-fae6-40af-84d2-4647c429c198",
   "metadata": {
    "tags": []
   },
   "outputs": [],
   "source": [
    "from itertools import combinations"
   ]
  },
  {
   "cell_type": "code",
   "execution_count": 91,
   "id": "bd686ba2-cd4f-4aa1-9286-e278140d9d0c",
   "metadata": {
    "tags": []
   },
   "outputs": [],
   "source": [
    "team_df = df.loc[df['team'] == 'BOS'].copy()\n",
    "name_df = pd.DataFrame(combinations(team_df['name'], 2), columns=(\"Player 1\", \"Player 2\"))"
   ]
  },
  {
   "cell_type": "code",
   "execution_count": 90,
   "id": "9cd9ceef-d7d8-4e0b-b2c9-175400941076",
   "metadata": {
    "tags": []
   },
   "outputs": [],
   "source": [
    "birthday_df = pd.DataFrame(combinations(team_df['birthday'], 2), columns=(\"Birthday 1\", \"Birthday 2\"))\n"
   ]
  },
  {
   "cell_type": "code",
   "execution_count": 89,
   "id": "ea665453-8b1d-4199-8856-ee2b060d97cc",
   "metadata": {
    "tags": []
   },
   "outputs": [],
   "source": [
    "check_df = pd.concat([name_df, birthday_df], axis =1 )\n"
   ]
  },
  {
   "cell_type": "code",
   "execution_count": 84,
   "id": "3cb83b33-f67d-4c3f-9e25-3a725694e246",
   "metadata": {
    "tags": []
   },
   "outputs": [
    {
     "data": {
      "text/plain": [
       "1"
      ]
     },
     "execution_count": 84,
     "metadata": {},
     "output_type": "execute_result"
    }
   ],
   "source": [
    "(check_df['Birthday 1'] == check_df['Birthday 2']).sum()"
   ]
  },
  {
   "cell_type": "code",
   "execution_count": 88,
   "id": "77651e3a-8a85-4b62-8f93-043bcc54e128",
   "metadata": {
    "tags": []
   },
   "outputs": [
    {
     "data": {
      "text/html": [
       "<div>\n",
       "<style scoped>\n",
       "    .dataframe tbody tr th:only-of-type {\n",
       "        vertical-align: middle;\n",
       "    }\n",
       "\n",
       "    .dataframe tbody tr th {\n",
       "        vertical-align: top;\n",
       "    }\n",
       "\n",
       "    .dataframe thead th {\n",
       "        text-align: right;\n",
       "    }\n",
       "</style>\n",
       "<table border=\"1\" class=\"dataframe\">\n",
       "  <thead>\n",
       "    <tr style=\"text-align: right;\">\n",
       "      <th></th>\n",
       "      <th>Player 1</th>\n",
       "      <th>Player 2</th>\n",
       "      <th>Birthday 1</th>\n",
       "      <th>Birthday 2</th>\n",
       "    </tr>\n",
       "  </thead>\n",
       "  <tbody>\n",
       "    <tr>\n",
       "      <th>131</th>\n",
       "      <td>Jayson Tatum</td>\n",
       "      <td>Jordan Walsh</td>\n",
       "      <td>03-03</td>\n",
       "      <td>03-03</td>\n",
       "    </tr>\n",
       "  </tbody>\n",
       "</table>\n",
       "</div>"
      ],
      "text/plain": [
       "         Player 1      Player 2 Birthday 1 Birthday 2\n",
       "131  Jayson Tatum  Jordan Walsh      03-03      03-03"
      ]
     },
     "execution_count": 88,
     "metadata": {},
     "output_type": "execute_result"
    }
   ],
   "source": [
    "test = check_df.loc[(check_df['Birthday 1'] == check_df['Birthday 2'])]\n",
    "test"
   ]
  },
  {
   "cell_type": "markdown",
   "id": "06b1c69b-a011-4e0c-9018-21dd79787b94",
   "metadata": {},
   "source": [
    "## Q 6 – Pairs on the **Cleveland Cavaliers**"
   ]
  },
  {
   "cell_type": "code",
   "execution_count": 95,
   "id": "97e5738a",
   "metadata": {
    "tags": []
   },
   "outputs": [],
   "source": [
    "teamCLE_df = df.loc[df['team'] == 'CLE'].copy()"
   ]
  },
  {
   "cell_type": "code",
   "execution_count": 98,
   "id": "88a8d883-8d75-4ca3-ad8e-ebeb1a3bff72",
   "metadata": {
    "tags": []
   },
   "outputs": [],
   "source": [
    "birthdayCLE_df = pd.DataFrame(combinations(teamCLE_df['birthday'], 2), columns=(\"Birthday 1\", \"Birthday 2\"))\n",
    "nameCLE_df = pd.DataFrame(combinations(teamCLE_df['name'], 2), columns=(\"Player 1\", \"Player 2\"))"
   ]
  },
  {
   "cell_type": "code",
   "execution_count": 103,
   "id": "85e6c02b-45ca-47fa-97cf-13fcacd31a6f",
   "metadata": {
    "tags": []
   },
   "outputs": [],
   "source": [
    "checkCLE_df = pd.concat([nameCLE_df, birthdayCLE_df], axis =1 )"
   ]
  },
  {
   "cell_type": "code",
   "execution_count": 105,
   "id": "6b5b04e4-5ff2-424f-b889-dc0680d7badb",
   "metadata": {
    "tags": []
   },
   "outputs": [
    {
     "data": {
      "text/html": [
       "<div>\n",
       "<style scoped>\n",
       "    .dataframe tbody tr th:only-of-type {\n",
       "        vertical-align: middle;\n",
       "    }\n",
       "\n",
       "    .dataframe tbody tr th {\n",
       "        vertical-align: top;\n",
       "    }\n",
       "\n",
       "    .dataframe thead th {\n",
       "        text-align: right;\n",
       "    }\n",
       "</style>\n",
       "<table border=\"1\" class=\"dataframe\">\n",
       "  <thead>\n",
       "    <tr style=\"text-align: right;\">\n",
       "      <th></th>\n",
       "      <th>Player 1</th>\n",
       "      <th>Player 2</th>\n",
       "      <th>Birthday 1</th>\n",
       "      <th>Birthday 2</th>\n",
       "    </tr>\n",
       "  </thead>\n",
       "  <tbody>\n",
       "    <tr>\n",
       "      <th>40</th>\n",
       "      <td>Darius Garland</td>\n",
       "      <td>Isaac Okoro</td>\n",
       "      <td>01-26</td>\n",
       "      <td>01-26</td>\n",
       "    </tr>\n",
       "    <tr>\n",
       "      <th>73</th>\n",
       "      <td>De'Andre Hunter</td>\n",
       "      <td>Jaylon Tyson</td>\n",
       "      <td>12-02</td>\n",
       "      <td>12-02</td>\n",
       "    </tr>\n",
       "  </tbody>\n",
       "</table>\n",
       "</div>"
      ],
      "text/plain": [
       "           Player 1      Player 2 Birthday 1 Birthday 2\n",
       "40   Darius Garland   Isaac Okoro      01-26      01-26\n",
       "73  De'Andre Hunter  Jaylon Tyson      12-02      12-02"
      ]
     },
     "execution_count": 105,
     "metadata": {},
     "output_type": "execute_result"
    }
   ],
   "source": [
    "A6 = checkCLE_df.loc[(checkCLE_df['Birthday 1'] == checkCLE_df['Birthday 2'])]\n",
    "A6"
   ]
  },
  {
   "cell_type": "markdown",
   "id": "09f83668",
   "metadata": {},
   "source": [
    "## Q 7 – Who shares a birthday with **Ivica Zubac**?"
   ]
  },
  {
   "cell_type": "code",
   "execution_count": 113,
   "id": "65d76b19",
   "metadata": {
    "tags": []
   },
   "outputs": [
    {
     "data": {
      "text/plain": [
       "'03-18'"
      ]
     },
     "execution_count": 113,
     "metadata": {},
     "output_type": "execute_result"
    }
   ],
   "source": [
    "IVbday_df = df.loc[df['name'] == 'Ivica Zubac', 'birthday'].squeeze()\n",
    "IVbday_df"
   ]
  },
  {
   "cell_type": "code",
   "execution_count": 117,
   "id": "bd5ce82a-693a-455c-9b43-80602f9a418b",
   "metadata": {
    "tags": []
   },
   "outputs": [
    {
     "data": {
      "text/plain": [
       "77        Devin Carter\n",
       "136          Kris Dunn\n",
       "143      Jesse Edwards\n",
       "289    Skal Labissiere\n",
       "Name: name, dtype: object"
      ]
     },
     "execution_count": 117,
     "metadata": {},
     "output_type": "execute_result"
    }
   ],
   "source": [
    "same_bd_df = df.loc[df['birthday'] == IVbday_df]\n",
    "others = same_bd_df.loc[same_bd_df['name'] != 'Ivica Zubac', 'name']\n",
    "others"
   ]
  }
 ],
 "metadata": {
  "kernelspec": {
   "display_name": "Python 3 (ipykernel)",
   "language": "python",
   "name": "python3"
  },
  "language_info": {
   "codemirror_mode": {
    "name": "ipython",
    "version": 3
   },
   "file_extension": ".py",
   "mimetype": "text/x-python",
   "name": "python",
   "nbconvert_exporter": "python",
   "pygments_lexer": "ipython3",
   "version": "3.11.5"
  }
 },
 "nbformat": 4,
 "nbformat_minor": 5
}
