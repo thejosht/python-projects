{
 "cells": [
  {
   "cell_type": "markdown",
   "id": "232bcec5",
   "metadata": {},
   "source": [
    "# Pokémon Filtering & Sorting with Pandas\n"
   ]
  },
  {
   "cell_type": "code",
   "execution_count": 3,
   "id": "6e1b0cb5-0a93-467a-aa6e-5f74cb344063",
   "metadata": {
    "tags": []
   },
   "outputs": [],
   "source": [
    "import pandas as pd\n",
    "import numpy as np\n",
    "\n",
    "import matplotlib.pyplot as plt\n",
    "import seaborn as sns"
   ]
  },
  {
   "cell_type": "code",
   "execution_count": 7,
   "id": "bbc4d964-2916-42d0-8a26-3e9a012cc9a4",
   "metadata": {
    "tags": []
   },
   "outputs": [],
   "source": [
    "df = pd.read_csv(\"Pokemon.csv\")"
   ]
  },
  {
   "cell_type": "code",
   "execution_count": 8,
   "id": "2d3a8edf-6f83-4f63-8d14-3da7d68f4db3",
   "metadata": {
    "tags": []
   },
   "outputs": [
    {
     "data": {
      "text/html": [
       "<div>\n",
       "<style scoped>\n",
       "    .dataframe tbody tr th:only-of-type {\n",
       "        vertical-align: middle;\n",
       "    }\n",
       "\n",
       "    .dataframe tbody tr th {\n",
       "        vertical-align: top;\n",
       "    }\n",
       "\n",
       "    .dataframe thead th {\n",
       "        text-align: right;\n",
       "    }\n",
       "</style>\n",
       "<table border=\"1\" class=\"dataframe\">\n",
       "  <thead>\n",
       "    <tr style=\"text-align: right;\">\n",
       "      <th></th>\n",
       "      <th>#</th>\n",
       "      <th>Name</th>\n",
       "      <th>Type 1</th>\n",
       "      <th>Type 2</th>\n",
       "      <th>Total</th>\n",
       "      <th>HP</th>\n",
       "      <th>Attack</th>\n",
       "      <th>Defense</th>\n",
       "      <th>Sp. Atk</th>\n",
       "      <th>Sp. Def</th>\n",
       "      <th>Speed</th>\n",
       "      <th>Generation</th>\n",
       "      <th>Legendary</th>\n",
       "    </tr>\n",
       "  </thead>\n",
       "  <tbody>\n",
       "    <tr>\n",
       "      <th>0</th>\n",
       "      <td>1</td>\n",
       "      <td>Bulbasaur</td>\n",
       "      <td>Grass</td>\n",
       "      <td>Poison</td>\n",
       "      <td>318</td>\n",
       "      <td>45</td>\n",
       "      <td>49</td>\n",
       "      <td>49</td>\n",
       "      <td>65</td>\n",
       "      <td>65</td>\n",
       "      <td>45</td>\n",
       "      <td>1</td>\n",
       "      <td>False</td>\n",
       "    </tr>\n",
       "    <tr>\n",
       "      <th>1</th>\n",
       "      <td>2</td>\n",
       "      <td>Ivysaur</td>\n",
       "      <td>Grass</td>\n",
       "      <td>Poison</td>\n",
       "      <td>405</td>\n",
       "      <td>60</td>\n",
       "      <td>62</td>\n",
       "      <td>63</td>\n",
       "      <td>80</td>\n",
       "      <td>80</td>\n",
       "      <td>60</td>\n",
       "      <td>1</td>\n",
       "      <td>False</td>\n",
       "    </tr>\n",
       "    <tr>\n",
       "      <th>2</th>\n",
       "      <td>3</td>\n",
       "      <td>Venusaur</td>\n",
       "      <td>Grass</td>\n",
       "      <td>Poison</td>\n",
       "      <td>525</td>\n",
       "      <td>80</td>\n",
       "      <td>82</td>\n",
       "      <td>83</td>\n",
       "      <td>100</td>\n",
       "      <td>100</td>\n",
       "      <td>80</td>\n",
       "      <td>1</td>\n",
       "      <td>False</td>\n",
       "    </tr>\n",
       "    <tr>\n",
       "      <th>3</th>\n",
       "      <td>3</td>\n",
       "      <td>VenusaurMega Venusaur</td>\n",
       "      <td>Grass</td>\n",
       "      <td>Poison</td>\n",
       "      <td>625</td>\n",
       "      <td>80</td>\n",
       "      <td>100</td>\n",
       "      <td>123</td>\n",
       "      <td>122</td>\n",
       "      <td>120</td>\n",
       "      <td>80</td>\n",
       "      <td>1</td>\n",
       "      <td>False</td>\n",
       "    </tr>\n",
       "    <tr>\n",
       "      <th>4</th>\n",
       "      <td>4</td>\n",
       "      <td>Charmander</td>\n",
       "      <td>Fire</td>\n",
       "      <td>NaN</td>\n",
       "      <td>309</td>\n",
       "      <td>39</td>\n",
       "      <td>52</td>\n",
       "      <td>43</td>\n",
       "      <td>60</td>\n",
       "      <td>50</td>\n",
       "      <td>65</td>\n",
       "      <td>1</td>\n",
       "      <td>False</td>\n",
       "    </tr>\n",
       "  </tbody>\n",
       "</table>\n",
       "</div>"
      ],
      "text/plain": [
       "   #                   Name Type 1  Type 2  Total  HP  Attack  Defense  \\\n",
       "0  1              Bulbasaur  Grass  Poison    318  45      49       49   \n",
       "1  2                Ivysaur  Grass  Poison    405  60      62       63   \n",
       "2  3               Venusaur  Grass  Poison    525  80      82       83   \n",
       "3  3  VenusaurMega Venusaur  Grass  Poison    625  80     100      123   \n",
       "4  4             Charmander   Fire     NaN    309  39      52       43   \n",
       "\n",
       "   Sp. Atk  Sp. Def  Speed  Generation  Legendary  \n",
       "0       65       65     45           1      False  \n",
       "1       80       80     60           1      False  \n",
       "2      100      100     80           1      False  \n",
       "3      122      120     80           1      False  \n",
       "4       60       50     65           1      False  "
      ]
     },
     "execution_count": 8,
     "metadata": {},
     "output_type": "execute_result"
    }
   ],
   "source": [
    "df.head()"
   ]
  },
  {
   "cell_type": "code",
   "execution_count": 9,
   "id": "f5f7d93e-e218-4ebf-b9c0-35bf31c75109",
   "metadata": {
    "tags": []
   },
   "outputs": [
    {
     "name": "stdout",
     "output_type": "stream",
     "text": [
      "(800, 13)\n"
     ]
    }
   ],
   "source": [
    "print(df.shape)"
   ]
  },
  {
   "cell_type": "markdown",
   "id": "33e5179f",
   "metadata": {
    "tags": []
   },
   "source": [
    "# **1.** How many Pokémon have an **Attack** greater than 150?\n"
   ]
  },
  {
   "cell_type": "code",
   "execution_count": 206,
   "id": "5af5f425-f6dc-402f-adec-9552981cfdfc",
   "metadata": {
    "tags": []
   },
   "outputs": [
    {
     "data": {
      "text/plain": [
       "18"
      ]
     },
     "execution_count": 206,
     "metadata": {},
     "output_type": "execute_result"
    }
   ],
   "source": [
    "mask_q1 = df['Attack'] > 150\n",
    "A1 = df.groupby(mask_q1)['Name'].count().loc[True]\n",
    "A1"
   ]
  },
  {
   "cell_type": "markdown",
   "id": "42a9bb8b",
   "metadata": {},
   "source": [
    "# **2.** Select all pokemon with a Speed of **10** or less\n"
   ]
  },
  {
   "cell_type": "code",
   "execution_count": 209,
   "id": "968bc0b0-b38b-4d56-8e6d-73519ab254a8",
   "metadata": {
    "tags": []
   },
   "outputs": [
    {
     "data": {
      "text/plain": [
       "5"
      ]
     },
     "execution_count": 209,
     "metadata": {},
     "output_type": "execute_result"
    }
   ],
   "source": [
    "mask_q2 = df['Speed']<=10\n",
    "\n",
    "A2 = df.groupby(mask_q2)['Name'].count().loc[True]\n",
    "A2"
   ]
  },
  {
   "cell_type": "markdown",
   "id": "23f6025e",
   "metadata": {},
   "source": [
    "# **3.** How many Pokémon have **Sp. Def** value of 25 or less?\n"
   ]
  },
  {
   "cell_type": "code",
   "execution_count": 219,
   "id": "5713c728-b696-4fa9-b474-e3fc1c9fb942",
   "metadata": {
    "tags": []
   },
   "outputs": [
    {
     "data": {
      "text/plain": [
       "18"
      ]
     },
     "execution_count": 219,
     "metadata": {},
     "output_type": "execute_result"
    }
   ],
   "source": [
    "mask_q3 = df['Sp. Def'] <= 25\n",
    "A3 = (df.groupby(mask_q3)['Name'].count()).loc[True]\n",
    "A3"
   ]
  },
  {
   "cell_type": "markdown",
   "id": "ab2197e5",
   "metadata": {},
   "source": [
    "# **4.** Select all **Legendary** Pokémon\n"
   ]
  },
  {
   "cell_type": "code",
   "execution_count": 220,
   "id": "d71fbdfc-3b0f-4870-85d7-aa313b805cc1",
   "metadata": {
    "tags": []
   },
   "outputs": [
    {
     "data": {
      "text/plain": [
       "156               Articuno\n",
       "157                 Zapdos\n",
       "158                Moltres\n",
       "162                 Mewtwo\n",
       "163    MewtwoMega Mewtwo X\n",
       "              ...         \n",
       "795                Diancie\n",
       "796    DiancieMega Diancie\n",
       "797    HoopaHoopa Confined\n",
       "798     HoopaHoopa Unbound\n",
       "799              Volcanion\n",
       "Name: Name, Length: 65, dtype: object"
      ]
     },
     "execution_count": 220,
     "metadata": {},
     "output_type": "execute_result"
    }
   ],
   "source": [
    "A4 = df.loc[df['Legendary']]\n",
    "A4['Name']"
   ]
  },
  {
   "cell_type": "markdown",
   "id": "c28486f2",
   "metadata": {},
   "source": [
    "# **5.** Find the outlier: Pokémon with **high Defense** and **low Attack**\n"
   ]
  },
  {
   "cell_type": "code",
   "execution_count": 55,
   "id": "9c798971-78be-440b-a389-62aa9e808f96",
   "metadata": {
    "tags": []
   },
   "outputs": [
    {
     "data": {
      "text/plain": [
       "Text(150, 10, \"Who's this guy?\")"
      ]
     },
     "execution_count": 55,
     "metadata": {},
     "output_type": "execute_result"
    },
    {
     "data": {
      "image/png": "[encoded data removed]",
      "text/plain": [
       "<Figure size 640x480 with 1 Axes>"
      ]
     },
     "metadata": {},
     "output_type": "display_data"
    }
   ],
   "source": [
    "ax = sns. scatterplot(data=df, x=\"Defense\", y=\"Attack\")\n",
    "ax. annotate(\n",
    "    \"Who's this guy?\", xy=(228, 10), xytext=(150, 10), color='red', \n",
    "    arrowprops=dict (arrowstyle=\"->\", color='red')\n",
    ")    "
   ]
  },
  {
   "cell_type": "code",
   "execution_count": 62,
   "id": "babbff90-2b5e-416d-92ab-78c04643d44e",
   "metadata": {
    "tags": []
   },
   "outputs": [
    {
     "data": {
      "text/html": [
       "<div>\n",
       "<style scoped>\n",
       "    .dataframe tbody tr th:only-of-type {\n",
       "        vertical-align: middle;\n",
       "    }\n",
       "\n",
       "    .dataframe tbody tr th {\n",
       "        vertical-align: top;\n",
       "    }\n",
       "\n",
       "    .dataframe thead th {\n",
       "        text-align: right;\n",
       "    }\n",
       "</style>\n",
       "<table border=\"1\" class=\"dataframe\">\n",
       "  <thead>\n",
       "    <tr style=\"text-align: right;\">\n",
       "      <th></th>\n",
       "      <th>#</th>\n",
       "      <th>Name</th>\n",
       "      <th>Type 1</th>\n",
       "      <th>Type 2</th>\n",
       "      <th>Total</th>\n",
       "      <th>HP</th>\n",
       "      <th>Attack</th>\n",
       "      <th>Defense</th>\n",
       "      <th>Sp. Atk</th>\n",
       "      <th>Sp. Def</th>\n",
       "      <th>Speed</th>\n",
       "      <th>Generation</th>\n",
       "      <th>Legendary</th>\n",
       "    </tr>\n",
       "  </thead>\n",
       "  <tbody>\n",
       "    <tr>\n",
       "      <th>230</th>\n",
       "      <td>213</td>\n",
       "      <td>Shuckle</td>\n",
       "      <td>Bug</td>\n",
       "      <td>Rock</td>\n",
       "      <td>505</td>\n",
       "      <td>20</td>\n",
       "      <td>10</td>\n",
       "      <td>230</td>\n",
       "      <td>10</td>\n",
       "      <td>230</td>\n",
       "      <td>5</td>\n",
       "      <td>2</td>\n",
       "      <td>False</td>\n",
       "    </tr>\n",
       "  </tbody>\n",
       "</table>\n",
       "</div>"
      ],
      "text/plain": [
       "       #     Name Type 1 Type 2  Total  HP  Attack  Defense  Sp. Atk  Sp. Def  \\\n",
       "230  213  Shuckle    Bug   Rock    505  20      10      230       10      230   \n",
       "\n",
       "     Speed  Generation  Legendary  \n",
       "230      5           2      False  "
      ]
     },
     "execution_count": 62,
     "metadata": {},
     "output_type": "execute_result"
    }
   ],
   "source": [
    "A5 = df[(df['Attack']< 25) & (df['Defense']> 200)]\n",
    "A5"
   ]
  },
  {
   "cell_type": "markdown",
   "id": "5eac2f1e",
   "metadata": {},
   "source": [
    "# **6.** How many **Fire / Flying** Pokémon exist?\n"
   ]
  },
  {
   "cell_type": "code",
   "execution_count": 80,
   "id": "037836b6-f444-4f3e-9ed5-c4d2ee9d1e94",
   "metadata": {
    "tags": []
   },
   "outputs": [
    {
     "data": {
      "text/plain": [
       "6"
      ]
     },
     "execution_count": 80,
     "metadata": {},
     "output_type": "execute_result"
    }
   ],
   "source": [
    "A6 = ((df['Type 1'] == 'Fire') & (df['Type 2'] == 'Flying')).sum()\n",
    "A6"
   ]
  },
  {
   "cell_type": "markdown",
   "id": "9b7dbb6b",
   "metadata": {},
   "source": [
    "# **7.** How many Pokémon are **Poison‑type** in either slot?\n"
   ]
  },
  {
   "cell_type": "code",
   "execution_count": 79,
   "id": "f7986743-7a7b-44f3-87c3-22607f4eb07d",
   "metadata": {
    "tags": []
   },
   "outputs": [
    {
     "data": {
      "text/plain": [
       "62"
      ]
     },
     "execution_count": 79,
     "metadata": {},
     "output_type": "execute_result"
    }
   ],
   "source": [
    "A7 = ((df['Type 1'] == 'Poison') | (df['Type 2'] == 'Poison')).sum()\n",
    "A7"
   ]
  },
  {
   "cell_type": "markdown",
   "id": "9649bb4c",
   "metadata": {},
   "source": [
    "# **8.** Which **Type 1 = Ice** Pokémon has the **strongest Defense**?\n"
   ]
  },
  {
   "cell_type": "code",
   "execution_count": 92,
   "id": "8ad1d3dc-79db-4d47-96a0-e14040dcb732",
   "metadata": {
    "tags": []
   },
   "outputs": [
    {
     "data": {
      "text/html": [
       "<div>\n",
       "<style scoped>\n",
       "    .dataframe tbody tr th:only-of-type {\n",
       "        vertical-align: middle;\n",
       "    }\n",
       "\n",
       "    .dataframe tbody tr th {\n",
       "        vertical-align: top;\n",
       "    }\n",
       "\n",
       "    .dataframe thead th {\n",
       "        text-align: right;\n",
       "    }\n",
       "</style>\n",
       "<table border=\"1\" class=\"dataframe\">\n",
       "  <thead>\n",
       "    <tr style=\"text-align: right;\">\n",
       "      <th></th>\n",
       "      <th>#</th>\n",
       "      <th>Name</th>\n",
       "      <th>Type 1</th>\n",
       "      <th>Type 2</th>\n",
       "      <th>Total</th>\n",
       "      <th>HP</th>\n",
       "      <th>Attack</th>\n",
       "      <th>Defense</th>\n",
       "      <th>Sp. Atk</th>\n",
       "      <th>Sp. Def</th>\n",
       "      <th>Speed</th>\n",
       "      <th>Generation</th>\n",
       "      <th>Legendary</th>\n",
       "    </tr>\n",
       "  </thead>\n",
       "  <tbody>\n",
       "    <tr>\n",
       "      <th>789</th>\n",
       "      <td>713</td>\n",
       "      <td>Avalugg</td>\n",
       "      <td>Ice</td>\n",
       "      <td>NaN</td>\n",
       "      <td>514</td>\n",
       "      <td>95</td>\n",
       "      <td>117</td>\n",
       "      <td>184</td>\n",
       "      <td>44</td>\n",
       "      <td>46</td>\n",
       "      <td>28</td>\n",
       "      <td>6</td>\n",
       "      <td>False</td>\n",
       "    </tr>\n",
       "  </tbody>\n",
       "</table>\n",
       "</div>"
      ],
      "text/plain": [
       "       #     Name Type 1 Type 2  Total  HP  Attack  Defense  Sp. Atk  Sp. Def  \\\n",
       "789  713  Avalugg    Ice    NaN    514  95     117      184       44       46   \n",
       "\n",
       "     Speed  Generation  Legendary  \n",
       "789     28           6      False  "
      ]
     },
     "execution_count": 92,
     "metadata": {},
     "output_type": "execute_result"
    }
   ],
   "source": [
    "A8 = df[df['Type 1'] == 'Ice'].nlargest(1, 'Defense')\n",
    "A8"
   ]
  },
  {
   "cell_type": "markdown",
   "id": "f6dd33c7",
   "metadata": {},
   "source": [
    "# **9.** What's the most common **Type 1** among **Legendary** Pokémon\n"
   ]
  },
  {
   "cell_type": "code",
   "execution_count": 104,
   "id": "cf8e33fa-ac82-41fd-a2f3-1c927c8d3f47",
   "metadata": {
    "tags": []
   },
   "outputs": [
    {
     "data": {
      "text/plain": [
       "Type 1\n",
       "Psychic     14\n",
       "Dragon      12\n",
       "Fire         5\n",
       "Electric     4\n",
       "Water        4\n",
       "Name: count, dtype: int64"
      ]
     },
     "execution_count": 104,
     "metadata": {},
     "output_type": "execute_result"
    }
   ],
   "source": [
    "A9 = df.loc[df['Legendary'], 'Type 1'].value_counts().head()\n",
    "A9"
   ]
  },
  {
   "cell_type": "markdown",
   "id": "cfa29b80",
   "metadata": {},
   "source": [
    "# **10.** What's the most powerful **Water** Pokémon (by `Total`) in **Generations 1–3**\n"
   ]
  },
  {
   "cell_type": "code",
   "execution_count": 161,
   "id": "4b8c80eb-94c9-474c-97f0-ed520cbd7a6b",
   "metadata": {
    "tags": []
   },
   "outputs": [
    {
     "data": {
      "text/plain": [
       "422    KyogrePrimal Kyogre\n",
       "Name: Name, dtype: object"
      ]
     },
     "execution_count": 161,
     "metadata": {},
     "output_type": "execute_result"
    }
   ],
   "source": [
    "water_mask = (df['Type 1'] == 'Water') | (df['Type 2'] == 'Water')\n",
    "gen123_mask = df['Generation'].isin([1,2,3])\n",
    "A10 = (\n",
    "    df\n",
    "    .loc[water_mask & gen123_mask]\n",
    "    .sort_values('Total', ascending = False)\n",
    "    .head(1)\n",
    ")\n",
    "A10['Name']"
   ]
  },
  {
   "cell_type": "markdown",
   "id": "b85ca5af",
   "metadata": {},
   "source": [
    "# **11.** What's the most powerful **Dragon** from **Generations 5–6**\n"
   ]
  },
  {
   "cell_type": "code",
   "execution_count": 166,
   "id": "b85cfbbe-5479-4132-96ae-c2e8fbc7bccd",
   "metadata": {
    "tags": []
   },
   "outputs": [
    {
     "data": {
      "text/plain": [
       "711    KyuremBlack Kyurem\n",
       "Name: Name, dtype: object"
      ]
     },
     "execution_count": 166,
     "metadata": {},
     "output_type": "execute_result"
    }
   ],
   "source": [
    "dragon_mask = (df['Type 1'] == 'Dragon') | (df['Type 2'] == 'Dragon')\n",
    "gen56_mask = df['Generation'].isin([5,6])\n",
    "A11 = df[dragon_mask & gen56_mask].sort_values('Total', ascending = False).head(1)\n",
    "A11['Name']"
   ]
  },
  {
   "cell_type": "markdown",
   "id": "4503d7ee",
   "metadata": {},
   "source": [
    "# **12.** Select all **Fire**‐type Pokémon with **Attack > 100**\n"
   ]
  },
  {
   "cell_type": "code",
   "execution_count": 174,
   "id": "087ed882-8c84-4123-b576-cc14faf6e57b",
   "metadata": {
    "tags": []
   },
   "outputs": [
    {
     "data": {
      "text/html": [
       "<div>\n",
       "<style scoped>\n",
       "    .dataframe tbody tr th:only-of-type {\n",
       "        vertical-align: middle;\n",
       "    }\n",
       "\n",
       "    .dataframe tbody tr th {\n",
       "        vertical-align: top;\n",
       "    }\n",
       "\n",
       "    .dataframe thead th {\n",
       "        text-align: right;\n",
       "    }\n",
       "</style>\n",
       "<table border=\"1\" class=\"dataframe\">\n",
       "  <thead>\n",
       "    <tr style=\"text-align: right;\">\n",
       "      <th></th>\n",
       "      <th>Name</th>\n",
       "      <th>Attack</th>\n",
       "    </tr>\n",
       "  </thead>\n",
       "  <tbody>\n",
       "    <tr>\n",
       "      <th>7</th>\n",
       "      <td>CharizardMega Charizard X</td>\n",
       "      <td>130</td>\n",
       "    </tr>\n",
       "    <tr>\n",
       "      <th>8</th>\n",
       "      <td>CharizardMega Charizard Y</td>\n",
       "      <td>104</td>\n",
       "    </tr>\n",
       "    <tr>\n",
       "      <th>64</th>\n",
       "      <td>Arcanine</td>\n",
       "      <td>110</td>\n",
       "    </tr>\n",
       "    <tr>\n",
       "      <th>147</th>\n",
       "      <td>Flareon</td>\n",
       "      <td>130</td>\n",
       "    </tr>\n",
       "    <tr>\n",
       "      <th>263</th>\n",
       "      <td>Entei</td>\n",
       "      <td>115</td>\n",
       "    </tr>\n",
       "    <tr>\n",
       "      <th>270</th>\n",
       "      <td>Ho-oh</td>\n",
       "      <td>130</td>\n",
       "    </tr>\n",
       "    <tr>\n",
       "      <th>278</th>\n",
       "      <td>Blaziken</td>\n",
       "      <td>120</td>\n",
       "    </tr>\n",
       "    <tr>\n",
       "      <th>279</th>\n",
       "      <td>BlazikenMega Blaziken</td>\n",
       "      <td>160</td>\n",
       "    </tr>\n",
       "    <tr>\n",
       "      <th>354</th>\n",
       "      <td>CameruptMega Camerupt</td>\n",
       "      <td>120</td>\n",
       "    </tr>\n",
       "    <tr>\n",
       "      <th>424</th>\n",
       "      <td>GroudonPrimal Groudon</td>\n",
       "      <td>180</td>\n",
       "    </tr>\n",
       "    <tr>\n",
       "      <th>437</th>\n",
       "      <td>Infernape</td>\n",
       "      <td>104</td>\n",
       "    </tr>\n",
       "    <tr>\n",
       "      <th>559</th>\n",
       "      <td>Emboar</td>\n",
       "      <td>123</td>\n",
       "    </tr>\n",
       "    <tr>\n",
       "      <th>615</th>\n",
       "      <td>DarmanitanStandard Mode</td>\n",
       "      <td>140</td>\n",
       "    </tr>\n",
       "    <tr>\n",
       "      <th>706</th>\n",
       "      <td>Reshiram</td>\n",
       "      <td>120</td>\n",
       "    </tr>\n",
       "    <tr>\n",
       "      <th>799</th>\n",
       "      <td>Volcanion</td>\n",
       "      <td>110</td>\n",
       "    </tr>\n",
       "  </tbody>\n",
       "</table>\n",
       "</div>"
      ],
      "text/plain": [
       "                          Name  Attack\n",
       "7    CharizardMega Charizard X     130\n",
       "8    CharizardMega Charizard Y     104\n",
       "64                    Arcanine     110\n",
       "147                    Flareon     130\n",
       "263                      Entei     115\n",
       "270                      Ho-oh     130\n",
       "278                   Blaziken     120\n",
       "279      BlazikenMega Blaziken     160\n",
       "354      CameruptMega Camerupt     120\n",
       "424      GroudonPrimal Groudon     180\n",
       "437                  Infernape     104\n",
       "559                     Emboar     123\n",
       "615    DarmanitanStandard Mode     140\n",
       "706                   Reshiram     120\n",
       "799                  Volcanion     110"
      ]
     },
     "execution_count": 174,
     "metadata": {},
     "output_type": "execute_result"
    }
   ],
   "source": [
    "fire_mask = (df['Type 1'] == \"Fire\") |(df['Type 2'] == 'Fire')\n",
    "attplus100_mask = df['Attack'] > 100\n",
    "A12 = df[fire_mask & attplus100_mask]\n",
    "A12[['Name','Attack']]"
   ]
  },
  {
   "cell_type": "markdown",
   "id": "1da954b7",
   "metadata": {},
   "source": [
    "# **13.** Select all Pokémon that are **both Water and Flying** types\n"
   ]
  },
  {
   "cell_type": "code",
   "execution_count": 178,
   "id": "2d6e987c-32d3-4902-b741-6a321b34c753",
   "metadata": {
    "tags": []
   },
   "outputs": [
    {
     "data": {
      "text/html": [
       "<div>\n",
       "<style scoped>\n",
       "    .dataframe tbody tr th:only-of-type {\n",
       "        vertical-align: middle;\n",
       "    }\n",
       "\n",
       "    .dataframe tbody tr th {\n",
       "        vertical-align: top;\n",
       "    }\n",
       "\n",
       "    .dataframe thead th {\n",
       "        text-align: right;\n",
       "    }\n",
       "</style>\n",
       "<table border=\"1\" class=\"dataframe\">\n",
       "  <thead>\n",
       "    <tr style=\"text-align: right;\">\n",
       "      <th></th>\n",
       "      <th>Name</th>\n",
       "      <th>Type 1</th>\n",
       "      <th>Type 2</th>\n",
       "    </tr>\n",
       "  </thead>\n",
       "  <tbody>\n",
       "    <tr>\n",
       "      <th>140</th>\n",
       "      <td>Gyarados</td>\n",
       "      <td>Water</td>\n",
       "      <td>Flying</td>\n",
       "    </tr>\n",
       "    <tr>\n",
       "      <th>244</th>\n",
       "      <td>Mantine</td>\n",
       "      <td>Water</td>\n",
       "      <td>Flying</td>\n",
       "    </tr>\n",
       "    <tr>\n",
       "      <th>301</th>\n",
       "      <td>Wingull</td>\n",
       "      <td>Water</td>\n",
       "      <td>Flying</td>\n",
       "    </tr>\n",
       "    <tr>\n",
       "      <th>302</th>\n",
       "      <td>Pelipper</td>\n",
       "      <td>Water</td>\n",
       "      <td>Flying</td>\n",
       "    </tr>\n",
       "    <tr>\n",
       "      <th>508</th>\n",
       "      <td>Mantyke</td>\n",
       "      <td>Water</td>\n",
       "      <td>Flying</td>\n",
       "    </tr>\n",
       "    <tr>\n",
       "      <th>641</th>\n",
       "      <td>Ducklett</td>\n",
       "      <td>Water</td>\n",
       "      <td>Flying</td>\n",
       "    </tr>\n",
       "    <tr>\n",
       "      <th>642</th>\n",
       "      <td>Swanna</td>\n",
       "      <td>Water</td>\n",
       "      <td>Flying</td>\n",
       "    </tr>\n",
       "  </tbody>\n",
       "</table>\n",
       "</div>"
      ],
      "text/plain": [
       "         Name Type 1  Type 2\n",
       "140  Gyarados  Water  Flying\n",
       "244   Mantine  Water  Flying\n",
       "301   Wingull  Water  Flying\n",
       "302  Pelipper  Water  Flying\n",
       "508   Mantyke  Water  Flying\n",
       "641  Ducklett  Water  Flying\n",
       "642    Swanna  Water  Flying"
      ]
     },
     "execution_count": 178,
     "metadata": {},
     "output_type": "execute_result"
    }
   ],
   "source": [
    "A13 = df.loc[((df['Type 1'] == 'Water') & (df['Type 2'] == 'Flying'))|((df['Type 1'] == 'Flying') & (df['Type 2'] == 'Water'))]\n",
    "A13[['Name','Type 1','Type 2']]"
   ]
  },
  {
   "cell_type": "markdown",
   "id": "000d10a9",
   "metadata": {},
   "source": [
    "# **14.** Select the specifique coloms for Legenday Fire Pokémon (select Name, HP, Attack, Speed)\n"
   ]
  },
  {
   "cell_type": "code",
   "execution_count": 180,
   "id": "3a8ff1af-4dd1-40dd-93c4-595ad1d8a0fb",
   "metadata": {
    "tags": []
   },
   "outputs": [
    {
     "data": {
      "text/html": [
       "<div>\n",
       "<style scoped>\n",
       "    .dataframe tbody tr th:only-of-type {\n",
       "        vertical-align: middle;\n",
       "    }\n",
       "\n",
       "    .dataframe tbody tr th {\n",
       "        vertical-align: top;\n",
       "    }\n",
       "\n",
       "    .dataframe thead th {\n",
       "        text-align: right;\n",
       "    }\n",
       "</style>\n",
       "<table border=\"1\" class=\"dataframe\">\n",
       "  <thead>\n",
       "    <tr style=\"text-align: right;\">\n",
       "      <th></th>\n",
       "      <th>Name</th>\n",
       "      <th>HP</th>\n",
       "      <th>Attack</th>\n",
       "      <th>Speed</th>\n",
       "    </tr>\n",
       "  </thead>\n",
       "  <tbody>\n",
       "    <tr>\n",
       "      <th>158</th>\n",
       "      <td>Moltres</td>\n",
       "      <td>90</td>\n",
       "      <td>100</td>\n",
       "      <td>90</td>\n",
       "    </tr>\n",
       "    <tr>\n",
       "      <th>246</th>\n",
       "      <td>Houndour</td>\n",
       "      <td>45</td>\n",
       "      <td>60</td>\n",
       "      <td>65</td>\n",
       "    </tr>\n",
       "    <tr>\n",
       "      <th>247</th>\n",
       "      <td>Houndoom</td>\n",
       "      <td>75</td>\n",
       "      <td>90</td>\n",
       "      <td>95</td>\n",
       "    </tr>\n",
       "    <tr>\n",
       "      <th>248</th>\n",
       "      <td>HoundoomMega Houndoom</td>\n",
       "      <td>75</td>\n",
       "      <td>90</td>\n",
       "      <td>115</td>\n",
       "    </tr>\n",
       "    <tr>\n",
       "      <th>263</th>\n",
       "      <td>Entei</td>\n",
       "      <td>115</td>\n",
       "      <td>115</td>\n",
       "      <td>100</td>\n",
       "    </tr>\n",
       "    <tr>\n",
       "      <th>270</th>\n",
       "      <td>Ho-oh</td>\n",
       "      <td>106</td>\n",
       "      <td>130</td>\n",
       "      <td>90</td>\n",
       "    </tr>\n",
       "    <tr>\n",
       "      <th>424</th>\n",
       "      <td>GroudonPrimal Groudon</td>\n",
       "      <td>100</td>\n",
       "      <td>180</td>\n",
       "      <td>90</td>\n",
       "    </tr>\n",
       "    <tr>\n",
       "      <th>532</th>\n",
       "      <td>RotomHeat Rotom</td>\n",
       "      <td>50</td>\n",
       "      <td>65</td>\n",
       "      <td>86</td>\n",
       "    </tr>\n",
       "    <tr>\n",
       "      <th>542</th>\n",
       "      <td>Heatran</td>\n",
       "      <td>91</td>\n",
       "      <td>90</td>\n",
       "      <td>77</td>\n",
       "    </tr>\n",
       "    <tr>\n",
       "      <th>553</th>\n",
       "      <td>Victini</td>\n",
       "      <td>100</td>\n",
       "      <td>100</td>\n",
       "      <td>100</td>\n",
       "    </tr>\n",
       "    <tr>\n",
       "      <th>668</th>\n",
       "      <td>Litwick</td>\n",
       "      <td>50</td>\n",
       "      <td>30</td>\n",
       "      <td>20</td>\n",
       "    </tr>\n",
       "    <tr>\n",
       "      <th>669</th>\n",
       "      <td>Lampent</td>\n",
       "      <td>60</td>\n",
       "      <td>40</td>\n",
       "      <td>55</td>\n",
       "    </tr>\n",
       "    <tr>\n",
       "      <th>670</th>\n",
       "      <td>Chandelure</td>\n",
       "      <td>60</td>\n",
       "      <td>55</td>\n",
       "      <td>80</td>\n",
       "    </tr>\n",
       "    <tr>\n",
       "      <th>697</th>\n",
       "      <td>Larvesta</td>\n",
       "      <td>55</td>\n",
       "      <td>85</td>\n",
       "      <td>60</td>\n",
       "    </tr>\n",
       "    <tr>\n",
       "      <th>698</th>\n",
       "      <td>Volcarona</td>\n",
       "      <td>85</td>\n",
       "      <td>60</td>\n",
       "      <td>100</td>\n",
       "    </tr>\n",
       "    <tr>\n",
       "      <th>706</th>\n",
       "      <td>Reshiram</td>\n",
       "      <td>100</td>\n",
       "      <td>120</td>\n",
       "      <td>90</td>\n",
       "    </tr>\n",
       "    <tr>\n",
       "      <th>799</th>\n",
       "      <td>Volcanion</td>\n",
       "      <td>80</td>\n",
       "      <td>110</td>\n",
       "      <td>70</td>\n",
       "    </tr>\n",
       "  </tbody>\n",
       "</table>\n",
       "</div>"
      ],
      "text/plain": [
       "                      Name   HP  Attack  Speed\n",
       "158                Moltres   90     100     90\n",
       "246               Houndour   45      60     65\n",
       "247               Houndoom   75      90     95\n",
       "248  HoundoomMega Houndoom   75      90    115\n",
       "263                  Entei  115     115    100\n",
       "270                  Ho-oh  106     130     90\n",
       "424  GroudonPrimal Groudon  100     180     90\n",
       "532        RotomHeat Rotom   50      65     86\n",
       "542                Heatran   91      90     77\n",
       "553                Victini  100     100    100\n",
       "668                Litwick   50      30     20\n",
       "669                Lampent   60      40     55\n",
       "670             Chandelure   60      55     80\n",
       "697               Larvesta   55      85     60\n",
       "698              Volcarona   85      60    100\n",
       "706               Reshiram  100     120     90\n",
       "799              Volcanion   80     110     70"
      ]
     },
     "execution_count": 180,
     "metadata": {},
     "output_type": "execute_result"
    }
   ],
   "source": [
    "A14 = (df[(df['Legendary'] == True) & (df['Type 1'] == 'Fire') | (df['Type 2'] == 'Fire')])\n",
    "A14[['Name', 'HP','Attack','Speed']]"
   ]
  },
  {
   "cell_type": "markdown",
   "id": "c11b9f74",
   "metadata": {},
   "source": [
    "# **15.** Select the Slowest and Fastest **5 %** of Pokémon by **Speed**\n"
   ]
  },
  {
   "cell_type": "code",
   "execution_count": 187,
   "id": "e8431b90-fc24-4644-b638-ad1685597c00",
   "metadata": {
    "tags": []
   },
   "outputs": [
    {
     "data": {
      "text/plain": [
       "<matplotlib.lines.Line2D at 0x30210a890>"
      ]
     },
     "execution_count": 187,
     "metadata": {},
     "output_type": "execute_result"
    },
    {
     "data": {
      "image/png": "[encoded data removed]",
      "text/plain": [
       "<Figure size 1000x500 with 1 Axes>"
      ]
     },
     "metadata": {},
     "output_type": "display_data"
    }
   ],
   "source": [
    "ax = df ['Speed'].plot (kind='hist', figsize=(10, 5), bins=100)\n",
    "ax.axvline(df['Speed'].quantile(.05), color='red')\n",
    "ax.axvline(df['Speed'].quantile(.95), color='red')"
   ]
  },
  {
   "cell_type": "code",
   "execution_count": 188,
   "id": "0630ce24-c0dd-4cef-b185-d4a5108de7f4",
   "metadata": {
    "tags": []
   },
   "outputs": [
    {
     "name": "stdout",
     "output_type": "stream",
     "text": [
      "Slowest set:           Name  Speed\n",
      "44  Jigglypuff     20\n",
      "51       Paras     25\n",
      "80     Geodude     20\n",
      "85    Slowpoke     15\n",
      "95      Grimer     25\n",
      "Fastest set:                      Name  Speed\n",
      "19  BeedrillMega Beedrill    145\n",
      "23    PidgeotMega Pidgeot    121\n",
      "56                Dugtrio    120\n",
      "58                Persian    115\n",
      "70               Alakazam    120\n"
     ]
    }
   ],
   "source": [
    "quantile_5 = df['Speed'].quantile(0.05)\n",
    "quantile_95 = df['Speed'].quantile(0.95)\n",
    "slowest_5_df = df[df['Speed'] <= quantile_5]\n",
    "fastest_5_df = df[df['Speed'] >= quantile_95]\n",
    "print('Slowest set:', slowest_5_df[['Name','Speed']].head())\n",
    "print('Fastest set:', fastest_5_df[['Name','Speed']].head())"
   ]
  },
  {
   "cell_type": "markdown",
   "id": "fb6a10c9",
   "metadata": {},
   "source": [
    "# **16.** Find the Ultra‑Powerful Legendary Pokémon (highest `Total` overall)\n"
   ]
  },
  {
   "cell_type": "code",
   "execution_count": 203,
   "id": "7b949c41-1de9-4d14-9756-9ef510216fce",
   "metadata": {
    "tags": []
   },
   "outputs": [
    {
     "data": {
      "text/plain": [
       "Name     MewtwoMega Mewtwo X\n",
       "Total                    780\n",
       "Name: 163, dtype: object"
      ]
     },
     "execution_count": 203,
     "metadata": {},
     "output_type": "execute_result"
    }
   ],
   "source": [
    "A16 = df[df['Legendary']].loc[df['Total'].idxmax()]\n",
    "A16[['Name','Total']]"
   ]
  }
 ],
 "metadata": {
  "kernelspec": {
   "display_name": "Python 3 (ipykernel)",
   "language": "python",
   "name": "python3"
  },
  "language_info": {
   "codemirror_mode": {
    "name": "ipython",
    "version": 3
   },
   "file_extension": ".py",
   "mimetype": "text/x-python",
   "name": "python",
   "nbconvert_exporter": "python",
   "pygments_lexer": "ipython3",
   "version": "3.11.5"
  }
 },
 "nbformat": 4,
 "nbformat_minor": 5
}
