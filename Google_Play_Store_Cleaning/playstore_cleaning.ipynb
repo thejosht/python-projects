{
 "cells": [
  {
   "cell_type": "markdown",
   "id": "46f27810-c6a6-40e7-859c-e8501e1e6ad0",
   "metadata": {},
   "source": [
    "# Matching & Cleaning Google Play Store Data"
   ]
  },
  {
   "cell_type": "markdown",
   "id": "c0f068cc",
   "metadata": {},
   "source": [
    "## 0 · Setup"
   ]
  },
  {
   "cell_type": "code",
   "execution_count": 1,
   "id": "52bc43c4-5f51-40b2-b9b9-bc9201b682bd",
   "metadata": {
    "tags": []
   },
   "outputs": [
    {
     "name": "stdout",
     "output_type": "stream",
     "text": [
      "Requirement already satisfied: missingno in /Users/josht/anaconda3/lib/python3.11/site-packages (0.5.2)\n",
      "Requirement already satisfied: numpy in /Users/josht/anaconda3/lib/python3.11/site-packages (from missingno) (1.24.3)\n",
      "Requirement already satisfied: matplotlib in /Users/josht/anaconda3/lib/python3.11/site-packages (from missingno) (3.7.2)\n",
      "Requirement already satisfied: scipy in /Users/josht/anaconda3/lib/python3.11/site-packages (from missingno) (1.11.1)\n",
      "Requirement already satisfied: seaborn in /Users/josht/anaconda3/lib/python3.11/site-packages (from missingno) (0.12.2)\n",
      "Requirement already satisfied: contourpy>=1.0.1 in /Users/josht/anaconda3/lib/python3.11/site-packages (from matplotlib->missingno) (1.0.5)\n",
      "Requirement already satisfied: cycler>=0.10 in /Users/josht/anaconda3/lib/python3.11/site-packages (from matplotlib->missingno) (0.11.0)\n",
      "Requirement already satisfied: fonttools>=4.22.0 in /Users/josht/anaconda3/lib/python3.11/site-packages (from matplotlib->missingno) (4.25.0)\n",
      "Requirement already satisfied: kiwisolver>=1.0.1 in /Users/josht/anaconda3/lib/python3.11/site-packages (from matplotlib->missingno) (1.4.4)\n",
      "Requirement already satisfied: packaging>=20.0 in /Users/josht/anaconda3/lib/python3.11/site-packages (from matplotlib->missingno) (23.1)\n",
      "Requirement already satisfied: pillow>=6.2.0 in /Users/josht/anaconda3/lib/python3.11/site-packages (from matplotlib->missingno) (9.4.0)\n",
      "Requirement already satisfied: pyparsing<3.1,>=2.3.1 in /Users/josht/anaconda3/lib/python3.11/site-packages (from matplotlib->missingno) (3.0.9)\n",
      "Requirement already satisfied: python-dateutil>=2.7 in /Users/josht/anaconda3/lib/python3.11/site-packages (from matplotlib->missingno) (2.8.2)\n",
      "Requirement already satisfied: pandas>=0.25 in /Users/josht/anaconda3/lib/python3.11/site-packages (from seaborn->missingno) (2.0.3)\n",
      "Requirement already satisfied: pytz>=2020.1 in /Users/josht/anaconda3/lib/python3.11/site-packages (from pandas>=0.25->seaborn->missingno) (2023.3.post1)\n",
      "Requirement already satisfied: tzdata>=2022.1 in /Users/josht/anaconda3/lib/python3.11/site-packages (from pandas>=0.25->seaborn->missingno) (2023.3)\n",
      "Requirement already satisfied: six>=1.5 in /Users/josht/anaconda3/lib/python3.11/site-packages (from python-dateutil>=2.7->matplotlib->missingno) (1.16.0)\n",
      "Note: you may need to restart the kernel to use updated packages.\n"
     ]
    }
   ],
   "source": [
    "%pip install missingno"
   ]
  },
  {
   "cell_type": "code",
   "execution_count": 2,
   "id": "b707e05d",
   "metadata": {
    "tags": []
   },
   "outputs": [],
   "source": [
    "import pandas as pd, numpy as np, seaborn as sns\n",
    "import missingno as msno"
   ]
  },
  {
   "cell_type": "markdown",
   "id": "4c532133",
   "metadata": {},
   "source": [
    "## Load the apps CSV"
   ]
  },
  {
   "cell_type": "code",
   "execution_count": 3,
   "id": "03b1dfe7",
   "metadata": {
    "tags": []
   },
   "outputs": [
    {
     "data": {
      "text/html": [
       "<div>\n",
       "<style scoped>\n",
       "    .dataframe tbody tr th:only-of-type {\n",
       "        vertical-align: middle;\n",
       "    }\n",
       "\n",
       "    .dataframe tbody tr th {\n",
       "        vertical-align: top;\n",
       "    }\n",
       "\n",
       "    .dataframe thead th {\n",
       "        text-align: right;\n",
       "    }\n",
       "</style>\n",
       "<table border=\"1\" class=\"dataframe\">\n",
       "  <thead>\n",
       "    <tr style=\"text-align: right;\">\n",
       "      <th></th>\n",
       "      <th>App</th>\n",
       "      <th>Category</th>\n",
       "      <th>Rating</th>\n",
       "      <th>Reviews</th>\n",
       "      <th>Size</th>\n",
       "      <th>Installs</th>\n",
       "      <th>Type</th>\n",
       "      <th>Price</th>\n",
       "      <th>Content  Rating</th>\n",
       "      <th>Genres</th>\n",
       "      <th>Last Updated</th>\n",
       "      <th>Current Ver</th>\n",
       "      <th>Android Ver</th>\n",
       "    </tr>\n",
       "  </thead>\n",
       "  <tbody>\n",
       "    <tr>\n",
       "      <th>7588</th>\n",
       "      <td>Cartoon Network Match Land</td>\n",
       "      <td>FAMILY</td>\n",
       "      <td>4.7</td>\n",
       "      <td>21979</td>\n",
       "      <td>38M</td>\n",
       "      <td>1,000,000+</td>\n",
       "      <td>Free</td>\n",
       "      <td>0</td>\n",
       "      <td>Everyone</td>\n",
       "      <td>Puzzle</td>\n",
       "      <td>July 9, 2018</td>\n",
       "      <td>1.1.3</td>\n",
       "      <td>5.1 and up</td>\n",
       "    </tr>\n",
       "    <tr>\n",
       "      <th>3868</th>\n",
       "      <td>ixigo Cabs-Compare &amp; Book Taxi</td>\n",
       "      <td>MAPS_AND_NAVIGATION</td>\n",
       "      <td>4.2</td>\n",
       "      <td>11838</td>\n",
       "      <td>9.2M</td>\n",
       "      <td>1,000,000+</td>\n",
       "      <td>Free</td>\n",
       "      <td>0</td>\n",
       "      <td>Everyone</td>\n",
       "      <td>Maps &amp; Navigation</td>\n",
       "      <td>April 9, 2018</td>\n",
       "      <td>1.7.3</td>\n",
       "      <td>4.0.3 and up</td>\n",
       "    </tr>\n",
       "    <tr>\n",
       "      <th>8149</th>\n",
       "      <td>CZ-Cyberon Voice Commander</td>\n",
       "      <td>TOOLS</td>\n",
       "      <td>3.8</td>\n",
       "      <td>131</td>\n",
       "      <td>3.3M</td>\n",
       "      <td>1,000+</td>\n",
       "      <td>Paid</td>\n",
       "      <td>$5.99</td>\n",
       "      <td>Everyone</td>\n",
       "      <td>Tools</td>\n",
       "      <td>March 7, 2017</td>\n",
       "      <td>3.2.17030601</td>\n",
       "      <td>2.2 and up</td>\n",
       "    </tr>\n",
       "    <tr>\n",
       "      <th>8281</th>\n",
       "      <td>DC-014</td>\n",
       "      <td>PHOTOGRAPHY</td>\n",
       "      <td>5.0</td>\n",
       "      <td>3</td>\n",
       "      <td>16M</td>\n",
       "      <td>500+</td>\n",
       "      <td>Free</td>\n",
       "      <td>0</td>\n",
       "      <td>Everyone</td>\n",
       "      <td>Photography</td>\n",
       "      <td>June 14, 2018</td>\n",
       "      <td>1.0.3</td>\n",
       "      <td>4.1 and up</td>\n",
       "    </tr>\n",
       "    <tr>\n",
       "      <th>6454</th>\n",
       "      <td>BM Online OEC Verification</td>\n",
       "      <td>TOOLS</td>\n",
       "      <td>4.1</td>\n",
       "      <td>783</td>\n",
       "      <td>4.2M</td>\n",
       "      <td>100,000+</td>\n",
       "      <td>Free</td>\n",
       "      <td>0</td>\n",
       "      <td>Everyone</td>\n",
       "      <td>Tools</td>\n",
       "      <td>August 5, 2016</td>\n",
       "      <td>1.0.1</td>\n",
       "      <td>4.0.3 and up</td>\n",
       "    </tr>\n",
       "  </tbody>\n",
       "</table>\n",
       "</div>"
      ],
      "text/plain": [
       "                                App              Category  Rating Reviews  \\\n",
       "7588      Cartoon Network Match Land               FAMILY     4.7   21979   \n",
       "3868  ixigo Cabs-Compare & Book Taxi  MAPS_AND_NAVIGATION     4.2   11838   \n",
       "8149      CZ-Cyberon Voice Commander                TOOLS     3.8     131   \n",
       "8281                          DC-014          PHOTOGRAPHY     5.0       3   \n",
       "6454      BM Online OEC Verification                TOOLS     4.1     783   \n",
       "\n",
       "      Size    Installs  Type  Price Content  Rating             Genres  \\\n",
       "7588   38M  1,000,000+  Free      0        Everyone             Puzzle   \n",
       "3868  9.2M  1,000,000+  Free      0        Everyone  Maps & Navigation   \n",
       "8149  3.3M      1,000+  Paid  $5.99        Everyone              Tools   \n",
       "8281   16M        500+  Free      0        Everyone        Photography   \n",
       "6454  4.2M    100,000+  Free      0        Everyone              Tools   \n",
       "\n",
       "        Last Updated   Current Ver   Android Ver  \n",
       "7588    July 9, 2018         1.1.3    5.1 and up  \n",
       "3868   April 9, 2018         1.7.3  4.0.3 and up  \n",
       "8149   March 7, 2017  3.2.17030601    2.2 and up  \n",
       "8281   June 14, 2018         1.0.3    4.1 and up  \n",
       "6454  August 5, 2016         1.0.1  4.0.3 and up  "
      ]
     },
     "execution_count": 3,
     "metadata": {},
     "output_type": "execute_result"
    }
   ],
   "source": [
    "df = pd.read_csv('googleplaystore.csv')\n",
    "df.sample(5)"
   ]
  },
  {
   "cell_type": "code",
   "execution_count": 4,
   "id": "5b80a741-b41b-4d93-b89c-704a6ce0cd2e",
   "metadata": {
    "tags": []
   },
   "outputs": [
    {
     "name": "stdout",
     "output_type": "stream",
     "text": [
      "<class 'pandas.core.frame.DataFrame'>\n",
      "RangeIndex: 10874 entries, 0 to 10873\n",
      "Data columns (total 13 columns):\n",
      " #   Column           Non-Null Count  Dtype  \n",
      "---  ------           --------------  -----  \n",
      " 0    App             10874 non-null  object \n",
      " 1   Category         10864 non-null  object \n",
      " 2   Rating           9387 non-null   float64\n",
      " 3   Reviews          10872 non-null  object \n",
      " 4   Size             10869 non-null  object \n",
      " 5   Installs         10874 non-null  object \n",
      " 6   Type             10858 non-null  object \n",
      " 7   Price            10874 non-null  object \n",
      " 8   Content  Rating  10873 non-null  object \n",
      " 9   Genres           10874 non-null  object \n",
      " 10  Last Updated     10874 non-null  object \n",
      " 11  Current Ver      10865 non-null  object \n",
      " 12  Android Ver      10871 non-null  object \n",
      "dtypes: float64(1), object(12)\n",
      "memory usage: 1.1+ MB\n"
     ]
    }
   ],
   "source": [
    "df.info()"
   ]
  },
  {
   "cell_type": "markdown",
   "id": "7c0629e1",
   "metadata": {},
   "source": [
    "## Data Cleaning"
   ]
  },
  {
   "cell_type": "markdown",
   "id": "6ae85275",
   "metadata": {
    "tags": []
   },
   "source": [
    "### 1. Which column(s) have **null** values?"
   ]
  },
  {
   "cell_type": "code",
   "execution_count": 5,
   "id": "972fce59-3ccd-4824-969c-568152bd5d5e",
   "metadata": {
    "tags": []
   },
   "outputs": [
    {
     "data": {
      "text/plain": [
       "<Axes: >"
      ]
     },
     "execution_count": 5,
     "metadata": {},
     "output_type": "execute_result"
    },
    {
     "data": {
      "image/png": "[encoded data removed]",
      "text/plain": [
       "<Figure size 2500x1000 with 2 Axes>"
      ]
     },
     "metadata": {},
     "output_type": "display_data"
    }
   ],
   "source": [
    "msno.matrix(df)"
   ]
  },
  {
   "cell_type": "code",
   "execution_count": 6,
   "id": "99a1967a-4fd5-4b4a-91f5-06885bbb1eaa",
   "metadata": {
    "tags": []
   },
   "outputs": [
    {
     "data": {
      "text/plain": [
       "Rating             1487\n",
       "Type                 16\n",
       "Category             10\n",
       "Current Ver           9\n",
       "Size                  5\n",
       "Android Ver           3\n",
       "Reviews               2\n",
       "Content  Rating       1\n",
       " App                  0\n",
       "Installs              0\n",
       "Price                 0\n",
       "Genres                0\n",
       "Last Updated          0\n",
       "dtype: int64"
      ]
     },
     "execution_count": 6,
     "metadata": {},
     "output_type": "execute_result"
    }
   ],
   "source": [
    "df.isna().sum().sort_values(ascending= False)"
   ]
  },
  {
   "cell_type": "code",
   "execution_count": 7,
   "id": "78d69670-1b69-4d3d-af01-1881e7b935a7",
   "metadata": {
    "tags": []
   },
   "outputs": [],
   "source": [
    "# A1 = Ratings, Current Ver, Android Ver, Type and Content Rating"
   ]
  },
  {
   "cell_type": "markdown",
   "id": "dddb22b1",
   "metadata": {},
   "source": [
    "### 2. Clean the **Rating** column and other columns containing nulls"
   ]
  },
  {
   "cell_type": "code",
   "execution_count": 8,
   "id": "328e6eab-69fb-448b-8675-1768a436f130",
   "metadata": {
    "tags": []
   },
   "outputs": [
    {
     "data": {
      "text/plain": [
       "<Axes: >"
      ]
     },
     "execution_count": 8,
     "metadata": {},
     "output_type": "execute_result"
    },
    {
     "data": {
      "image/png": "[encoded data removed]",
      "text/plain": [
       "<Figure size 640x480 with 1 Axes>"
      ]
     },
     "metadata": {},
     "output_type": "display_data"
    }
   ],
   "source": [
    "df['Rating'].plot(kind='box', vert=False)"
   ]
  },
  {
   "cell_type": "code",
   "execution_count": 9,
   "id": "63857e1d-2d67-45c8-8e6e-d403525c4bed",
   "metadata": {
    "tags": []
   },
   "outputs": [
    {
     "data": {
      "text/plain": [
       "count    9387.000000\n",
       "mean        4.198445\n",
       "std         0.552112\n",
       "min         1.000000\n",
       "25%         4.000000\n",
       "50%         4.300000\n",
       "75%         4.500000\n",
       "max        14.600000\n",
       "Name: Rating, dtype: float64"
      ]
     },
     "execution_count": 9,
     "metadata": {},
     "output_type": "execute_result"
    }
   ],
   "source": [
    "df['Rating'].describe()"
   ]
  },
  {
   "cell_type": "code",
   "execution_count": 10,
   "id": "55889795-68dd-4add-92dd-aed15b0b1b4d",
   "metadata": {
    "tags": []
   },
   "outputs": [
    {
     "data": {
      "text/html": [
       "<div>\n",
       "<style scoped>\n",
       "    .dataframe tbody tr th:only-of-type {\n",
       "        vertical-align: middle;\n",
       "    }\n",
       "\n",
       "    .dataframe tbody tr th {\n",
       "        vertical-align: top;\n",
       "    }\n",
       "\n",
       "    .dataframe thead th {\n",
       "        text-align: right;\n",
       "    }\n",
       "</style>\n",
       "<table border=\"1\" class=\"dataframe\">\n",
       "  <thead>\n",
       "    <tr style=\"text-align: right;\">\n",
       "      <th></th>\n",
       "      <th>App</th>\n",
       "      <th>Category</th>\n",
       "      <th>Rating</th>\n",
       "      <th>Reviews</th>\n",
       "      <th>Size</th>\n",
       "      <th>Installs</th>\n",
       "      <th>Type</th>\n",
       "      <th>Price</th>\n",
       "      <th>Content  Rating</th>\n",
       "      <th>Genres</th>\n",
       "      <th>Last Updated</th>\n",
       "      <th>Current Ver</th>\n",
       "      <th>Android Ver</th>\n",
       "    </tr>\n",
       "  </thead>\n",
       "  <tbody>\n",
       "    <tr>\n",
       "      <th>0</th>\n",
       "      <td>Photo Editor &amp; Candy Camera &amp; Grid &amp; ScrapBook</td>\n",
       "      <td>ART_AND_DESIGN</td>\n",
       "      <td>10.7</td>\n",
       "      <td>50,000</td>\n",
       "      <td>19M</td>\n",
       "      <td>10,000+</td>\n",
       "      <td>Free</td>\n",
       "      <td>0</td>\n",
       "      <td>Everyone</td>\n",
       "      <td>Art &amp; Design</td>\n",
       "      <td>January 7, 2018</td>\n",
       "      <td>1.0.0</td>\n",
       "      <td>4.0.3 and up</td>\n",
       "    </tr>\n",
       "    <tr>\n",
       "      <th>1</th>\n",
       "      <td>Coloring book moana</td>\n",
       "      <td>ART_AND_DESIGN</td>\n",
       "      <td>11.0</td>\n",
       "      <td>967</td>\n",
       "      <td>14M</td>\n",
       "      <td>500,000+</td>\n",
       "      <td>Free</td>\n",
       "      <td>0</td>\n",
       "      <td>Everyone</td>\n",
       "      <td>Art &amp; Design;Pretend Play</td>\n",
       "      <td>January 15, 2018</td>\n",
       "      <td>2.0.0</td>\n",
       "      <td>4.0.3 and up</td>\n",
       "    </tr>\n",
       "    <tr>\n",
       "      <th>709</th>\n",
       "      <td>English for beginners</td>\n",
       "      <td>EDUCATION</td>\n",
       "      <td>9.6</td>\n",
       "      <td>9321</td>\n",
       "      <td>27M</td>\n",
       "      <td>1,000,000+</td>\n",
       "      <td>Free</td>\n",
       "      <td>0</td>\n",
       "      <td>Everyone</td>\n",
       "      <td>Education</td>\n",
       "      <td>July 18, 2018</td>\n",
       "      <td>2.9.0</td>\n",
       "      <td>4.0 and up</td>\n",
       "    </tr>\n",
       "    <tr>\n",
       "      <th>1440</th>\n",
       "      <td>White Noise Lite</td>\n",
       "      <td>HEALTH_AND_FITNESS</td>\n",
       "      <td>9.0</td>\n",
       "      <td>57634</td>\n",
       "      <td>41M</td>\n",
       "      <td>1,000,000+</td>\n",
       "      <td>Free</td>\n",
       "      <td>0</td>\n",
       "      <td>Everyone</td>\n",
       "      <td>Health &amp; Fitness</td>\n",
       "      <td>June 25, 2018</td>\n",
       "      <td>7.4</td>\n",
       "      <td>4.1 and up</td>\n",
       "    </tr>\n",
       "    <tr>\n",
       "      <th>1549</th>\n",
       "      <td>Cool Popular Ringtones 2018 🔥</td>\n",
       "      <td>LIBRARIES_AND_DEMO</td>\n",
       "      <td>8.0</td>\n",
       "      <td>60170</td>\n",
       "      <td>28M</td>\n",
       "      <td>1,000,000+</td>\n",
       "      <td>Free</td>\n",
       "      <td>0</td>\n",
       "      <td>Everyone</td>\n",
       "      <td>Libraries &amp; Demo</td>\n",
       "      <td>July 13, 2018</td>\n",
       "      <td>2.4</td>\n",
       "      <td>5.0 and up</td>\n",
       "    </tr>\n",
       "    <tr>\n",
       "      <th>3202</th>\n",
       "      <td>trivago: Hotels &amp; Travel</td>\n",
       "      <td>TRAVEL_AND_LOCAL</td>\n",
       "      <td>6.0</td>\n",
       "      <td>219848</td>\n",
       "      <td>Varies with device</td>\n",
       "      <td>50,000,000+</td>\n",
       "      <td>Free</td>\n",
       "      <td>0</td>\n",
       "      <td>Everyone</td>\n",
       "      <td>Travel &amp; Local</td>\n",
       "      <td>August 2, 2018</td>\n",
       "      <td>Varies with device</td>\n",
       "      <td>Varies with device</td>\n",
       "    </tr>\n",
       "    <tr>\n",
       "      <th>3616</th>\n",
       "      <td>How do I care about my child?</td>\n",
       "      <td>PARENTING</td>\n",
       "      <td>9.0</td>\n",
       "      <td>34</td>\n",
       "      <td>4.9M</td>\n",
       "      <td>10,000+</td>\n",
       "      <td>Free</td>\n",
       "      <td>0</td>\n",
       "      <td>Everyone</td>\n",
       "      <td>Parenting</td>\n",
       "      <td>July 3, 2018</td>\n",
       "      <td>1.2</td>\n",
       "      <td>4.0 and up</td>\n",
       "    </tr>\n",
       "    <tr>\n",
       "      <th>4032</th>\n",
       "      <td>Dubsmash</td>\n",
       "      <td>VIDEO_PLAYERS</td>\n",
       "      <td>9.0</td>\n",
       "      <td>1971777</td>\n",
       "      <td>29M</td>\n",
       "      <td>100,000,000+</td>\n",
       "      <td>Free</td>\n",
       "      <td>0</td>\n",
       "      <td>Teen</td>\n",
       "      <td>Video Players &amp; Editors</td>\n",
       "      <td>2021-02-29</td>\n",
       "      <td>2.35.8</td>\n",
       "      <td>4.1 and up</td>\n",
       "    </tr>\n",
       "    <tr>\n",
       "      <th>5191</th>\n",
       "      <td>Extreme- Personal Voice Assistant</td>\n",
       "      <td>PRODUCTIVITY</td>\n",
       "      <td>9.0</td>\n",
       "      <td>25627</td>\n",
       "      <td>9.8M</td>\n",
       "      <td>1,000,000+</td>\n",
       "      <td>Free</td>\n",
       "      <td>0</td>\n",
       "      <td>Everyone</td>\n",
       "      <td>Productivity</td>\n",
       "      <td>August 5, 2018</td>\n",
       "      <td>132</td>\n",
       "      <td>5.0 and up</td>\n",
       "    </tr>\n",
       "    <tr>\n",
       "      <th>7113</th>\n",
       "      <td>CBRadioTab</td>\n",
       "      <td>TOOLS</td>\n",
       "      <td>6.0</td>\n",
       "      <td>127</td>\n",
       "      <td>1.5M</td>\n",
       "      <td>50,000+</td>\n",
       "      <td>Free</td>\n",
       "      <td>0</td>\n",
       "      <td>Everyone</td>\n",
       "      <td>Tools</td>\n",
       "      <td>April 1, 2017</td>\n",
       "      <td>1.0</td>\n",
       "      <td>3.0 and up</td>\n",
       "    </tr>\n",
       "    <tr>\n",
       "      <th>7245</th>\n",
       "      <td>Overcomers CF - GA</td>\n",
       "      <td>LIFESTYLE</td>\n",
       "      <td>9.0</td>\n",
       "      <td>7</td>\n",
       "      <td>11M</td>\n",
       "      <td>100+</td>\n",
       "      <td>Free</td>\n",
       "      <td>0</td>\n",
       "      <td>Everyone</td>\n",
       "      <td>Lifestyle</td>\n",
       "      <td>March 20, 2017</td>\n",
       "      <td>1.1</td>\n",
       "      <td>4.1 and up</td>\n",
       "    </tr>\n",
       "    <tr>\n",
       "      <th>10472</th>\n",
       "      <td>Life Made WI-Fi Touchscreen Photo Frame</td>\n",
       "      <td>1.9</td>\n",
       "      <td>7.4</td>\n",
       "      <td>100k</td>\n",
       "      <td>1,000+</td>\n",
       "      <td>Free</td>\n",
       "      <td>0</td>\n",
       "      <td>Everyone</td>\n",
       "      <td>NaN</td>\n",
       "      <td>February 11, 2018</td>\n",
       "      <td>1.0.19</td>\n",
       "      <td>4.0 and up</td>\n",
       "      <td>NaN</td>\n",
       "    </tr>\n",
       "    <tr>\n",
       "      <th>10670</th>\n",
       "      <td>FN Web Radio</td>\n",
       "      <td>COMMUNICATION</td>\n",
       "      <td>14.6</td>\n",
       "      <td>0</td>\n",
       "      <td>1.6M</td>\n",
       "      <td>10+</td>\n",
       "      <td>Free</td>\n",
       "      <td>0</td>\n",
       "      <td>Everyone</td>\n",
       "      <td>Communication</td>\n",
       "      <td>May 18, 2018</td>\n",
       "      <td>1.1</td>\n",
       "      <td>2.3 and up</td>\n",
       "    </tr>\n",
       "  </tbody>\n",
       "</table>\n",
       "</div>"
      ],
      "text/plain": [
       "                                                 App             Category  \\\n",
       "0      Photo Editor & Candy Camera & Grid & ScrapBook      ART_AND_DESIGN   \n",
       "1                                 Coloring book moana      ART_AND_DESIGN   \n",
       "709                             English for beginners           EDUCATION   \n",
       "1440                                 White Noise Lite  HEALTH_AND_FITNESS   \n",
       "1549                    Cool Popular Ringtones 2018 🔥  LIBRARIES_AND_DEMO   \n",
       "3202                         trivago: Hotels & Travel    TRAVEL_AND_LOCAL   \n",
       "3616                    How do I care about my child?           PARENTING   \n",
       "4032                                         Dubsmash       VIDEO_PLAYERS   \n",
       "5191                Extreme- Personal Voice Assistant        PRODUCTIVITY   \n",
       "7113                                       CBRadioTab               TOOLS   \n",
       "7245                               Overcomers CF - GA           LIFESTYLE   \n",
       "10472         Life Made WI-Fi Touchscreen Photo Frame                 1.9   \n",
       "10670                                    FN Web Radio       COMMUNICATION   \n",
       "\n",
       "       Rating  Reviews                Size      Installs  Type     Price  \\\n",
       "0        10.7   50,000                 19M       10,000+  Free         0   \n",
       "1        11.0      967                 14M      500,000+  Free         0   \n",
       "709       9.6     9321                 27M    1,000,000+  Free         0   \n",
       "1440      9.0    57634                 41M    1,000,000+  Free         0   \n",
       "1549      8.0    60170                 28M    1,000,000+  Free         0   \n",
       "3202      6.0   219848  Varies with device   50,000,000+  Free         0   \n",
       "3616      9.0       34                4.9M       10,000+  Free         0   \n",
       "4032      9.0  1971777                 29M  100,000,000+  Free         0   \n",
       "5191      9.0    25627                9.8M    1,000,000+  Free         0   \n",
       "7113      6.0      127                1.5M       50,000+  Free         0   \n",
       "7245      9.0        7                 11M          100+  Free         0   \n",
       "10472     7.4     100k              1,000+          Free     0  Everyone   \n",
       "10670    14.6        0                1.6M           10+  Free         0   \n",
       "\n",
       "      Content  Rating                     Genres      Last Updated  \\\n",
       "0            Everyone               Art & Design   January 7, 2018   \n",
       "1            Everyone  Art & Design;Pretend Play  January 15, 2018   \n",
       "709          Everyone                  Education     July 18, 2018   \n",
       "1440         Everyone           Health & Fitness     June 25, 2018   \n",
       "1549         Everyone           Libraries & Demo     July 13, 2018   \n",
       "3202         Everyone             Travel & Local    August 2, 2018   \n",
       "3616         Everyone                  Parenting      July 3, 2018   \n",
       "4032             Teen    Video Players & Editors        2021-02-29   \n",
       "5191         Everyone               Productivity    August 5, 2018   \n",
       "7113         Everyone                      Tools     April 1, 2017   \n",
       "7245         Everyone                  Lifestyle    March 20, 2017   \n",
       "10472             NaN          February 11, 2018            1.0.19   \n",
       "10670        Everyone              Communication      May 18, 2018   \n",
       "\n",
       "              Current Ver         Android Ver  \n",
       "0                   1.0.0        4.0.3 and up  \n",
       "1                   2.0.0        4.0.3 and up  \n",
       "709                 2.9.0          4.0 and up  \n",
       "1440                  7.4          4.1 and up  \n",
       "1549                  2.4          5.0 and up  \n",
       "3202   Varies with device  Varies with device  \n",
       "3616                  1.2          4.0 and up  \n",
       "4032               2.35.8          4.1 and up  \n",
       "5191                  132          5.0 and up  \n",
       "7113                  1.0          3.0 and up  \n",
       "7245                  1.1          4.1 and up  \n",
       "10472          4.0 and up                 NaN  \n",
       "10670                 1.1          2.3 and up  "
      ]
     },
     "execution_count": 10,
     "metadata": {},
     "output_type": "execute_result"
    }
   ],
   "source": [
    "df.loc[df['Rating'] > 5]"
   ]
  },
  {
   "cell_type": "code",
   "execution_count": 12,
   "id": "2005be30-c619-4acf-8394-34d03cbb97e0",
   "metadata": {
    "tags": []
   },
   "outputs": [],
   "source": [
    "df.loc[df['Rating'] > 5, 'Rating'] = np.nan"
   ]
  },
  {
   "cell_type": "code",
   "execution_count": 14,
   "id": "ecfff8d2-4546-47ab-b0b7-5f6160ad5682",
   "metadata": {
    "tags": []
   },
   "outputs": [
    {
     "data": {
      "text/plain": [
       "4.191647109024963"
      ]
     },
     "execution_count": 14,
     "metadata": {},
     "output_type": "execute_result"
    }
   ],
   "source": [
    "df['Rating'].mean()"
   ]
  },
  {
   "cell_type": "code",
   "execution_count": 15,
   "id": "2acbe65c-1bbc-4ea3-af82-91c4a9e60b60",
   "metadata": {
    "tags": []
   },
   "outputs": [],
   "source": [
    "df['Rating'].fillna(df['Rating'].mean(), inplace = True)"
   ]
  },
  {
   "cell_type": "code",
   "execution_count": 17,
   "id": "62408e33-b42d-447c-be29-fda64813e6b7",
   "metadata": {
    "tags": []
   },
   "outputs": [],
   "source": [
    "df.dropna(inplace=True)"
   ]
  },
  {
   "cell_type": "code",
   "execution_count": 18,
   "id": "f37ef15c-4724-49d9-9bb6-66a74126da0b",
   "metadata": {
    "tags": []
   },
   "outputs": [
    {
     "data": {
      "text/plain": [
       "<Axes: >"
      ]
     },
     "execution_count": 18,
     "metadata": {},
     "output_type": "execute_result"
    },
    {
     "data": {
      "image/png": "[encoded data removed]",
      "text/plain": [
       "<Figure size 640x480 with 1 Axes>"
      ]
     },
     "metadata": {},
     "output_type": "display_data"
    }
   ],
   "source": [
    "df['Rating'].plot(kind='box', vert=False)"
   ]
  },
  {
   "cell_type": "markdown",
   "id": "f52eb3d9",
   "metadata": {},
   "source": [
    "### 3. Clean the column **Reviews** and make it numeric"
   ]
  },
  {
   "cell_type": "code",
   "execution_count": 19,
   "id": "69b2503a-a555-46ce-8ebf-05a487d609a6",
   "metadata": {
    "tags": []
   },
   "outputs": [
    {
     "data": {
      "text/plain": [
       "0    50,000\n",
       "1       967\n",
       "2     87510\n",
       "3    215644\n",
       "4       967\n",
       "Name: Reviews, dtype: object"
      ]
     },
     "execution_count": 19,
     "metadata": {},
     "output_type": "execute_result"
    }
   ],
   "source": [
    "df['Reviews'].head()"
   ]
  },
  {
   "cell_type": "code",
   "execution_count": 20,
   "id": "d74c1334-cf83-4569-ad2c-1812aa2be190",
   "metadata": {
    "tags": []
   },
   "outputs": [],
   "source": [
    "df['Reviews Numeric'] = pd.to_numeric(df['Reviews'], errors= 'coerce')"
   ]
  },
  {
   "cell_type": "code",
   "execution_count": 21,
   "id": "3198cd3c-8b8c-4d77-8e7f-f1de6f0d5622",
   "metadata": {
    "tags": []
   },
   "outputs": [
    {
     "data": {
      "text/html": [
       "<div>\n",
       "<style scoped>\n",
       "    .dataframe tbody tr th:only-of-type {\n",
       "        vertical-align: middle;\n",
       "    }\n",
       "\n",
       "    .dataframe tbody tr th {\n",
       "        vertical-align: top;\n",
       "    }\n",
       "\n",
       "    .dataframe thead th {\n",
       "        text-align: right;\n",
       "    }\n",
       "</style>\n",
       "<table border=\"1\" class=\"dataframe\">\n",
       "  <thead>\n",
       "    <tr style=\"text-align: right;\">\n",
       "      <th></th>\n",
       "      <th>App</th>\n",
       "      <th>Category</th>\n",
       "      <th>Rating</th>\n",
       "      <th>Reviews</th>\n",
       "      <th>Size</th>\n",
       "      <th>Installs</th>\n",
       "      <th>Type</th>\n",
       "      <th>Price</th>\n",
       "      <th>Content  Rating</th>\n",
       "      <th>Genres</th>\n",
       "      <th>Last Updated</th>\n",
       "      <th>Current Ver</th>\n",
       "      <th>Android Ver</th>\n",
       "      <th>Reviews Numeric</th>\n",
       "    </tr>\n",
       "  </thead>\n",
       "  <tbody>\n",
       "    <tr>\n",
       "      <th>0</th>\n",
       "      <td>Photo Editor &amp; Candy Camera &amp; Grid &amp; ScrapBook</td>\n",
       "      <td>ART_AND_DESIGN</td>\n",
       "      <td>4.191647</td>\n",
       "      <td>50,000</td>\n",
       "      <td>19M</td>\n",
       "      <td>10,000+</td>\n",
       "      <td>Free</td>\n",
       "      <td>0</td>\n",
       "      <td>Everyone</td>\n",
       "      <td>Art &amp; Design</td>\n",
       "      <td>January 7, 2018</td>\n",
       "      <td>1.0.0</td>\n",
       "      <td>4.0.3 and up</td>\n",
       "      <td>NaN</td>\n",
       "    </tr>\n",
       "    <tr>\n",
       "      <th>10</th>\n",
       "      <td>Text on Photo - Fonteee</td>\n",
       "      <td>ART_AND_DESIGN</td>\n",
       "      <td>4.400000</td>\n",
       "      <td>2.1M</td>\n",
       "      <td>28M</td>\n",
       "      <td>1,000,000+</td>\n",
       "      <td>Free</td>\n",
       "      <td>0</td>\n",
       "      <td>Everyone</td>\n",
       "      <td>Art &amp; Design</td>\n",
       "      <td>October 27, 2017</td>\n",
       "      <td>1.0.4</td>\n",
       "      <td>4.1 and up</td>\n",
       "      <td>NaN</td>\n",
       "    </tr>\n",
       "    <tr>\n",
       "      <th>100</th>\n",
       "      <td>Natural recipes for your beauty</td>\n",
       "      <td>BEAUTY</td>\n",
       "      <td>4.700000</td>\n",
       "      <td>100k</td>\n",
       "      <td>9.8M</td>\n",
       "      <td>100,000+</td>\n",
       "      <td>Free</td>\n",
       "      <td>0</td>\n",
       "      <td>Everyone</td>\n",
       "      <td>Beauty</td>\n",
       "      <td>April 31, 2015</td>\n",
       "      <td>4.0</td>\n",
       "      <td>4.1 and up</td>\n",
       "      <td>NaN</td>\n",
       "    </tr>\n",
       "    <tr>\n",
       "      <th>2467</th>\n",
       "      <td>COPD GOLD 2017</td>\n",
       "      <td>MEDICAL</td>\n",
       "      <td>4.191647</td>\n",
       "      <td>1,200,000</td>\n",
       "      <td>2.2M</td>\n",
       "      <td>10+</td>\n",
       "      <td>Free</td>\n",
       "      <td>0</td>\n",
       "      <td>Everyone</td>\n",
       "      <td>Medical</td>\n",
       "      <td>July 13, 2018</td>\n",
       "      <td>1.0</td>\n",
       "      <td>4.0 and up</td>\n",
       "      <td>NaN</td>\n",
       "    </tr>\n",
       "    <tr>\n",
       "      <th>2965</th>\n",
       "      <td>Onefootball - Soccer Scores</td>\n",
       "      <td>SPORTS</td>\n",
       "      <td>4.700000</td>\n",
       "      <td>250k</td>\n",
       "      <td>20M</td>\n",
       "      <td>10,000,000+</td>\n",
       "      <td>Free</td>\n",
       "      <td>0</td>\n",
       "      <td>Everyone</td>\n",
       "      <td>Sports</td>\n",
       "      <td>August 1, 2018</td>\n",
       "      <td>10.8.1.330</td>\n",
       "      <td>4.4 and up</td>\n",
       "      <td>NaN</td>\n",
       "    </tr>\n",
       "    <tr>\n",
       "      <th>2990</th>\n",
       "      <td>Championat</td>\n",
       "      <td>SPORTS</td>\n",
       "      <td>4.300000</td>\n",
       "      <td>1M</td>\n",
       "      <td>Varies with device</td>\n",
       "      <td>1,000,000+</td>\n",
       "      <td>Free</td>\n",
       "      <td>0</td>\n",
       "      <td>Everyone</td>\n",
       "      <td>Sports</td>\n",
       "      <td>July 25, 2018</td>\n",
       "      <td>Varies with device</td>\n",
       "      <td>Varies with device</td>\n",
       "      <td>NaN</td>\n",
       "    </tr>\n",
       "    <tr>\n",
       "      <th>3334</th>\n",
       "      <td>osmino Wi-Fi: free WiFi</td>\n",
       "      <td>TOOLS</td>\n",
       "      <td>4.200000</td>\n",
       "      <td>1,200,000</td>\n",
       "      <td>4.1M</td>\n",
       "      <td>10,000,000+</td>\n",
       "      <td>Free</td>\n",
       "      <td>0</td>\n",
       "      <td>Everyone</td>\n",
       "      <td>Tools</td>\n",
       "      <td>August 6, 2018</td>\n",
       "      <td>6.06.14</td>\n",
       "      <td>4.4 and up</td>\n",
       "      <td>NaN</td>\n",
       "    </tr>\n",
       "    <tr>\n",
       "      <th>3668</th>\n",
       "      <td>HD Video Player</td>\n",
       "      <td>VIDEO_PLAYERS</td>\n",
       "      <td>4.300000</td>\n",
       "      <td>1M</td>\n",
       "      <td>2.9M</td>\n",
       "      <td>1,000,000+</td>\n",
       "      <td>Free</td>\n",
       "      <td>0</td>\n",
       "      <td>Everyone</td>\n",
       "      <td>Video Players &amp; Editors</td>\n",
       "      <td>July 25, 2018</td>\n",
       "      <td>1.1</td>\n",
       "      <td>4.1 and up</td>\n",
       "      <td>NaN</td>\n",
       "    </tr>\n",
       "    <tr>\n",
       "      <th>4220</th>\n",
       "      <td>Helix</td>\n",
       "      <td>GAME</td>\n",
       "      <td>3.900000</td>\n",
       "      <td>10K</td>\n",
       "      <td>37M</td>\n",
       "      <td>500,000+</td>\n",
       "      <td>Free</td>\n",
       "      <td>0</td>\n",
       "      <td>Everyone</td>\n",
       "      <td>Arcade</td>\n",
       "      <td>September 10, 2017</td>\n",
       "      <td>1.2</td>\n",
       "      <td>4.0 and up</td>\n",
       "      <td>NaN</td>\n",
       "    </tr>\n",
       "    <tr>\n",
       "      <th>4345</th>\n",
       "      <td>Je Parle ANGLAIS - Apprendre l’anglais Audio c...</td>\n",
       "      <td>FAMILY</td>\n",
       "      <td>4.400000</td>\n",
       "      <td>50,000</td>\n",
       "      <td>27M</td>\n",
       "      <td>100,000+</td>\n",
       "      <td>Free</td>\n",
       "      <td>0</td>\n",
       "      <td>Everyone</td>\n",
       "      <td>Education</td>\n",
       "      <td>March 13, 2018</td>\n",
       "      <td>2.4</td>\n",
       "      <td>4.0.3 and up</td>\n",
       "      <td>NaN</td>\n",
       "    </tr>\n",
       "    <tr>\n",
       "      <th>7307</th>\n",
       "      <td>CG FM</td>\n",
       "      <td>FAMILY</td>\n",
       "      <td>5.000000</td>\n",
       "      <td>1,200,000</td>\n",
       "      <td>6.6M</td>\n",
       "      <td>500+</td>\n",
       "      <td>Free</td>\n",
       "      <td>0</td>\n",
       "      <td>Everyone</td>\n",
       "      <td>Entertainment</td>\n",
       "      <td>January 31, 2018</td>\n",
       "      <td>1.0.9</td>\n",
       "      <td>4.1 and up</td>\n",
       "      <td>NaN</td>\n",
       "    </tr>\n",
       "    <tr>\n",
       "      <th>9169</th>\n",
       "      <td>Mirror’s Edge™ Companion</td>\n",
       "      <td>GAME</td>\n",
       "      <td>3.400000</td>\n",
       "      <td>50,000</td>\n",
       "      <td>43M</td>\n",
       "      <td>100,000+</td>\n",
       "      <td>Free</td>\n",
       "      <td>0</td>\n",
       "      <td>Everyone</td>\n",
       "      <td>Action</td>\n",
       "      <td>June 28, 2016</td>\n",
       "      <td>1.2.2</td>\n",
       "      <td>4.4 and up</td>\n",
       "      <td>NaN</td>\n",
       "    </tr>\n",
       "    <tr>\n",
       "      <th>9818</th>\n",
       "      <td>Castle Clash: Epic Empire ES</td>\n",
       "      <td>FAMILY</td>\n",
       "      <td>4.600000</td>\n",
       "      <td>500k</td>\n",
       "      <td>24M</td>\n",
       "      <td>5,000,000+</td>\n",
       "      <td>Free</td>\n",
       "      <td>0</td>\n",
       "      <td>Everyone 10+</td>\n",
       "      <td>Strategy</td>\n",
       "      <td>July 18, 2018</td>\n",
       "      <td>1.4.1</td>\n",
       "      <td>4.1 and up</td>\n",
       "      <td>NaN</td>\n",
       "    </tr>\n",
       "  </tbody>\n",
       "</table>\n",
       "</div>"
      ],
      "text/plain": [
       "                                                   App         Category  \\\n",
       "0        Photo Editor & Candy Camera & Grid & ScrapBook  ART_AND_DESIGN   \n",
       "10                              Text on Photo - Fonteee  ART_AND_DESIGN   \n",
       "100                     Natural recipes for your beauty          BEAUTY   \n",
       "2467                                     COPD GOLD 2017         MEDICAL   \n",
       "2965                        Onefootball - Soccer Scores          SPORTS   \n",
       "2990                                         Championat          SPORTS   \n",
       "3334                            osmino Wi-Fi: free WiFi           TOOLS   \n",
       "3668                                    HD Video Player   VIDEO_PLAYERS   \n",
       "4220                                              Helix            GAME   \n",
       "4345  Je Parle ANGLAIS - Apprendre l’anglais Audio c...          FAMILY   \n",
       "7307                                              CG FM          FAMILY   \n",
       "9169                           Mirror’s Edge™ Companion            GAME   \n",
       "9818                       Castle Clash: Epic Empire ES          FAMILY   \n",
       "\n",
       "        Rating    Reviews                Size     Installs  Type Price  \\\n",
       "0     4.191647     50,000                 19M      10,000+  Free     0   \n",
       "10    4.400000       2.1M                 28M   1,000,000+  Free     0   \n",
       "100   4.700000       100k                9.8M     100,000+  Free     0   \n",
       "2467  4.191647  1,200,000                2.2M          10+  Free     0   \n",
       "2965  4.700000       250k                 20M  10,000,000+  Free     0   \n",
       "2990  4.300000         1M  Varies with device   1,000,000+  Free     0   \n",
       "3334  4.200000  1,200,000                4.1M  10,000,000+  Free     0   \n",
       "3668  4.300000         1M                2.9M   1,000,000+  Free     0   \n",
       "4220  3.900000        10K                 37M     500,000+  Free     0   \n",
       "4345  4.400000     50,000                 27M     100,000+  Free     0   \n",
       "7307  5.000000  1,200,000                6.6M         500+  Free     0   \n",
       "9169  3.400000     50,000                 43M     100,000+  Free     0   \n",
       "9818  4.600000       500k                 24M   5,000,000+  Free     0   \n",
       "\n",
       "     Content  Rating                   Genres        Last Updated  \\\n",
       "0           Everyone             Art & Design     January 7, 2018   \n",
       "10          Everyone             Art & Design    October 27, 2017   \n",
       "100         Everyone                   Beauty      April 31, 2015   \n",
       "2467        Everyone                  Medical       July 13, 2018   \n",
       "2965        Everyone                   Sports      August 1, 2018   \n",
       "2990        Everyone                   Sports       July 25, 2018   \n",
       "3334        Everyone                    Tools      August 6, 2018   \n",
       "3668        Everyone  Video Players & Editors       July 25, 2018   \n",
       "4220        Everyone                   Arcade  September 10, 2017   \n",
       "4345        Everyone                Education      March 13, 2018   \n",
       "7307        Everyone            Entertainment    January 31, 2018   \n",
       "9169        Everyone                   Action       June 28, 2016   \n",
       "9818    Everyone 10+                 Strategy       July 18, 2018   \n",
       "\n",
       "             Current Ver         Android Ver  Reviews Numeric  \n",
       "0                  1.0.0        4.0.3 and up              NaN  \n",
       "10                 1.0.4          4.1 and up              NaN  \n",
       "100                  4.0          4.1 and up              NaN  \n",
       "2467                 1.0          4.0 and up              NaN  \n",
       "2965          10.8.1.330          4.4 and up              NaN  \n",
       "2990  Varies with device  Varies with device              NaN  \n",
       "3334             6.06.14          4.4 and up              NaN  \n",
       "3668                 1.1          4.1 and up              NaN  \n",
       "4220                 1.2          4.0 and up              NaN  \n",
       "4345                 2.4        4.0.3 and up              NaN  \n",
       "7307               1.0.9          4.1 and up              NaN  \n",
       "9169               1.2.2          4.4 and up              NaN  \n",
       "9818               1.4.1          4.1 and up              NaN  "
      ]
     },
     "execution_count": 21,
     "metadata": {},
     "output_type": "execute_result"
    }
   ],
   "source": [
    "df.loc[df['Reviews Numeric'].isna()]"
   ]
  },
  {
   "cell_type": "code",
   "execution_count": 22,
   "id": "ef4ca799-e136-4cbe-99d5-93fb608179fc",
   "metadata": {
    "tags": []
   },
   "outputs": [
    {
     "data": {
      "text/html": [
       "<div>\n",
       "<style scoped>\n",
       "    .dataframe tbody tr th:only-of-type {\n",
       "        vertical-align: middle;\n",
       "    }\n",
       "\n",
       "    .dataframe tbody tr th {\n",
       "        vertical-align: top;\n",
       "    }\n",
       "\n",
       "    .dataframe thead th {\n",
       "        text-align: right;\n",
       "    }\n",
       "</style>\n",
       "<table border=\"1\" class=\"dataframe\">\n",
       "  <thead>\n",
       "    <tr style=\"text-align: right;\">\n",
       "      <th></th>\n",
       "      <th>App</th>\n",
       "      <th>Category</th>\n",
       "      <th>Rating</th>\n",
       "      <th>Reviews</th>\n",
       "      <th>Size</th>\n",
       "      <th>Installs</th>\n",
       "      <th>Type</th>\n",
       "      <th>Price</th>\n",
       "      <th>Content  Rating</th>\n",
       "      <th>Genres</th>\n",
       "      <th>Last Updated</th>\n",
       "      <th>Current Ver</th>\n",
       "      <th>Android Ver</th>\n",
       "      <th>Reviews Numeric</th>\n",
       "    </tr>\n",
       "  </thead>\n",
       "  <tbody>\n",
       "    <tr>\n",
       "      <th>10</th>\n",
       "      <td>Text on Photo - Fonteee</td>\n",
       "      <td>ART_AND_DESIGN</td>\n",
       "      <td>4.4</td>\n",
       "      <td>2.1M</td>\n",
       "      <td>28M</td>\n",
       "      <td>1,000,000+</td>\n",
       "      <td>Free</td>\n",
       "      <td>0</td>\n",
       "      <td>Everyone</td>\n",
       "      <td>Art &amp; Design</td>\n",
       "      <td>October 27, 2017</td>\n",
       "      <td>1.0.4</td>\n",
       "      <td>4.1 and up</td>\n",
       "      <td>NaN</td>\n",
       "    </tr>\n",
       "    <tr>\n",
       "      <th>2990</th>\n",
       "      <td>Championat</td>\n",
       "      <td>SPORTS</td>\n",
       "      <td>4.3</td>\n",
       "      <td>1M</td>\n",
       "      <td>Varies with device</td>\n",
       "      <td>1,000,000+</td>\n",
       "      <td>Free</td>\n",
       "      <td>0</td>\n",
       "      <td>Everyone</td>\n",
       "      <td>Sports</td>\n",
       "      <td>July 25, 2018</td>\n",
       "      <td>Varies with device</td>\n",
       "      <td>Varies with device</td>\n",
       "      <td>NaN</td>\n",
       "    </tr>\n",
       "    <tr>\n",
       "      <th>3668</th>\n",
       "      <td>HD Video Player</td>\n",
       "      <td>VIDEO_PLAYERS</td>\n",
       "      <td>4.3</td>\n",
       "      <td>1M</td>\n",
       "      <td>2.9M</td>\n",
       "      <td>1,000,000+</td>\n",
       "      <td>Free</td>\n",
       "      <td>0</td>\n",
       "      <td>Everyone</td>\n",
       "      <td>Video Players &amp; Editors</td>\n",
       "      <td>July 25, 2018</td>\n",
       "      <td>1.1</td>\n",
       "      <td>4.1 and up</td>\n",
       "      <td>NaN</td>\n",
       "    </tr>\n",
       "  </tbody>\n",
       "</table>\n",
       "</div>"
      ],
      "text/plain": [
       "                         App         Category  Rating Reviews  \\\n",
       "10    Text on Photo - Fonteee  ART_AND_DESIGN     4.4    2.1M   \n",
       "2990               Championat          SPORTS     4.3      1M   \n",
       "3668          HD Video Player   VIDEO_PLAYERS     4.3      1M   \n",
       "\n",
       "                    Size    Installs  Type Price Content  Rating  \\\n",
       "10                   28M  1,000,000+  Free     0        Everyone   \n",
       "2990  Varies with device  1,000,000+  Free     0        Everyone   \n",
       "3668                2.9M  1,000,000+  Free     0        Everyone   \n",
       "\n",
       "                       Genres      Last Updated         Current Ver  \\\n",
       "10               Art & Design  October 27, 2017               1.0.4   \n",
       "2990                   Sports     July 25, 2018  Varies with device   \n",
       "3668  Video Players & Editors     July 25, 2018                 1.1   \n",
       "\n",
       "             Android Ver  Reviews Numeric  \n",
       "10            4.1 and up              NaN  \n",
       "2990  Varies with device              NaN  \n",
       "3668          4.1 and up              NaN  "
      ]
     },
     "execution_count": 22,
     "metadata": {},
     "output_type": "execute_result"
    }
   ],
   "source": [
    "df.loc[df['Reviews'].str.contains('M')]"
   ]
  },
  {
   "cell_type": "code",
   "execution_count": 23,
   "id": "15ccc429-02ec-4397-ad5f-2c9ef19108bf",
   "metadata": {
    "tags": []
   },
   "outputs": [
    {
     "data": {
      "text/plain": [
       "10      2.1M\n",
       "2990      1M\n",
       "3668      1M\n",
       "Name: Reviews, dtype: object"
      ]
     },
     "execution_count": 23,
     "metadata": {},
     "output_type": "execute_result"
    }
   ],
   "source": [
    "df.loc[df['Reviews'].str.contains('M'),'Reviews']"
   ]
  },
  {
   "cell_type": "code",
   "execution_count": 24,
   "id": "d6fb5042-8fa2-437f-bf3c-ec27c5854686",
   "metadata": {
    "tags": []
   },
   "outputs": [
    {
     "data": {
      "text/plain": [
       "10      2.1\n",
       "2990      1\n",
       "3668      1\n",
       "Name: Reviews, dtype: object"
      ]
     },
     "execution_count": 24,
     "metadata": {},
     "output_type": "execute_result"
    }
   ],
   "source": [
    "df.loc[df['Reviews'].str.contains('M'),'Reviews'].str.replace('M', '')"
   ]
  },
  {
   "cell_type": "code",
   "execution_count": 25,
   "id": "f76fd8a7-3bff-4ca8-bced-47efa5012acd",
   "metadata": {
    "tags": []
   },
   "outputs": [
    {
     "data": {
      "text/plain": [
       "10      2100000.0\n",
       "2990    1000000.0\n",
       "3668    1000000.0\n",
       "Name: Reviews, dtype: float64"
      ]
     },
     "execution_count": 25,
     "metadata": {},
     "output_type": "execute_result"
    }
   ],
   "source": [
    "pd.to_numeric(df.loc[df['Reviews'].str.contains('M'),'Reviews'].str.replace('M', '')) * 1_000_000"
   ]
  },
  {
   "cell_type": "code",
   "execution_count": 26,
   "id": "ef368919-f436-4bcc-bfb0-7c98d6989400",
   "metadata": {
    "tags": []
   },
   "outputs": [
    {
     "data": {
      "text/plain": [
       "10      2100000.0\n",
       "2990    1000000.0\n",
       "3668    1000000.0\n",
       "Name: Reviews, dtype: object"
      ]
     },
     "execution_count": 26,
     "metadata": {},
     "output_type": "execute_result"
    }
   ],
   "source": [
    "new_reviews = (\n",
    "    pd.to_numeric(\n",
    "        df.loc[df['Reviews'].str.contains('M'),'Reviews'].str.replace('M', '')\n",
    "    ) * 1_000_000).astype(str)\n",
    "new_reviews"
   ]
  },
  {
   "cell_type": "code",
   "execution_count": 27,
   "id": "74a1bf09-5951-4a3a-b63b-d21f2ec8419b",
   "metadata": {
    "tags": []
   },
   "outputs": [],
   "source": [
    "df.loc[df['Reviews'].str.contains('M'),'Reviews'] = (\n",
    "    pd.to_numeric(\n",
    "        df.loc[df['Reviews'].str.contains('M'),'Reviews'].str.replace('M', '')\n",
    "    ) * 1_000_000).astype(str)"
   ]
  },
  {
   "cell_type": "code",
   "execution_count": 28,
   "id": "c14e39a8-d2cf-499a-ab24-82fb435210ce",
   "metadata": {
    "tags": []
   },
   "outputs": [],
   "source": [
    "df.loc[df['Reviews'].str.contains('k'),'Reviews'] = (\n",
    "    pd.to_numeric(\n",
    "        df.loc[df['Reviews'].str.contains('k'),'Reviews'].str.replace('k', '')\n",
    "    ) * 1_000).astype(str)"
   ]
  },
  {
   "cell_type": "code",
   "execution_count": 29,
   "id": "a38682a9-dccd-44cc-83a1-cf4c402f97e9",
   "metadata": {
    "tags": []
   },
   "outputs": [],
   "source": [
    "df.loc[df['Reviews'].str.contains('K'),'Reviews'] = (\n",
    "    pd.to_numeric(\n",
    "        df.loc[df['Reviews'].str.contains('K'),'Reviews'].str.replace('K', '')\n",
    "    ) * 1_000).astype(str)"
   ]
  },
  {
   "cell_type": "code",
   "execution_count": 30,
   "id": "eda2414b-b129-4f07-9d5e-b84f6c641983",
   "metadata": {
    "tags": []
   },
   "outputs": [],
   "source": [
    "mask = df['Reviews'].astype(str).str.contains(',')\n",
    "\n",
    "\n",
    "df.loc[mask, 'Reviews'] = (\n",
    "    pd.to_numeric(                       \n",
    "        df.loc[mask, 'Reviews']\n",
    "          .astype(str)                  \n",
    "          .str.replace(',', '')\n",
    "    , errors='coerce')\n",
    "    .astype(int)                        \n",
    "    .astype(str) + '.0'                 \n",
    ")"
   ]
  },
  {
   "cell_type": "code",
   "execution_count": 31,
   "id": "a755b9c4-2bb9-4712-b63c-cf72d0c0517c",
   "metadata": {
    "tags": []
   },
   "outputs": [
    {
     "data": {
      "text/html": [
       "<div>\n",
       "<style scoped>\n",
       "    .dataframe tbody tr th:only-of-type {\n",
       "        vertical-align: middle;\n",
       "    }\n",
       "\n",
       "    .dataframe tbody tr th {\n",
       "        vertical-align: top;\n",
       "    }\n",
       "\n",
       "    .dataframe thead th {\n",
       "        text-align: right;\n",
       "    }\n",
       "</style>\n",
       "<table border=\"1\" class=\"dataframe\">\n",
       "  <thead>\n",
       "    <tr style=\"text-align: right;\">\n",
       "      <th></th>\n",
       "      <th>App</th>\n",
       "      <th>Category</th>\n",
       "      <th>Rating</th>\n",
       "      <th>Reviews</th>\n",
       "      <th>Size</th>\n",
       "      <th>Installs</th>\n",
       "      <th>Type</th>\n",
       "      <th>Price</th>\n",
       "      <th>Content  Rating</th>\n",
       "      <th>Genres</th>\n",
       "      <th>Last Updated</th>\n",
       "      <th>Current Ver</th>\n",
       "      <th>Android Ver</th>\n",
       "      <th>Reviews Numeric</th>\n",
       "    </tr>\n",
       "  </thead>\n",
       "  <tbody>\n",
       "    <tr>\n",
       "      <th>0</th>\n",
       "      <td>Photo Editor &amp; Candy Camera &amp; Grid &amp; ScrapBook</td>\n",
       "      <td>ART_AND_DESIGN</td>\n",
       "      <td>4.191647</td>\n",
       "      <td>50000.0</td>\n",
       "      <td>19M</td>\n",
       "      <td>10,000+</td>\n",
       "      <td>Free</td>\n",
       "      <td>0</td>\n",
       "      <td>Everyone</td>\n",
       "      <td>Art &amp; Design</td>\n",
       "      <td>January 7, 2018</td>\n",
       "      <td>1.0.0</td>\n",
       "      <td>4.0.3 and up</td>\n",
       "      <td>NaN</td>\n",
       "    </tr>\n",
       "    <tr>\n",
       "      <th>10</th>\n",
       "      <td>Text on Photo - Fonteee</td>\n",
       "      <td>ART_AND_DESIGN</td>\n",
       "      <td>4.400000</td>\n",
       "      <td>2100000.0</td>\n",
       "      <td>28M</td>\n",
       "      <td>1,000,000+</td>\n",
       "      <td>Free</td>\n",
       "      <td>0</td>\n",
       "      <td>Everyone</td>\n",
       "      <td>Art &amp; Design</td>\n",
       "      <td>October 27, 2017</td>\n",
       "      <td>1.0.4</td>\n",
       "      <td>4.1 and up</td>\n",
       "      <td>NaN</td>\n",
       "    </tr>\n",
       "    <tr>\n",
       "      <th>100</th>\n",
       "      <td>Natural recipes for your beauty</td>\n",
       "      <td>BEAUTY</td>\n",
       "      <td>4.700000</td>\n",
       "      <td>100000</td>\n",
       "      <td>9.8M</td>\n",
       "      <td>100,000+</td>\n",
       "      <td>Free</td>\n",
       "      <td>0</td>\n",
       "      <td>Everyone</td>\n",
       "      <td>Beauty</td>\n",
       "      <td>April 31, 2015</td>\n",
       "      <td>4.0</td>\n",
       "      <td>4.1 and up</td>\n",
       "      <td>NaN</td>\n",
       "    </tr>\n",
       "    <tr>\n",
       "      <th>2467</th>\n",
       "      <td>COPD GOLD 2017</td>\n",
       "      <td>MEDICAL</td>\n",
       "      <td>4.191647</td>\n",
       "      <td>1200000.0</td>\n",
       "      <td>2.2M</td>\n",
       "      <td>10+</td>\n",
       "      <td>Free</td>\n",
       "      <td>0</td>\n",
       "      <td>Everyone</td>\n",
       "      <td>Medical</td>\n",
       "      <td>July 13, 2018</td>\n",
       "      <td>1.0</td>\n",
       "      <td>4.0 and up</td>\n",
       "      <td>NaN</td>\n",
       "    </tr>\n",
       "    <tr>\n",
       "      <th>2965</th>\n",
       "      <td>Onefootball - Soccer Scores</td>\n",
       "      <td>SPORTS</td>\n",
       "      <td>4.700000</td>\n",
       "      <td>250000</td>\n",
       "      <td>20M</td>\n",
       "      <td>10,000,000+</td>\n",
       "      <td>Free</td>\n",
       "      <td>0</td>\n",
       "      <td>Everyone</td>\n",
       "      <td>Sports</td>\n",
       "      <td>August 1, 2018</td>\n",
       "      <td>10.8.1.330</td>\n",
       "      <td>4.4 and up</td>\n",
       "      <td>NaN</td>\n",
       "    </tr>\n",
       "    <tr>\n",
       "      <th>2990</th>\n",
       "      <td>Championat</td>\n",
       "      <td>SPORTS</td>\n",
       "      <td>4.300000</td>\n",
       "      <td>1000000.0</td>\n",
       "      <td>Varies with device</td>\n",
       "      <td>1,000,000+</td>\n",
       "      <td>Free</td>\n",
       "      <td>0</td>\n",
       "      <td>Everyone</td>\n",
       "      <td>Sports</td>\n",
       "      <td>July 25, 2018</td>\n",
       "      <td>Varies with device</td>\n",
       "      <td>Varies with device</td>\n",
       "      <td>NaN</td>\n",
       "    </tr>\n",
       "    <tr>\n",
       "      <th>3334</th>\n",
       "      <td>osmino Wi-Fi: free WiFi</td>\n",
       "      <td>TOOLS</td>\n",
       "      <td>4.200000</td>\n",
       "      <td>1200000.0</td>\n",
       "      <td>4.1M</td>\n",
       "      <td>10,000,000+</td>\n",
       "      <td>Free</td>\n",
       "      <td>0</td>\n",
       "      <td>Everyone</td>\n",
       "      <td>Tools</td>\n",
       "      <td>August 6, 2018</td>\n",
       "      <td>6.06.14</td>\n",
       "      <td>4.4 and up</td>\n",
       "      <td>NaN</td>\n",
       "    </tr>\n",
       "    <tr>\n",
       "      <th>3668</th>\n",
       "      <td>HD Video Player</td>\n",
       "      <td>VIDEO_PLAYERS</td>\n",
       "      <td>4.300000</td>\n",
       "      <td>1000000.0</td>\n",
       "      <td>2.9M</td>\n",
       "      <td>1,000,000+</td>\n",
       "      <td>Free</td>\n",
       "      <td>0</td>\n",
       "      <td>Everyone</td>\n",
       "      <td>Video Players &amp; Editors</td>\n",
       "      <td>July 25, 2018</td>\n",
       "      <td>1.1</td>\n",
       "      <td>4.1 and up</td>\n",
       "      <td>NaN</td>\n",
       "    </tr>\n",
       "    <tr>\n",
       "      <th>4220</th>\n",
       "      <td>Helix</td>\n",
       "      <td>GAME</td>\n",
       "      <td>3.900000</td>\n",
       "      <td>10000</td>\n",
       "      <td>37M</td>\n",
       "      <td>500,000+</td>\n",
       "      <td>Free</td>\n",
       "      <td>0</td>\n",
       "      <td>Everyone</td>\n",
       "      <td>Arcade</td>\n",
       "      <td>September 10, 2017</td>\n",
       "      <td>1.2</td>\n",
       "      <td>4.0 and up</td>\n",
       "      <td>NaN</td>\n",
       "    </tr>\n",
       "    <tr>\n",
       "      <th>4345</th>\n",
       "      <td>Je Parle ANGLAIS - Apprendre l’anglais Audio c...</td>\n",
       "      <td>FAMILY</td>\n",
       "      <td>4.400000</td>\n",
       "      <td>50000.0</td>\n",
       "      <td>27M</td>\n",
       "      <td>100,000+</td>\n",
       "      <td>Free</td>\n",
       "      <td>0</td>\n",
       "      <td>Everyone</td>\n",
       "      <td>Education</td>\n",
       "      <td>March 13, 2018</td>\n",
       "      <td>2.4</td>\n",
       "      <td>4.0.3 and up</td>\n",
       "      <td>NaN</td>\n",
       "    </tr>\n",
       "    <tr>\n",
       "      <th>7307</th>\n",
       "      <td>CG FM</td>\n",
       "      <td>FAMILY</td>\n",
       "      <td>5.000000</td>\n",
       "      <td>1200000.0</td>\n",
       "      <td>6.6M</td>\n",
       "      <td>500+</td>\n",
       "      <td>Free</td>\n",
       "      <td>0</td>\n",
       "      <td>Everyone</td>\n",
       "      <td>Entertainment</td>\n",
       "      <td>January 31, 2018</td>\n",
       "      <td>1.0.9</td>\n",
       "      <td>4.1 and up</td>\n",
       "      <td>NaN</td>\n",
       "    </tr>\n",
       "    <tr>\n",
       "      <th>9169</th>\n",
       "      <td>Mirror’s Edge™ Companion</td>\n",
       "      <td>GAME</td>\n",
       "      <td>3.400000</td>\n",
       "      <td>50000.0</td>\n",
       "      <td>43M</td>\n",
       "      <td>100,000+</td>\n",
       "      <td>Free</td>\n",
       "      <td>0</td>\n",
       "      <td>Everyone</td>\n",
       "      <td>Action</td>\n",
       "      <td>June 28, 2016</td>\n",
       "      <td>1.2.2</td>\n",
       "      <td>4.4 and up</td>\n",
       "      <td>NaN</td>\n",
       "    </tr>\n",
       "    <tr>\n",
       "      <th>9818</th>\n",
       "      <td>Castle Clash: Epic Empire ES</td>\n",
       "      <td>FAMILY</td>\n",
       "      <td>4.600000</td>\n",
       "      <td>500000</td>\n",
       "      <td>24M</td>\n",
       "      <td>5,000,000+</td>\n",
       "      <td>Free</td>\n",
       "      <td>0</td>\n",
       "      <td>Everyone 10+</td>\n",
       "      <td>Strategy</td>\n",
       "      <td>July 18, 2018</td>\n",
       "      <td>1.4.1</td>\n",
       "      <td>4.1 and up</td>\n",
       "      <td>NaN</td>\n",
       "    </tr>\n",
       "  </tbody>\n",
       "</table>\n",
       "</div>"
      ],
      "text/plain": [
       "                                                   App         Category  \\\n",
       "0        Photo Editor & Candy Camera & Grid & ScrapBook  ART_AND_DESIGN   \n",
       "10                              Text on Photo - Fonteee  ART_AND_DESIGN   \n",
       "100                     Natural recipes for your beauty          BEAUTY   \n",
       "2467                                     COPD GOLD 2017         MEDICAL   \n",
       "2965                        Onefootball - Soccer Scores          SPORTS   \n",
       "2990                                         Championat          SPORTS   \n",
       "3334                            osmino Wi-Fi: free WiFi           TOOLS   \n",
       "3668                                    HD Video Player   VIDEO_PLAYERS   \n",
       "4220                                              Helix            GAME   \n",
       "4345  Je Parle ANGLAIS - Apprendre l’anglais Audio c...          FAMILY   \n",
       "7307                                              CG FM          FAMILY   \n",
       "9169                           Mirror’s Edge™ Companion            GAME   \n",
       "9818                       Castle Clash: Epic Empire ES          FAMILY   \n",
       "\n",
       "        Rating    Reviews                Size     Installs  Type Price  \\\n",
       "0     4.191647    50000.0                 19M      10,000+  Free     0   \n",
       "10    4.400000  2100000.0                 28M   1,000,000+  Free     0   \n",
       "100   4.700000     100000                9.8M     100,000+  Free     0   \n",
       "2467  4.191647  1200000.0                2.2M          10+  Free     0   \n",
       "2965  4.700000     250000                 20M  10,000,000+  Free     0   \n",
       "2990  4.300000  1000000.0  Varies with device   1,000,000+  Free     0   \n",
       "3334  4.200000  1200000.0                4.1M  10,000,000+  Free     0   \n",
       "3668  4.300000  1000000.0                2.9M   1,000,000+  Free     0   \n",
       "4220  3.900000      10000                 37M     500,000+  Free     0   \n",
       "4345  4.400000    50000.0                 27M     100,000+  Free     0   \n",
       "7307  5.000000  1200000.0                6.6M         500+  Free     0   \n",
       "9169  3.400000    50000.0                 43M     100,000+  Free     0   \n",
       "9818  4.600000     500000                 24M   5,000,000+  Free     0   \n",
       "\n",
       "     Content  Rating                   Genres        Last Updated  \\\n",
       "0           Everyone             Art & Design     January 7, 2018   \n",
       "10          Everyone             Art & Design    October 27, 2017   \n",
       "100         Everyone                   Beauty      April 31, 2015   \n",
       "2467        Everyone                  Medical       July 13, 2018   \n",
       "2965        Everyone                   Sports      August 1, 2018   \n",
       "2990        Everyone                   Sports       July 25, 2018   \n",
       "3334        Everyone                    Tools      August 6, 2018   \n",
       "3668        Everyone  Video Players & Editors       July 25, 2018   \n",
       "4220        Everyone                   Arcade  September 10, 2017   \n",
       "4345        Everyone                Education      March 13, 2018   \n",
       "7307        Everyone            Entertainment    January 31, 2018   \n",
       "9169        Everyone                   Action       June 28, 2016   \n",
       "9818    Everyone 10+                 Strategy       July 18, 2018   \n",
       "\n",
       "             Current Ver         Android Ver  Reviews Numeric  \n",
       "0                  1.0.0        4.0.3 and up              NaN  \n",
       "10                 1.0.4          4.1 and up              NaN  \n",
       "100                  4.0          4.1 and up              NaN  \n",
       "2467                 1.0          4.0 and up              NaN  \n",
       "2965          10.8.1.330          4.4 and up              NaN  \n",
       "2990  Varies with device  Varies with device              NaN  \n",
       "3334             6.06.14          4.4 and up              NaN  \n",
       "3668                 1.1          4.1 and up              NaN  \n",
       "4220                 1.2          4.0 and up              NaN  \n",
       "4345                 2.4        4.0.3 and up              NaN  \n",
       "7307               1.0.9          4.1 and up              NaN  \n",
       "9169               1.2.2          4.4 and up              NaN  \n",
       "9818               1.4.1          4.1 and up              NaN  "
      ]
     },
     "execution_count": 31,
     "metadata": {},
     "output_type": "execute_result"
    }
   ],
   "source": [
    "df.loc[df['Reviews Numeric'].isna()]"
   ]
  },
  {
   "cell_type": "code",
   "execution_count": 32,
   "id": "f529aa68-b2a0-4c1d-acf8-c036057e28ff",
   "metadata": {
    "tags": []
   },
   "outputs": [],
   "source": [
    "df['Reviews'] = pd.to_numeric(df['Reviews'])"
   ]
  },
  {
   "cell_type": "markdown",
   "id": "d2d34720",
   "metadata": {},
   "source": [
    "### 4. How many **duplicated apps** are there?"
   ]
  },
  {
   "cell_type": "code",
   "execution_count": 33,
   "id": "aa3c1864-0324-4941-a2f2-7ae4bb83271c",
   "metadata": {
    "tags": []
   },
   "outputs": [
    {
     "name": "stdout",
     "output_type": "stream",
     "text": [
      "Duplicate rows: 2037\n",
      "Distinct duplicated apps: 826\n"
     ]
    },
    {
     "data": {
      "text/html": [
       "<div>\n",
       "<style scoped>\n",
       "    .dataframe tbody tr th:only-of-type {\n",
       "        vertical-align: middle;\n",
       "    }\n",
       "\n",
       "    .dataframe tbody tr th {\n",
       "        vertical-align: top;\n",
       "    }\n",
       "\n",
       "    .dataframe thead th {\n",
       "        text-align: right;\n",
       "    }\n",
       "</style>\n",
       "<table border=\"1\" class=\"dataframe\">\n",
       "  <thead>\n",
       "    <tr style=\"text-align: right;\">\n",
       "      <th></th>\n",
       "      <th>App</th>\n",
       "      <th>Category</th>\n",
       "      <th>Rating</th>\n",
       "      <th>Reviews</th>\n",
       "      <th>Size</th>\n",
       "      <th>Installs</th>\n",
       "      <th>Type</th>\n",
       "      <th>Price</th>\n",
       "      <th>Content  Rating</th>\n",
       "      <th>Genres</th>\n",
       "      <th>Last Updated</th>\n",
       "      <th>Current Ver</th>\n",
       "      <th>Android Ver</th>\n",
       "      <th>Reviews Numeric</th>\n",
       "    </tr>\n",
       "  </thead>\n",
       "  <tbody>\n",
       "    <tr>\n",
       "      <th>1407</th>\n",
       "      <td>10 Best Foods for You</td>\n",
       "      <td>HEALTH_AND_FITNESS</td>\n",
       "      <td>4.0</td>\n",
       "      <td>2490.0</td>\n",
       "      <td>3.8M</td>\n",
       "      <td>500,000+</td>\n",
       "      <td>Free</td>\n",
       "      <td>0</td>\n",
       "      <td>Everyone 10+</td>\n",
       "      <td>Health &amp; Fitness</td>\n",
       "      <td>February 17, 2017</td>\n",
       "      <td>1.9</td>\n",
       "      <td>2.3.3 and up</td>\n",
       "      <td>2490.0</td>\n",
       "    </tr>\n",
       "    <tr>\n",
       "      <th>1393</th>\n",
       "      <td>10 Best Foods for You</td>\n",
       "      <td>HEALTH_AND_FITNESS</td>\n",
       "      <td>4.0</td>\n",
       "      <td>2490.0</td>\n",
       "      <td>3.8M</td>\n",
       "      <td>500,000+</td>\n",
       "      <td>Free</td>\n",
       "      <td>0</td>\n",
       "      <td>Everyone 10+</td>\n",
       "      <td>Health &amp; Fitness</td>\n",
       "      <td>February 17, 2017</td>\n",
       "      <td>1.9</td>\n",
       "      <td>2.3.3 and up</td>\n",
       "      <td>2490.0</td>\n",
       "    </tr>\n",
       "    <tr>\n",
       "      <th>2543</th>\n",
       "      <td>1800 Contacts - Lens Store</td>\n",
       "      <td>MEDICAL</td>\n",
       "      <td>4.7</td>\n",
       "      <td>23160.0</td>\n",
       "      <td>26M</td>\n",
       "      <td>1,000,000+</td>\n",
       "      <td>Free</td>\n",
       "      <td>0</td>\n",
       "      <td>Everyone</td>\n",
       "      <td>Medical</td>\n",
       "      <td>July 27, 2018</td>\n",
       "      <td>7.4.1</td>\n",
       "      <td>5.0 and up</td>\n",
       "      <td>23160.0</td>\n",
       "    </tr>\n",
       "    <tr>\n",
       "      <th>2322</th>\n",
       "      <td>1800 Contacts - Lens Store</td>\n",
       "      <td>MEDICAL</td>\n",
       "      <td>4.7</td>\n",
       "      <td>23160.0</td>\n",
       "      <td>26M</td>\n",
       "      <td>1,000,000+</td>\n",
       "      <td>Free</td>\n",
       "      <td>0</td>\n",
       "      <td>Everyone</td>\n",
       "      <td>Medical</td>\n",
       "      <td>July 27, 2018</td>\n",
       "      <td>7.4.1</td>\n",
       "      <td>5.0 and up</td>\n",
       "      <td>23160.0</td>\n",
       "    </tr>\n",
       "    <tr>\n",
       "      <th>2385</th>\n",
       "      <td>2017 EMRA Antibiotic Guide</td>\n",
       "      <td>MEDICAL</td>\n",
       "      <td>4.4</td>\n",
       "      <td>12.0</td>\n",
       "      <td>3.8M</td>\n",
       "      <td>1,000+</td>\n",
       "      <td>Paid</td>\n",
       "      <td>$16.99</td>\n",
       "      <td>Everyone</td>\n",
       "      <td>Medical</td>\n",
       "      <td>January 27, 2017</td>\n",
       "      <td>1.0.5</td>\n",
       "      <td>4.0.3 and up</td>\n",
       "      <td>12.0</td>\n",
       "    </tr>\n",
       "    <tr>\n",
       "      <th>2256</th>\n",
       "      <td>2017 EMRA Antibiotic Guide</td>\n",
       "      <td>MEDICAL</td>\n",
       "      <td>4.4</td>\n",
       "      <td>12.0</td>\n",
       "      <td>3.8M</td>\n",
       "      <td>1,000+</td>\n",
       "      <td>Paid</td>\n",
       "      <td>$16.99</td>\n",
       "      <td>Everyone</td>\n",
       "      <td>Medical</td>\n",
       "      <td>January 27, 2017</td>\n",
       "      <td>1.0.5</td>\n",
       "      <td>4.0.3 and up</td>\n",
       "      <td>12.0</td>\n",
       "    </tr>\n",
       "    <tr>\n",
       "      <th>1337</th>\n",
       "      <td>21-Day Meditation Experience</td>\n",
       "      <td>HEALTH_AND_FITNESS</td>\n",
       "      <td>4.4</td>\n",
       "      <td>11506.0</td>\n",
       "      <td>15M</td>\n",
       "      <td>100,000+</td>\n",
       "      <td>Free</td>\n",
       "      <td>0</td>\n",
       "      <td>Everyone</td>\n",
       "      <td>Health &amp; Fitness</td>\n",
       "      <td>August 2, 2018</td>\n",
       "      <td>3.0.0</td>\n",
       "      <td>4.1 and up</td>\n",
       "      <td>11506.0</td>\n",
       "    </tr>\n",
       "    <tr>\n",
       "      <th>1434</th>\n",
       "      <td>21-Day Meditation Experience</td>\n",
       "      <td>HEALTH_AND_FITNESS</td>\n",
       "      <td>4.4</td>\n",
       "      <td>11506.0</td>\n",
       "      <td>15M</td>\n",
       "      <td>100,000+</td>\n",
       "      <td>Free</td>\n",
       "      <td>0</td>\n",
       "      <td>Everyone</td>\n",
       "      <td>Health &amp; Fitness</td>\n",
       "      <td>August 2, 2018</td>\n",
       "      <td>3.0.0</td>\n",
       "      <td>4.1 and up</td>\n",
       "      <td>11506.0</td>\n",
       "    </tr>\n",
       "    <tr>\n",
       "      <th>3083</th>\n",
       "      <td>365Scores - Live Scores</td>\n",
       "      <td>SPORTS</td>\n",
       "      <td>4.6</td>\n",
       "      <td>666521.0</td>\n",
       "      <td>25M</td>\n",
       "      <td>10,000,000+</td>\n",
       "      <td>Free</td>\n",
       "      <td>0</td>\n",
       "      <td>Everyone</td>\n",
       "      <td>Sports</td>\n",
       "      <td>July 29, 2018</td>\n",
       "      <td>5.5.9</td>\n",
       "      <td>4.1 and up</td>\n",
       "      <td>666521.0</td>\n",
       "    </tr>\n",
       "    <tr>\n",
       "      <th>5415</th>\n",
       "      <td>365Scores - Live Scores</td>\n",
       "      <td>SPORTS</td>\n",
       "      <td>4.6</td>\n",
       "      <td>666246.0</td>\n",
       "      <td>25M</td>\n",
       "      <td>10,000,000+</td>\n",
       "      <td>Free</td>\n",
       "      <td>0</td>\n",
       "      <td>Everyone</td>\n",
       "      <td>Sports</td>\n",
       "      <td>July 29, 2018</td>\n",
       "      <td>5.5.9</td>\n",
       "      <td>4.1 and up</td>\n",
       "      <td>666246.0</td>\n",
       "    </tr>\n",
       "  </tbody>\n",
       "</table>\n",
       "</div>"
      ],
      "text/plain": [
       "                               App            Category  Rating   Reviews  \\\n",
       "1407         10 Best Foods for You  HEALTH_AND_FITNESS     4.0    2490.0   \n",
       "1393         10 Best Foods for You  HEALTH_AND_FITNESS     4.0    2490.0   \n",
       "2543    1800 Contacts - Lens Store             MEDICAL     4.7   23160.0   \n",
       "2322    1800 Contacts - Lens Store             MEDICAL     4.7   23160.0   \n",
       "2385    2017 EMRA Antibiotic Guide             MEDICAL     4.4      12.0   \n",
       "2256    2017 EMRA Antibiotic Guide             MEDICAL     4.4      12.0   \n",
       "1337  21-Day Meditation Experience  HEALTH_AND_FITNESS     4.4   11506.0   \n",
       "1434  21-Day Meditation Experience  HEALTH_AND_FITNESS     4.4   11506.0   \n",
       "3083       365Scores - Live Scores              SPORTS     4.6  666521.0   \n",
       "5415       365Scores - Live Scores              SPORTS     4.6  666246.0   \n",
       "\n",
       "      Size     Installs  Type   Price Content  Rating            Genres  \\\n",
       "1407  3.8M     500,000+  Free       0    Everyone 10+  Health & Fitness   \n",
       "1393  3.8M     500,000+  Free       0    Everyone 10+  Health & Fitness   \n",
       "2543   26M   1,000,000+  Free       0        Everyone           Medical   \n",
       "2322   26M   1,000,000+  Free       0        Everyone           Medical   \n",
       "2385  3.8M       1,000+  Paid  $16.99        Everyone           Medical   \n",
       "2256  3.8M       1,000+  Paid  $16.99        Everyone           Medical   \n",
       "1337   15M     100,000+  Free       0        Everyone  Health & Fitness   \n",
       "1434   15M     100,000+  Free       0        Everyone  Health & Fitness   \n",
       "3083   25M  10,000,000+  Free       0        Everyone            Sports   \n",
       "5415   25M  10,000,000+  Free       0        Everyone            Sports   \n",
       "\n",
       "           Last Updated Current Ver   Android Ver  Reviews Numeric  \n",
       "1407  February 17, 2017         1.9  2.3.3 and up           2490.0  \n",
       "1393  February 17, 2017         1.9  2.3.3 and up           2490.0  \n",
       "2543      July 27, 2018       7.4.1    5.0 and up          23160.0  \n",
       "2322      July 27, 2018       7.4.1    5.0 and up          23160.0  \n",
       "2385   January 27, 2017       1.0.5  4.0.3 and up             12.0  \n",
       "2256   January 27, 2017       1.0.5  4.0.3 and up             12.0  \n",
       "1337     August 2, 2018       3.0.0    4.1 and up          11506.0  \n",
       "1434     August 2, 2018       3.0.0    4.1 and up          11506.0  \n",
       "3083      July 29, 2018       5.5.9    4.1 and up         666521.0  \n",
       "5415      July 29, 2018       5.5.9    4.1 and up         666246.0  "
      ]
     },
     "execution_count": 33,
     "metadata": {},
     "output_type": "execute_result"
    }
   ],
   "source": [
    "df = df.rename(columns=lambda c: c.strip())   # remove stray spaces\n",
    "\n",
    "if df.index.name == 'App':\n",
    "    df = df.reset_index()\n",
    "\n",
    "# Safety check\n",
    "assert 'App' in df.columns, \"App column still missing – re-load the raw DataFrame!\"\n",
    "\n",
    "dupes = df.loc[df.duplicated(subset=['App'], keep=False)] \\\n",
    "          .sort_values(by='App')\n",
    "\n",
    "print(\"Duplicate rows:\", len(dupes))\n",
    "print(\"Distinct duplicated apps:\", dupes['App'].nunique())\n",
    "dupes.head(10)"
   ]
  },
  {
   "cell_type": "code",
   "execution_count": 34,
   "id": "3750f2a2-a31c-4e59-9154-8ea1a8338189",
   "metadata": {
    "tags": []
   },
   "outputs": [
    {
     "data": {
      "text/plain": [
       "2037"
      ]
     },
     "execution_count": 34,
     "metadata": {},
     "output_type": "execute_result"
    }
   ],
   "source": [
    "df.duplicated(subset=['App'], keep=False).sum()"
   ]
  },
  {
   "cell_type": "markdown",
   "id": "c63ecfd2",
   "metadata": {},
   "source": [
    "### 5. **Drop duplicated apps**, keeping the row with the greatest number of reviews"
   ]
  },
  {
   "cell_type": "code",
   "execution_count": 35,
   "id": "17b312bb-b21f-4c4c-ac95-c81325fce54c",
   "metadata": {
    "tags": []
   },
   "outputs": [
    {
     "data": {
      "text/html": [
       "<div>\n",
       "<style scoped>\n",
       "    .dataframe tbody tr th:only-of-type {\n",
       "        vertical-align: middle;\n",
       "    }\n",
       "\n",
       "    .dataframe tbody tr th {\n",
       "        vertical-align: top;\n",
       "    }\n",
       "\n",
       "    .dataframe thead th {\n",
       "        text-align: right;\n",
       "    }\n",
       "</style>\n",
       "<table border=\"1\" class=\"dataframe\">\n",
       "  <thead>\n",
       "    <tr style=\"text-align: right;\">\n",
       "      <th></th>\n",
       "      <th>App</th>\n",
       "      <th>Category</th>\n",
       "      <th>Rating</th>\n",
       "      <th>Reviews</th>\n",
       "      <th>Size</th>\n",
       "      <th>Installs</th>\n",
       "      <th>Type</th>\n",
       "      <th>Price</th>\n",
       "      <th>Content  Rating</th>\n",
       "      <th>Genres</th>\n",
       "      <th>Last Updated</th>\n",
       "      <th>Current Ver</th>\n",
       "      <th>Android Ver</th>\n",
       "      <th>Reviews Numeric</th>\n",
       "    </tr>\n",
       "  </thead>\n",
       "  <tbody>\n",
       "    <tr>\n",
       "      <th>5415</th>\n",
       "      <td>365Scores - Live Scores</td>\n",
       "      <td>SPORTS</td>\n",
       "      <td>4.6</td>\n",
       "      <td>666246.0</td>\n",
       "      <td>25M</td>\n",
       "      <td>10,000,000+</td>\n",
       "      <td>Free</td>\n",
       "      <td>0</td>\n",
       "      <td>Everyone</td>\n",
       "      <td>Sports</td>\n",
       "      <td>July 29, 2018</td>\n",
       "      <td>5.5.9</td>\n",
       "      <td>4.1 and up</td>\n",
       "      <td>666246.0</td>\n",
       "    </tr>\n",
       "    <tr>\n",
       "      <th>3083</th>\n",
       "      <td>365Scores - Live Scores</td>\n",
       "      <td>SPORTS</td>\n",
       "      <td>4.6</td>\n",
       "      <td>666521.0</td>\n",
       "      <td>25M</td>\n",
       "      <td>10,000,000+</td>\n",
       "      <td>Free</td>\n",
       "      <td>0</td>\n",
       "      <td>Everyone</td>\n",
       "      <td>Sports</td>\n",
       "      <td>July 29, 2018</td>\n",
       "      <td>5.5.9</td>\n",
       "      <td>4.1 and up</td>\n",
       "      <td>666521.0</td>\n",
       "    </tr>\n",
       "    <tr>\n",
       "      <th>1703</th>\n",
       "      <td>8 Ball Pool</td>\n",
       "      <td>GAME</td>\n",
       "      <td>4.5</td>\n",
       "      <td>14198602.0</td>\n",
       "      <td>52M</td>\n",
       "      <td>100,000,000+</td>\n",
       "      <td>Free</td>\n",
       "      <td>0</td>\n",
       "      <td>Everyone</td>\n",
       "      <td>Sports</td>\n",
       "      <td>July 31, 2018</td>\n",
       "      <td>4.0.0</td>\n",
       "      <td>4.0.3 and up</td>\n",
       "      <td>14198602.0</td>\n",
       "    </tr>\n",
       "    <tr>\n",
       "      <th>1675</th>\n",
       "      <td>8 Ball Pool</td>\n",
       "      <td>GAME</td>\n",
       "      <td>4.5</td>\n",
       "      <td>14198297.0</td>\n",
       "      <td>52M</td>\n",
       "      <td>100,000,000+</td>\n",
       "      <td>Free</td>\n",
       "      <td>0</td>\n",
       "      <td>Everyone</td>\n",
       "      <td>Sports</td>\n",
       "      <td>July 31, 2018</td>\n",
       "      <td>4.0.0</td>\n",
       "      <td>4.0.3 and up</td>\n",
       "      <td>14198297.0</td>\n",
       "    </tr>\n",
       "    <tr>\n",
       "      <th>1970</th>\n",
       "      <td>8 Ball Pool</td>\n",
       "      <td>GAME</td>\n",
       "      <td>4.5</td>\n",
       "      <td>14201604.0</td>\n",
       "      <td>52M</td>\n",
       "      <td>100,000,000+</td>\n",
       "      <td>Free</td>\n",
       "      <td>0</td>\n",
       "      <td>Everyone</td>\n",
       "      <td>Sports</td>\n",
       "      <td>July 31, 2018</td>\n",
       "      <td>4.0.0</td>\n",
       "      <td>4.0.3 and up</td>\n",
       "      <td>14201604.0</td>\n",
       "    </tr>\n",
       "    <tr>\n",
       "      <th>1755</th>\n",
       "      <td>8 Ball Pool</td>\n",
       "      <td>GAME</td>\n",
       "      <td>4.5</td>\n",
       "      <td>14200344.0</td>\n",
       "      <td>52M</td>\n",
       "      <td>100,000,000+</td>\n",
       "      <td>Free</td>\n",
       "      <td>0</td>\n",
       "      <td>Everyone</td>\n",
       "      <td>Sports</td>\n",
       "      <td>July 31, 2018</td>\n",
       "      <td>4.0.0</td>\n",
       "      <td>4.0.3 and up</td>\n",
       "      <td>14200344.0</td>\n",
       "    </tr>\n",
       "    <tr>\n",
       "      <th>1844</th>\n",
       "      <td>8 Ball Pool</td>\n",
       "      <td>GAME</td>\n",
       "      <td>4.5</td>\n",
       "      <td>14200550.0</td>\n",
       "      <td>52M</td>\n",
       "      <td>100,000,000+</td>\n",
       "      <td>Free</td>\n",
       "      <td>0</td>\n",
       "      <td>Everyone</td>\n",
       "      <td>Sports</td>\n",
       "      <td>July 31, 2018</td>\n",
       "      <td>4.0.0</td>\n",
       "      <td>4.0.3 and up</td>\n",
       "      <td>14200550.0</td>\n",
       "    </tr>\n",
       "    <tr>\n",
       "      <th>3953</th>\n",
       "      <td>8 Ball Pool</td>\n",
       "      <td>SPORTS</td>\n",
       "      <td>4.5</td>\n",
       "      <td>14184910.0</td>\n",
       "      <td>52M</td>\n",
       "      <td>100,000,000+</td>\n",
       "      <td>Free</td>\n",
       "      <td>0</td>\n",
       "      <td>Everyone</td>\n",
       "      <td>Sports</td>\n",
       "      <td>July 31, 2018</td>\n",
       "      <td>4.0.0</td>\n",
       "      <td>4.0.3 and up</td>\n",
       "      <td>14184910.0</td>\n",
       "    </tr>\n",
       "    <tr>\n",
       "      <th>1871</th>\n",
       "      <td>8 Ball Pool</td>\n",
       "      <td>GAME</td>\n",
       "      <td>4.5</td>\n",
       "      <td>14201891.0</td>\n",
       "      <td>52M</td>\n",
       "      <td>100,000,000+</td>\n",
       "      <td>Free</td>\n",
       "      <td>0</td>\n",
       "      <td>Everyone</td>\n",
       "      <td>Sports</td>\n",
       "      <td>July 31, 2018</td>\n",
       "      <td>4.0.0</td>\n",
       "      <td>4.0.3 and up</td>\n",
       "      <td>14201891.0</td>\n",
       "    </tr>\n",
       "    <tr>\n",
       "      <th>662</th>\n",
       "      <td>95Live -SG#1 Live Streaming App</td>\n",
       "      <td>DATING</td>\n",
       "      <td>4.1</td>\n",
       "      <td>4954.0</td>\n",
       "      <td>15M</td>\n",
       "      <td>1,000,000+</td>\n",
       "      <td>Free</td>\n",
       "      <td>0</td>\n",
       "      <td>Teen</td>\n",
       "      <td>Dating</td>\n",
       "      <td>August 1, 2018</td>\n",
       "      <td>8.7.2</td>\n",
       "      <td>4.2 and up</td>\n",
       "      <td>4954.0</td>\n",
       "    </tr>\n",
       "  </tbody>\n",
       "</table>\n",
       "</div>"
      ],
      "text/plain": [
       "                                  App Category  Rating     Reviews Size  \\\n",
       "5415          365Scores - Live Scores   SPORTS     4.6    666246.0  25M   \n",
       "3083          365Scores - Live Scores   SPORTS     4.6    666521.0  25M   \n",
       "1703                      8 Ball Pool     GAME     4.5  14198602.0  52M   \n",
       "1675                      8 Ball Pool     GAME     4.5  14198297.0  52M   \n",
       "1970                      8 Ball Pool     GAME     4.5  14201604.0  52M   \n",
       "1755                      8 Ball Pool     GAME     4.5  14200344.0  52M   \n",
       "1844                      8 Ball Pool     GAME     4.5  14200550.0  52M   \n",
       "3953                      8 Ball Pool   SPORTS     4.5  14184910.0  52M   \n",
       "1871                      8 Ball Pool     GAME     4.5  14201891.0  52M   \n",
       "662   95Live -SG#1 Live Streaming App   DATING     4.1      4954.0  15M   \n",
       "\n",
       "          Installs  Type Price Content  Rating  Genres    Last Updated  \\\n",
       "5415   10,000,000+  Free     0        Everyone  Sports   July 29, 2018   \n",
       "3083   10,000,000+  Free     0        Everyone  Sports   July 29, 2018   \n",
       "1703  100,000,000+  Free     0        Everyone  Sports   July 31, 2018   \n",
       "1675  100,000,000+  Free     0        Everyone  Sports   July 31, 2018   \n",
       "1970  100,000,000+  Free     0        Everyone  Sports   July 31, 2018   \n",
       "1755  100,000,000+  Free     0        Everyone  Sports   July 31, 2018   \n",
       "1844  100,000,000+  Free     0        Everyone  Sports   July 31, 2018   \n",
       "3953  100,000,000+  Free     0        Everyone  Sports   July 31, 2018   \n",
       "1871  100,000,000+  Free     0        Everyone  Sports   July 31, 2018   \n",
       "662     1,000,000+  Free     0            Teen  Dating  August 1, 2018   \n",
       "\n",
       "     Current Ver   Android Ver  Reviews Numeric  \n",
       "5415       5.5.9    4.1 and up         666246.0  \n",
       "3083       5.5.9    4.1 and up         666521.0  \n",
       "1703       4.0.0  4.0.3 and up       14198602.0  \n",
       "1675       4.0.0  4.0.3 and up       14198297.0  \n",
       "1970       4.0.0  4.0.3 and up       14201604.0  \n",
       "1755       4.0.0  4.0.3 and up       14200344.0  \n",
       "1844       4.0.0  4.0.3 and up       14200550.0  \n",
       "3953       4.0.0  4.0.3 and up       14184910.0  \n",
       "1871       4.0.0  4.0.3 and up       14201891.0  \n",
       "662        8.7.2    4.2 and up           4954.0  "
      ]
     },
     "execution_count": 35,
     "metadata": {},
     "output_type": "execute_result"
    }
   ],
   "source": [
    "df.loc[df.duplicated(subset=['App'], keep=False) & ~df.duplicated(keep=False)].sort_values(by=['App']).head(10)"
   ]
  },
  {
   "cell_type": "code",
   "execution_count": 36,
   "id": "8d5a2018-ecfd-4fc5-9e7e-6aafb78b4488",
   "metadata": {
    "tags": []
   },
   "outputs": [],
   "source": [
    "# df_copy_5 = df.copy()"
   ]
  },
  {
   "cell_type": "code",
   "execution_count": 37,
   "id": "e2d2fc97-cb9e-4543-b87a-513bc3d7607e",
   "metadata": {
    "tags": []
   },
   "outputs": [],
   "source": [
    "del df['Reviews Numeric']"
   ]
  },
  {
   "cell_type": "code",
   "execution_count": 38,
   "id": "44ab6a42-bc2b-4c60-a027-b764715665a0",
   "metadata": {
    "tags": []
   },
   "outputs": [],
   "source": [
    "df.sort_values(by=['App', 'Reviews'], inplace = True)"
   ]
  },
  {
   "cell_type": "code",
   "execution_count": 39,
   "id": "77ad2d83-a9b7-417b-9df9-9dbf1a366ea1",
   "metadata": {
    "tags": []
   },
   "outputs": [],
   "source": [
    "df.drop_duplicates(subset = ['App'], keep='last', inplace=True)"
   ]
  },
  {
   "cell_type": "markdown",
   "id": "5ba05a47",
   "metadata": {},
   "source": [
    "### 6. Format the **Category** column"
   ]
  },
  {
   "cell_type": "code",
   "execution_count": 40,
   "id": "e71b5485-b18e-42db-a67f-e47957ab0f7c",
   "metadata": {
    "tags": []
   },
   "outputs": [
    {
     "data": {
      "text/plain": [
       "Category\n",
       "FAMILY                 1869\n",
       "GAME                    943\n",
       "TOOLS                   824\n",
       "BUSINESS                415\n",
       "MEDICAL                 394\n",
       "PERSONALIZATION         374\n",
       "PRODUCTIVITY            372\n",
       "LIFESTYLE               368\n",
       "FINANCE                 344\n",
       "SPORTS                  325\n",
       "COMMUNICATION           315\n",
       "HEALTH_AND_FITNESS      288\n",
       "PHOTOGRAPHY             279\n",
       "NEWS_AND_MAGAZINES      254\n",
       "SOCIAL                  239\n",
       "BOOKS_AND_REFERENCE     221\n",
       "TRAVEL_AND_LOCAL        218\n",
       "SHOPPING                201\n",
       "DATING                  169\n",
       "VIDEO_PLAYERS           164\n",
       "MAPS_AND_NAVIGATION     130\n",
       "FOOD_AND_DRINK          112\n",
       "EDUCATION               105\n",
       "ENTERTAINMENT            86\n",
       "AUTO_AND_VEHICLES        84\n",
       "LIBRARIES_AND_DEMO       83\n",
       "WEATHER                  79\n",
       "HOUSE_AND_HOME           73\n",
       "EVENTS                   64\n",
       "ART_AND_DESIGN           59\n",
       "PARENTING                59\n",
       "COMICS                   56\n",
       "BEAUTY                   53\n",
       "Name: count, dtype: int64"
      ]
     },
     "execution_count": 40,
     "metadata": {},
     "output_type": "execute_result"
    }
   ],
   "source": [
    "df['Category'].value_counts()"
   ]
  },
  {
   "cell_type": "code",
   "execution_count": 41,
   "id": "405fb31f-aa65-4682-9864-aefc195053e5",
   "metadata": {
    "tags": []
   },
   "outputs": [],
   "source": [
    "df['Category'] = df['Category'].str.replace('_', ' ') "
   ]
  },
  {
   "cell_type": "code",
   "execution_count": 42,
   "id": "96cd47c5-6b01-4ec8-9bf9-1acb0e089cd5",
   "metadata": {
    "tags": []
   },
   "outputs": [],
   "source": [
    "df['Category'] = df['Category'].str.capitalize() "
   ]
  },
  {
   "cell_type": "markdown",
   "id": "37888cb2",
   "metadata": {},
   "source": [
    "### 7. Clean & convert the **Installs** column to numeric type"
   ]
  },
  {
   "cell_type": "code",
   "execution_count": 43,
   "id": "b2f4d07f-b969-4e52-9090-ad8ee2c52a5a",
   "metadata": {
    "tags": []
   },
   "outputs": [
    {
     "data": {
      "text/plain": [
       "8884          500+\n",
       "8532    1,000,000+\n",
       "324        10,000+\n",
       "4541       10,000+\n",
       "4636       10,000+\n",
       "Name: Installs, dtype: object"
      ]
     },
     "execution_count": 43,
     "metadata": {},
     "output_type": "execute_result"
    }
   ],
   "source": [
    "df['Installs'].head(5)"
   ]
  },
  {
   "cell_type": "code",
   "execution_count": 44,
   "id": "4d01fa2b-60fa-4ed2-b72d-92da6664c590",
   "metadata": {
    "tags": []
   },
   "outputs": [],
   "source": [
    "df['Installs'] = pd.to_numeric(df['Installs'].str.replace('+', '').str.replace(',', ''))"
   ]
  },
  {
   "cell_type": "markdown",
   "id": "b57d228d",
   "metadata": {},
   "source": [
    "### 8. Clean & convert the **Size** column to numeric (bytes)"
   ]
  },
  {
   "cell_type": "code",
   "execution_count": 46,
   "id": "18d8dae8-2935-4114-a2de-6363d39c3e1c",
   "metadata": {
    "tags": []
   },
   "outputs": [
    {
     "data": {
      "text/html": [
       "<div>\n",
       "<style scoped>\n",
       "    .dataframe tbody tr th:only-of-type {\n",
       "        vertical-align: middle;\n",
       "    }\n",
       "\n",
       "    .dataframe tbody tr th {\n",
       "        vertical-align: top;\n",
       "    }\n",
       "\n",
       "    .dataframe thead th {\n",
       "        text-align: right;\n",
       "    }\n",
       "</style>\n",
       "<table border=\"1\" class=\"dataframe\">\n",
       "  <thead>\n",
       "    <tr style=\"text-align: right;\">\n",
       "      <th></th>\n",
       "      <th>App</th>\n",
       "      <th>Category</th>\n",
       "      <th>Rating</th>\n",
       "      <th>Reviews</th>\n",
       "      <th>Size</th>\n",
       "      <th>Installs</th>\n",
       "      <th>Type</th>\n",
       "      <th>Price</th>\n",
       "      <th>Content  Rating</th>\n",
       "      <th>Genres</th>\n",
       "      <th>Last Updated</th>\n",
       "      <th>Current Ver</th>\n",
       "      <th>Android Ver</th>\n",
       "    </tr>\n",
       "  </thead>\n",
       "  <tbody>\n",
       "    <tr>\n",
       "      <th>8884</th>\n",
       "      <td>\"i DT\" Fútbol. Todos Somos Técnicos.</td>\n",
       "      <td>Sports</td>\n",
       "      <td>4.191647</td>\n",
       "      <td>27.0</td>\n",
       "      <td>3.6M</td>\n",
       "      <td>500</td>\n",
       "      <td>Free</td>\n",
       "      <td>0</td>\n",
       "      <td>Everyone</td>\n",
       "      <td>Sports</td>\n",
       "      <td>October 7, 2017</td>\n",
       "      <td>0.22</td>\n",
       "      <td>4.1 and up</td>\n",
       "    </tr>\n",
       "    <tr>\n",
       "      <th>8532</th>\n",
       "      <td>+Download 4 Instagram Twitter</td>\n",
       "      <td>Social</td>\n",
       "      <td>4.500000</td>\n",
       "      <td>40467.0</td>\n",
       "      <td>22M</td>\n",
       "      <td>1000000</td>\n",
       "      <td>Free</td>\n",
       "      <td>$0</td>\n",
       "      <td>Everyone</td>\n",
       "      <td>Social</td>\n",
       "      <td>August 2, 2018</td>\n",
       "      <td>5.03</td>\n",
       "      <td>4.1 and up</td>\n",
       "    </tr>\n",
       "    <tr>\n",
       "      <th>324</th>\n",
       "      <td>- Free Comics - Comic Apps</td>\n",
       "      <td>Comics</td>\n",
       "      <td>3.500000</td>\n",
       "      <td>115.0</td>\n",
       "      <td>9.1M</td>\n",
       "      <td>10000</td>\n",
       "      <td>Free</td>\n",
       "      <td>0</td>\n",
       "      <td>Mature 17+</td>\n",
       "      <td>Comics</td>\n",
       "      <td>July 13, 2018</td>\n",
       "      <td>5.0.12</td>\n",
       "      <td>5.0 and up</td>\n",
       "    </tr>\n",
       "    <tr>\n",
       "      <th>4541</th>\n",
       "      <td>.R</td>\n",
       "      <td>Tools</td>\n",
       "      <td>4.500000</td>\n",
       "      <td>259.0</td>\n",
       "      <td>203k</td>\n",
       "      <td>10000</td>\n",
       "      <td>Free</td>\n",
       "      <td>0</td>\n",
       "      <td>Everyone</td>\n",
       "      <td>Tools</td>\n",
       "      <td>September 16, 2014</td>\n",
       "      <td>1.1.06</td>\n",
       "      <td>1.5 and up</td>\n",
       "    </tr>\n",
       "    <tr>\n",
       "      <th>4636</th>\n",
       "      <td>/u/app</td>\n",
       "      <td>Communication</td>\n",
       "      <td>4.700000</td>\n",
       "      <td>573.0</td>\n",
       "      <td>53M</td>\n",
       "      <td>10000</td>\n",
       "      <td>Free</td>\n",
       "      <td>0</td>\n",
       "      <td>Mature 17+</td>\n",
       "      <td>Communication</td>\n",
       "      <td>July 3, 2018</td>\n",
       "      <td>4.2.4</td>\n",
       "      <td>4.1 and up</td>\n",
       "    </tr>\n",
       "  </tbody>\n",
       "</table>\n",
       "</div>"
      ],
      "text/plain": [
       "                                       App       Category    Rating  Reviews  \\\n",
       "8884  \"i DT\" Fútbol. Todos Somos Técnicos.         Sports  4.191647     27.0   \n",
       "8532         +Download 4 Instagram Twitter         Social  4.500000  40467.0   \n",
       "324             - Free Comics - Comic Apps         Comics  3.500000    115.0   \n",
       "4541                                    .R          Tools  4.500000    259.0   \n",
       "4636                                /u/app  Communication  4.700000    573.0   \n",
       "\n",
       "      Size  Installs  Type Price Content  Rating         Genres  \\\n",
       "8884  3.6M       500  Free     0        Everyone         Sports   \n",
       "8532   22M   1000000  Free    $0        Everyone         Social   \n",
       "324   9.1M     10000  Free     0      Mature 17+         Comics   \n",
       "4541  203k     10000  Free     0        Everyone          Tools   \n",
       "4636   53M     10000  Free     0      Mature 17+  Communication   \n",
       "\n",
       "            Last Updated Current Ver Android Ver  \n",
       "8884     October 7, 2017        0.22  4.1 and up  \n",
       "8532      August 2, 2018        5.03  4.1 and up  \n",
       "324        July 13, 2018      5.0.12  5.0 and up  \n",
       "4541  September 16, 2014      1.1.06  1.5 and up  \n",
       "4636        July 3, 2018       4.2.4  4.1 and up  "
      ]
     },
     "execution_count": 46,
     "metadata": {},
     "output_type": "execute_result"
    }
   ],
   "source": [
    "df.head()"
   ]
  },
  {
   "cell_type": "code",
   "execution_count": 47,
   "id": "0181f46e-325b-4eb1-880f-a52116acbddf",
   "metadata": {
    "tags": []
   },
   "outputs": [],
   "source": [
    "# df_copy_8 = df.copy()"
   ]
  },
  {
   "cell_type": "code",
   "execution_count": 48,
   "id": "74d16fbc-03d1-4269-b6e1-bf29f63dae58",
   "metadata": {
    "tags": []
   },
   "outputs": [],
   "source": [
    "import re\n",
    "\n",
    "def size_to_bytes(text):\n",
    "\n",
    "    # -------------------------------------------------------------------- #\n",
    "    if text is None or pd.isna(text):\n",
    "        return pd.NA\n",
    "\n",
    "    s = str(text).strip().replace(',', '')         \n",
    "    if s == '' or s.lower() in {'varies with device', 'na'}:\n",
    "        return pd.NA\n",
    "\n",
    "    m = re.match(r'^([0-9]*\\.?[0-9]+)\\s*([kmg]?)(b)?$', s, flags=re.I)\n",
    "    if not m:\n",
    "        return pd.NA\n",
    "\n",
    "    value, unit, _ = m.groups()\n",
    "    value = float(value)\n",
    "    unit  = unit.lower()\n",
    "\n",
    "    factor = {'k': 1024,\n",
    "              'm': 1024 ** 2,\n",
    "              'g': 1024 ** 3,\n",
    "              '':  1}              \n",
    "\n",
    "    return int(round(value * factor[unit]))\n",
    "\n",
    "# -------------------------------------------------------------------------\n",
    "df['Size'] = df['Size'].apply(size_to_bytes).astype('Int64')"
   ]
  },
  {
   "cell_type": "code",
   "execution_count": 49,
   "id": "6dd4b859-a036-4365-8841-dbd5cbf87bbe",
   "metadata": {
    "tags": []
   },
   "outputs": [
    {
     "data": {
      "text/plain": [
       "8884     3774874\n",
       "8532    23068672\n",
       "324      9542042\n",
       "4541      207872\n",
       "4636    55574528\n",
       "          ...   \n",
       "6334    61865984\n",
       "4362    27262976\n",
       "2575    18874368\n",
       "7559     3355443\n",
       "882      4194304\n",
       "Name: Size, Length: 9619, dtype: Int64"
      ]
     },
     "execution_count": 49,
     "metadata": {},
     "output_type": "execute_result"
    }
   ],
   "source": [
    "df['Size']"
   ]
  },
  {
   "cell_type": "markdown",
   "id": "39893b44-bfaa-48f3-af51-0effb87a43fa",
   "metadata": {},
   "source": [
    "### 9. Clean and convert the **price** columnto numeric"
   ]
  },
  {
   "cell_type": "code",
   "execution_count": 50,
   "id": "e7cfefdf-c714-4e8f-82be-b200d43c09e9",
   "metadata": {
    "tags": []
   },
   "outputs": [],
   "source": [
    "price_clean = (\n",
    "    df['Price']\n",
    "      .astype(str)                               \n",
    "      .str.strip()                                \n",
    "      .str.replace(r'(?i)^free$', '0',  regex=True)   \n",
    "      .str.replace(r'(?i)^usd\\s*',  '', regex=True)   \n",
    "      .str.replace(r'[$£]',          '', regex=True)  \n",
    ")\n",
    "\n",
    "df['Price'] = pd.to_numeric(price_clean, errors='coerce')   "
   ]
  },
  {
   "cell_type": "code",
   "execution_count": 51,
   "id": "f323bb5a-50aa-4d83-9d2d-1c66a782faa5",
   "metadata": {
    "tags": []
   },
   "outputs": [],
   "source": [
    "df['Price'] = pd.to_numeric(\n",
    "    df['Price'].astype('string').str.replace('$', '', regex=False),\n",
    "    errors='coerce'\n",
    ")"
   ]
  },
  {
   "cell_type": "code",
   "execution_count": 52,
   "id": "b40c85d1-f5fd-4a63-9d66-1c3332324237",
   "metadata": {
    "tags": []
   },
   "outputs": [],
   "source": [
    "size_numeric = df['Size'].apply(size_to_bytes)      \n",
    "\n",
    "df['Size'] = np.where(\n",
    "    size_numeric.notna(),                \n",
    "    size_numeric.astype('Int64'),        \n",
    "    'Varies with device'                 \n",
    ").astype('object')                       "
   ]
  },
  {
   "cell_type": "markdown",
   "id": "ccb03790",
   "metadata": {},
   "source": [
    "### 10. **Paid or free?**"
   ]
  },
  {
   "cell_type": "code",
   "execution_count": 53,
   "id": "dca7346b-42ea-4f12-b14b-bc216e7b1322",
   "metadata": {
    "tags": []
   },
   "outputs": [],
   "source": [
    "df['Distribution'] = 'Free'"
   ]
  },
  {
   "cell_type": "code",
   "execution_count": 54,
   "id": "6811a0ec-2366-458e-80e9-4b0ab61ed008",
   "metadata": {
    "tags": []
   },
   "outputs": [],
   "source": [
    "df.loc[df['Price'] > 0, 'Distribution'] = 'Paid'"
   ]
  },
  {
   "cell_type": "markdown",
   "id": "30629b6c",
   "metadata": {},
   "source": [
    "## Analysis"
   ]
  },
  {
   "cell_type": "markdown",
   "id": "cb2b60dd",
   "metadata": {},
   "source": [
    "### 11. Which app has the most reviews?"
   ]
  },
  {
   "cell_type": "code",
   "execution_count": 55,
   "id": "ea3873c0",
   "metadata": {},
   "outputs": [
    {
     "data": {
      "text/html": [
       "<div>\n",
       "<style scoped>\n",
       "    .dataframe tbody tr th:only-of-type {\n",
       "        vertical-align: middle;\n",
       "    }\n",
       "\n",
       "    .dataframe tbody tr th {\n",
       "        vertical-align: top;\n",
       "    }\n",
       "\n",
       "    .dataframe thead th {\n",
       "        text-align: right;\n",
       "    }\n",
       "</style>\n",
       "<table border=\"1\" class=\"dataframe\">\n",
       "  <thead>\n",
       "    <tr style=\"text-align: right;\">\n",
       "      <th></th>\n",
       "      <th>App</th>\n",
       "      <th>Category</th>\n",
       "      <th>Rating</th>\n",
       "      <th>Reviews</th>\n",
       "      <th>Size</th>\n",
       "      <th>Installs</th>\n",
       "      <th>Type</th>\n",
       "      <th>Price</th>\n",
       "      <th>Content  Rating</th>\n",
       "      <th>Genres</th>\n",
       "      <th>Last Updated</th>\n",
       "      <th>Current Ver</th>\n",
       "      <th>Android Ver</th>\n",
       "      <th>Distribution</th>\n",
       "    </tr>\n",
       "  </thead>\n",
       "  <tbody>\n",
       "    <tr>\n",
       "      <th>2544</th>\n",
       "      <td>Facebook</td>\n",
       "      <td>Social</td>\n",
       "      <td>4.1</td>\n",
       "      <td>78158306.0</td>\n",
       "      <td>Varies with device</td>\n",
       "      <td>1000000000</td>\n",
       "      <td>Free</td>\n",
       "      <td>0.0</td>\n",
       "      <td>Teen</td>\n",
       "      <td>Social</td>\n",
       "      <td>August 3, 2018</td>\n",
       "      <td>Varies with device</td>\n",
       "      <td>Varies with device</td>\n",
       "      <td>Free</td>\n",
       "    </tr>\n",
       "  </tbody>\n",
       "</table>\n",
       "</div>"
      ],
      "text/plain": [
       "           App Category  Rating     Reviews                Size    Installs  \\\n",
       "2544  Facebook   Social     4.1  78158306.0  Varies with device  1000000000   \n",
       "\n",
       "      Type  Price Content  Rating  Genres    Last Updated         Current Ver  \\\n",
       "2544  Free    0.0            Teen  Social  August 3, 2018  Varies with device   \n",
       "\n",
       "             Android Ver Distribution  \n",
       "2544  Varies with device         Free  "
      ]
     },
     "execution_count": 55,
     "metadata": {},
     "output_type": "execute_result"
    }
   ],
   "source": [
    "df.sort_values('Reviews',ascending=False).head(1)"
   ]
  },
  {
   "cell_type": "markdown",
   "id": "724a3c6c",
   "metadata": {},
   "source": [
    "### 12. What category has the highest number of apps uploaded to the store?"
   ]
  },
  {
   "cell_type": "code",
   "execution_count": 56,
   "id": "2666c140",
   "metadata": {},
   "outputs": [
    {
     "data": {
      "text/plain": [
       "Category\n",
       "Family                 1869\n",
       "Game                    943\n",
       "Tools                   824\n",
       "Business                415\n",
       "Medical                 394\n",
       "Personalization         374\n",
       "Productivity            372\n",
       "Lifestyle               368\n",
       "Finance                 344\n",
       "Sports                  325\n",
       "Communication           315\n",
       "Health and fitness      288\n",
       "Photography             279\n",
       "News and magazines      254\n",
       "Social                  239\n",
       "Books and reference     221\n",
       "Travel and local        218\n",
       "Shopping                201\n",
       "Dating                  169\n",
       "Video players           164\n",
       "Maps and navigation     130\n",
       "Food and drink          112\n",
       "Education               105\n",
       "Entertainment            86\n",
       "Auto and vehicles        84\n",
       "Libraries and demo       83\n",
       "Weather                  79\n",
       "House and home           73\n",
       "Events                   64\n",
       "Art and design           59\n",
       "Parenting                59\n",
       "Comics                   56\n",
       "Beauty                   53\n",
       "Name: count, dtype: int64"
      ]
     },
     "execution_count": 56,
     "metadata": {},
     "output_type": "execute_result"
    }
   ],
   "source": [
    "df['Category'].value_counts()\n"
   ]
  },
  {
   "cell_type": "code",
   "execution_count": 57,
   "id": "f624f3f2-01e5-46d7-889b-55c339dcd55b",
   "metadata": {},
   "outputs": [],
   "source": [
    "# A12 = Family"
   ]
  },
  {
   "cell_type": "markdown",
   "id": "949c736a",
   "metadata": {},
   "source": [
    "### 13. To which category belongs the most expensive app?"
   ]
  },
  {
   "cell_type": "code",
   "execution_count": 58,
   "id": "a61f5671",
   "metadata": {},
   "outputs": [
    {
     "data": {
      "text/html": [
       "<div>\n",
       "<style scoped>\n",
       "    .dataframe tbody tr th:only-of-type {\n",
       "        vertical-align: middle;\n",
       "    }\n",
       "\n",
       "    .dataframe tbody tr th {\n",
       "        vertical-align: top;\n",
       "    }\n",
       "\n",
       "    .dataframe thead th {\n",
       "        text-align: right;\n",
       "    }\n",
       "</style>\n",
       "<table border=\"1\" class=\"dataframe\">\n",
       "  <thead>\n",
       "    <tr style=\"text-align: right;\">\n",
       "      <th></th>\n",
       "      <th>App</th>\n",
       "      <th>Category</th>\n",
       "      <th>Price</th>\n",
       "    </tr>\n",
       "  </thead>\n",
       "  <tbody>\n",
       "    <tr>\n",
       "      <th>4367</th>\n",
       "      <td>I'm Rich - Trump Edition</td>\n",
       "      <td>Lifestyle</td>\n",
       "      <td>400.0</td>\n",
       "    </tr>\n",
       "  </tbody>\n",
       "</table>\n",
       "</div>"
      ],
      "text/plain": [
       "                           App   Category  Price\n",
       "4367  I'm Rich - Trump Edition  Lifestyle  400.0"
      ]
     },
     "execution_count": 58,
     "metadata": {},
     "output_type": "execute_result"
    }
   ],
   "source": [
    "df.sort_values('Price', ascending =False).head(1)[['App', 'Category', 'Price']]"
   ]
  },
  {
   "cell_type": "code",
   "execution_count": 59,
   "id": "518d503e-361b-4279-9044-d3d643d09956",
   "metadata": {
    "tags": []
   },
   "outputs": [
    {
     "data": {
      "text/html": [
       "<div>\n",
       "<style scoped>\n",
       "    .dataframe tbody tr th:only-of-type {\n",
       "        vertical-align: middle;\n",
       "    }\n",
       "\n",
       "    .dataframe tbody tr th {\n",
       "        vertical-align: top;\n",
       "    }\n",
       "\n",
       "    .dataframe thead th {\n",
       "        text-align: right;\n",
       "    }\n",
       "</style>\n",
       "<table border=\"1\" class=\"dataframe\">\n",
       "  <thead>\n",
       "    <tr style=\"text-align: right;\">\n",
       "      <th></th>\n",
       "      <th>Category</th>\n",
       "    </tr>\n",
       "  </thead>\n",
       "  <tbody>\n",
       "    <tr>\n",
       "      <th>4367</th>\n",
       "      <td>Lifestyle</td>\n",
       "    </tr>\n",
       "  </tbody>\n",
       "</table>\n",
       "</div>"
      ],
      "text/plain": [
       "       Category\n",
       "4367  Lifestyle"
      ]
     },
     "execution_count": 59,
     "metadata": {},
     "output_type": "execute_result"
    }
   ],
   "source": [
    "df.sort_values('Price', ascending =False).head(1)[['Category']]"
   ]
  },
  {
   "cell_type": "markdown",
   "id": "921a1310",
   "metadata": {},
   "source": [
    "### 14. What’s the name of the most expensive game?"
   ]
  },
  {
   "cell_type": "code",
   "execution_count": 60,
   "id": "c4b15b25",
   "metadata": {},
   "outputs": [
    {
     "data": {
      "text/html": [
       "<div>\n",
       "<style scoped>\n",
       "    .dataframe tbody tr th:only-of-type {\n",
       "        vertical-align: middle;\n",
       "    }\n",
       "\n",
       "    .dataframe tbody tr th {\n",
       "        vertical-align: top;\n",
       "    }\n",
       "\n",
       "    .dataframe thead th {\n",
       "        text-align: right;\n",
       "    }\n",
       "</style>\n",
       "<table border=\"1\" class=\"dataframe\">\n",
       "  <thead>\n",
       "    <tr style=\"text-align: right;\">\n",
       "      <th></th>\n",
       "      <th>App</th>\n",
       "    </tr>\n",
       "  </thead>\n",
       "  <tbody>\n",
       "    <tr>\n",
       "      <th>4203</th>\n",
       "      <td>The World Ends With You</td>\n",
       "    </tr>\n",
       "  </tbody>\n",
       "</table>\n",
       "</div>"
      ],
      "text/plain": [
       "                          App\n",
       "4203  The World Ends With You"
      ]
     },
     "execution_count": 60,
     "metadata": {},
     "output_type": "execute_result"
    }
   ],
   "source": [
    "df[df['Category'] == 'Game'].sort_values('Price', ascending = False)[['App']].head(1)"
   ]
  },
  {
   "cell_type": "markdown",
   "id": "a82f757b",
   "metadata": {},
   "source": [
    "### 15. Which is the most popular Finance app (most installs)?"
   ]
  },
  {
   "cell_type": "code",
   "execution_count": 61,
   "id": "d96c5af2",
   "metadata": {},
   "outputs": [
    {
     "data": {
      "text/html": [
       "<div>\n",
       "<style scoped>\n",
       "    .dataframe tbody tr th:only-of-type {\n",
       "        vertical-align: middle;\n",
       "    }\n",
       "\n",
       "    .dataframe tbody tr th {\n",
       "        vertical-align: top;\n",
       "    }\n",
       "\n",
       "    .dataframe thead th {\n",
       "        text-align: right;\n",
       "    }\n",
       "</style>\n",
       "<table border=\"1\" class=\"dataframe\">\n",
       "  <thead>\n",
       "    <tr style=\"text-align: right;\">\n",
       "      <th></th>\n",
       "      <th>App</th>\n",
       "      <th>Installs</th>\n",
       "    </tr>\n",
       "  </thead>\n",
       "  <tbody>\n",
       "    <tr>\n",
       "      <th>5601</th>\n",
       "      <td>Google Pay</td>\n",
       "      <td>100000000</td>\n",
       "    </tr>\n",
       "  </tbody>\n",
       "</table>\n",
       "</div>"
      ],
      "text/plain": [
       "             App   Installs\n",
       "5601  Google Pay  100000000"
      ]
     },
     "execution_count": 61,
     "metadata": {},
     "output_type": "execute_result"
    }
   ],
   "source": [
    "df[df['Category'] == 'Finance'].sort_values('Installs', ascending = False)[['App', 'Installs']].head(1)"
   ]
  },
  {
   "cell_type": "markdown",
   "id": "f1ec5f8a",
   "metadata": {},
   "source": [
    "### 16. What **Teen** game has the most reviews?"
   ]
  },
  {
   "cell_type": "code",
   "execution_count": 62,
   "id": "bd9ee5c7-06a1-45ce-888d-07d9edb60aea",
   "metadata": {
    "tags": []
   },
   "outputs": [],
   "source": [
    "df.columns = df.columns.str.replace(r'\\s+', ' ', regex=True).str.strip()"
   ]
  },
  {
   "cell_type": "code",
   "execution_count": 67,
   "id": "bb9c1063",
   "metadata": {},
   "outputs": [
    {
     "data": {
      "text/html": [
       "<div>\n",
       "<style scoped>\n",
       "    .dataframe tbody tr th:only-of-type {\n",
       "        vertical-align: middle;\n",
       "    }\n",
       "\n",
       "    .dataframe tbody tr th {\n",
       "        vertical-align: top;\n",
       "    }\n",
       "\n",
       "    .dataframe thead th {\n",
       "        text-align: right;\n",
       "    }\n",
       "</style>\n",
       "<table border=\"1\" class=\"dataframe\">\n",
       "  <thead>\n",
       "    <tr style=\"text-align: right;\">\n",
       "      <th></th>\n",
       "      <th>App</th>\n",
       "      <th>Reviews</th>\n",
       "      <th>Category</th>\n",
       "      <th>Content Rating</th>\n",
       "    </tr>\n",
       "  </thead>\n",
       "  <tbody>\n",
       "    <tr>\n",
       "      <th>3912</th>\n",
       "      <td>Asphalt 8: Airborne</td>\n",
       "      <td>8389714.0</td>\n",
       "      <td>Game</td>\n",
       "      <td>Teen</td>\n",
       "    </tr>\n",
       "  </tbody>\n",
       "</table>\n",
       "</div>"
      ],
      "text/plain": [
       "                      App    Reviews Category Content Rating\n",
       "3912  Asphalt 8: Airborne  8389714.0     Game           Teen"
      ]
     },
     "execution_count": 67,
     "metadata": {},
     "output_type": "execute_result"
    }
   ],
   "source": [
    "df[(df['Content Rating'].str.contains('Teen')) & (df['Category'].str.contains('Game'))].sort_values('Reviews', ascending=False).head(1)[['App', 'Reviews' ,'Category','Content Rating']]"
   ]
  },
  {
   "cell_type": "markdown",
   "id": "1189f603",
   "metadata": {},
   "source": [
    "### 17. Which is the free game with the most reviews?"
   ]
  },
  {
   "cell_type": "code",
   "execution_count": 71,
   "id": "24e65d6a-30d8-4f4b-a59b-9a6907de15c0",
   "metadata": {
    "tags": []
   },
   "outputs": [
    {
     "data": {
      "text/html": [
       "<div>\n",
       "<style scoped>\n",
       "    .dataframe tbody tr th:only-of-type {\n",
       "        vertical-align: middle;\n",
       "    }\n",
       "\n",
       "    .dataframe tbody tr th {\n",
       "        vertical-align: top;\n",
       "    }\n",
       "\n",
       "    .dataframe thead th {\n",
       "        text-align: right;\n",
       "    }\n",
       "</style>\n",
       "<table border=\"1\" class=\"dataframe\">\n",
       "  <thead>\n",
       "    <tr style=\"text-align: right;\">\n",
       "      <th></th>\n",
       "      <th>App</th>\n",
       "      <th>Reviews</th>\n",
       "      <th>Genres</th>\n",
       "      <th>Distribution</th>\n",
       "    </tr>\n",
       "  </thead>\n",
       "  <tbody>\n",
       "    <tr>\n",
       "      <th>1879</th>\n",
       "      <td>Clash of Clans</td>\n",
       "      <td>44893888.0</td>\n",
       "      <td>Strategy</td>\n",
       "      <td>Free</td>\n",
       "    </tr>\n",
       "  </tbody>\n",
       "</table>\n",
       "</div>"
      ],
      "text/plain": [
       "                 App     Reviews    Genres Distribution\n",
       "1879  Clash of Clans  44893888.0  Strategy         Free"
      ]
     },
     "execution_count": 71,
     "metadata": {},
     "output_type": "execute_result"
    }
   ],
   "source": [
    "df[(df['Distribution'].str.contains('Free')) & (df['Category'].str.contains('Game'))].sort_values('Reviews', ascending = False).head(1)[['App', 'Reviews', 'Genres','Distribution']]"
   ]
  },
  {
   "cell_type": "markdown",
   "id": "b1baf2e4",
   "metadata": {},
   "source": [
    "### 18. How many **TiB** (tebibytes) were transferred overall for the most popular Lifestyle app? (size × installs → convert)"
   ]
  },
  {
   "cell_type": "code",
   "execution_count": 83,
   "id": "b877c025",
   "metadata": {},
   "outputs": [
    {
     "data": {
      "text/plain": [
       "App                       Tinder\n",
       "Category               Lifestyle\n",
       "Rating                       4.0\n",
       "Reviews                2789775.0\n",
       "Size                    71303168\n",
       "Installs               100000000\n",
       "Type                        Free\n",
       "Price                        0.0\n",
       "Content Rating        Mature 17+\n",
       "Genres                 Lifestyle\n",
       "Last Updated      August 2, 2018\n",
       "Current Ver                9.5.0\n",
       "Android Ver           4.4 and up\n",
       "Distribution                Free\n",
       "Name: 4587, dtype: object"
      ]
     },
     "execution_count": 83,
     "metadata": {},
     "output_type": "execute_result"
    }
   ],
   "source": [
    "app = df.query(\"Category == 'Lifestyle' \").sort_values('Installs', ascending= False).iloc[0]\n",
    "app"
   ]
  },
  {
   "cell_type": "code",
   "execution_count": 85,
   "id": "93dba749-8760-4da5-a436-0d912d74c865",
   "metadata": {
    "tags": []
   },
   "outputs": [
    {
     "data": {
      "text/plain": [
       "6484.9853515625"
      ]
     },
     "execution_count": 85,
     "metadata": {},
     "output_type": "execute_result"
    }
   ],
   "source": [
    "A18 = (app['Installs'] * app['Size']) / (1024 * 1024 * 1024 *1024)\n",
    "A18"
   ]
  }
 ],
 "metadata": {
  "kernelspec": {
   "display_name": "Python 3 (ipykernel)",
   "language": "python",
   "name": "python3"
  },
  "language_info": {
   "codemirror_mode": {
    "name": "ipython",
    "version": 3
   },
   "file_extension": ".py",
   "mimetype": "text/x-python",
   "name": "python",
   "nbconvert_exporter": "python",
   "pygments_lexer": "ipython3",
   "version": "3.11.5"
  }
 },
 "nbformat": 4,
 "nbformat_minor": 5
}
